{
  "cells": [
    {
      "cell_type": "code",
      "execution_count": 55,
      "metadata": {
        "id": "nD8r-RSknIhX"
      },
      "outputs": [],
      "source": [
        "import pandas as pd\n",
        "import numpy as np\n",
        "\n",
        "# Import libraries\n",
        "import pandas as pd\n",
        "from sklearn.ensemble import RandomForestClassifier\n",
        "from sklearn.model_selection import train_test_split\n",
        "from sklearn.metrics import accuracy_score\n",
        "import joblib"
      ]
    },
    {
      "cell_type": "markdown",
      "metadata": {
        "id": "i3rxA8dBnvId"
      },
      "source": [
        "#LOADING CSV FILES"
      ]
    },
    {
      "cell_type": "code",
      "execution_count": 86,
      "metadata": {
        "id": "jLnxzVUnngrA"
      },
      "outputs": [],
      "source": [
        "\n",
        "songs_df = pd.read_csv('D:\\\\snap_tune_final\\\\snap_tune_project\\\\archive\\\\songs_with_audio_feature.csv')  # Song data\n",
        "artists_df = pd.read_csv('D:\\\\snap_tune_final\\\\snap_tune_project\\\\archive\\\\artists.csv')  # Artist data\n",
        "albums_df = pd.read_csv('D:\\\\snap_tune_final\\\\snap_tune_project\\\\archive\\\\albums.csv')  # Album data"
      ]
    },
    {
      "cell_type": "code",
      "execution_count": 93,
      "metadata": {
        "colab": {
          "base_uri": "https://localhost:8080/",
          "height": 463
        },
        "id": "AoHGufFNoA11",
        "outputId": "92f51c4a-3307-4426-b511-a055728316fe"
      },
      "outputs": [
        {
          "data": {
            "text/html": [
              "<div>\n",
              "<style scoped>\n",
              "    .dataframe tbody tr th:only-of-type {\n",
              "        vertical-align: middle;\n",
              "    }\n",
              "\n",
              "    .dataframe tbody tr th {\n",
              "        vertical-align: top;\n",
              "    }\n",
              "\n",
              "    .dataframe thead th {\n",
              "        text-align: right;\n",
              "    }\n",
              "</style>\n",
              "<table border=\"1\" class=\"dataframe\">\n",
              "  <thead>\n",
              "    <tr style=\"text-align: right;\">\n",
              "      <th></th>\n",
              "      <th>track_id</th>\n",
              "      <th>track_name</th>\n",
              "      <th>album_id</th>\n",
              "      <th>artist_ids</th>\n",
              "      <th>artist_names</th>\n",
              "      <th>valence</th>\n",
              "      <th>year</th>\n",
              "      <th>acousticness</th>\n",
              "      <th>danceability</th>\n",
              "      <th>duration_ms</th>\n",
              "      <th>...</th>\n",
              "      <th>explicit</th>\n",
              "      <th>instrumentalness</th>\n",
              "      <th>key</th>\n",
              "      <th>liveness</th>\n",
              "      <th>loudness</th>\n",
              "      <th>mode</th>\n",
              "      <th>popularity</th>\n",
              "      <th>release_date</th>\n",
              "      <th>speechiness</th>\n",
              "      <th>tempo</th>\n",
              "    </tr>\n",
              "  </thead>\n",
              "  <tbody>\n",
              "    <tr>\n",
              "      <th>0</th>\n",
              "      <td>4BJqT0PrAfrxzMOxytFOIz</td>\n",
              "      <td>Piano Concerto No. 3 in D Minor, Op. 30: III. ...</td>\n",
              "      <td>6UKhQXIboybG7JPka28bZR</td>\n",
              "      <td>['0Kekt6CKSo0m5mivKcoH51', '4qFQgEF1rg6a9WvJM0...</td>\n",
              "      <td>['Sergei Rachmaninoff', 'James Levine', 'Berli...</td>\n",
              "      <td>0.0594</td>\n",
              "      <td>1921</td>\n",
              "      <td>0.982</td>\n",
              "      <td>0.279</td>\n",
              "      <td>831667</td>\n",
              "      <td>...</td>\n",
              "      <td>0</td>\n",
              "      <td>0.878000</td>\n",
              "      <td>10</td>\n",
              "      <td>0.665</td>\n",
              "      <td>-20.096</td>\n",
              "      <td>1</td>\n",
              "      <td>4</td>\n",
              "      <td>1921</td>\n",
              "      <td>0.0366</td>\n",
              "      <td>80.954</td>\n",
              "    </tr>\n",
              "    <tr>\n",
              "      <th>1</th>\n",
              "      <td>7xPhfUan2yNtyFG0cUWkt8</td>\n",
              "      <td>Clancy Lowered the Boom</td>\n",
              "      <td>4LePw1NceheT4selvgH0cE</td>\n",
              "      <td>['0y60qXGlDixlFJcjUU6pwY']</td>\n",
              "      <td>['Dennis Day']</td>\n",
              "      <td>0.9630</td>\n",
              "      <td>1921</td>\n",
              "      <td>0.732</td>\n",
              "      <td>0.819</td>\n",
              "      <td>180533</td>\n",
              "      <td>...</td>\n",
              "      <td>0</td>\n",
              "      <td>0.000000</td>\n",
              "      <td>7</td>\n",
              "      <td>0.160</td>\n",
              "      <td>-12.441</td>\n",
              "      <td>1</td>\n",
              "      <td>5</td>\n",
              "      <td>1921</td>\n",
              "      <td>0.4150</td>\n",
              "      <td>60.936</td>\n",
              "    </tr>\n",
              "    <tr>\n",
              "      <th>2</th>\n",
              "      <td>1o6I8BglA6ylDMrIELygv1</td>\n",
              "      <td>Gati Bali</td>\n",
              "      <td>3kjFZyMpkcTARMXuLrpipj</td>\n",
              "      <td>['7u5sCPrTVbLMZMlogVRZc0']</td>\n",
              "      <td>['KHP Kridhamardawa Karaton Ngayogyakarta Hadi...</td>\n",
              "      <td>0.0394</td>\n",
              "      <td>1921</td>\n",
              "      <td>0.961</td>\n",
              "      <td>0.328</td>\n",
              "      <td>500062</td>\n",
              "      <td>...</td>\n",
              "      <td>0</td>\n",
              "      <td>0.913000</td>\n",
              "      <td>3</td>\n",
              "      <td>0.101</td>\n",
              "      <td>-14.850</td>\n",
              "      <td>1</td>\n",
              "      <td>5</td>\n",
              "      <td>1921</td>\n",
              "      <td>0.0339</td>\n",
              "      <td>110.339</td>\n",
              "    </tr>\n",
              "    <tr>\n",
              "      <th>3</th>\n",
              "      <td>3ftBPsC5vPBKxYSee08FDH</td>\n",
              "      <td>Danny Boy</td>\n",
              "      <td>4LePw1NceheT4selvgH0cE</td>\n",
              "      <td>['1gY7W6RY3EHWRWSv9Dhjqa']</td>\n",
              "      <td>['Frank Parker']</td>\n",
              "      <td>0.1650</td>\n",
              "      <td>1921</td>\n",
              "      <td>0.967</td>\n",
              "      <td>0.275</td>\n",
              "      <td>210000</td>\n",
              "      <td>...</td>\n",
              "      <td>0</td>\n",
              "      <td>0.000028</td>\n",
              "      <td>5</td>\n",
              "      <td>0.381</td>\n",
              "      <td>-9.316</td>\n",
              "      <td>1</td>\n",
              "      <td>3</td>\n",
              "      <td>1921</td>\n",
              "      <td>0.0354</td>\n",
              "      <td>100.109</td>\n",
              "    </tr>\n",
              "    <tr>\n",
              "      <th>4</th>\n",
              "      <td>4d6HGyGT8e121BsdKmw9v6</td>\n",
              "      <td>When Irish Eyes Are Smiling</td>\n",
              "      <td>4LePw1NceheT4selvgH0cE</td>\n",
              "      <td>['08egOYfLsuZvkG0jFN7nUj']</td>\n",
              "      <td>['Phil Regan']</td>\n",
              "      <td>0.2530</td>\n",
              "      <td>1921</td>\n",
              "      <td>0.957</td>\n",
              "      <td>0.418</td>\n",
              "      <td>166693</td>\n",
              "      <td>...</td>\n",
              "      <td>0</td>\n",
              "      <td>0.000002</td>\n",
              "      <td>3</td>\n",
              "      <td>0.229</td>\n",
              "      <td>-10.096</td>\n",
              "      <td>1</td>\n",
              "      <td>2</td>\n",
              "      <td>1921</td>\n",
              "      <td>0.0380</td>\n",
              "      <td>101.665</td>\n",
              "    </tr>\n",
              "  </tbody>\n",
              "</table>\n",
              "<p>5 rows × 21 columns</p>\n",
              "</div>"
            ],
            "text/plain": [
              "                 track_id                                         track_name  \\\n",
              "0  4BJqT0PrAfrxzMOxytFOIz  Piano Concerto No. 3 in D Minor, Op. 30: III. ...   \n",
              "1  7xPhfUan2yNtyFG0cUWkt8                            Clancy Lowered the Boom   \n",
              "2  1o6I8BglA6ylDMrIELygv1                                          Gati Bali   \n",
              "3  3ftBPsC5vPBKxYSee08FDH                                          Danny Boy   \n",
              "4  4d6HGyGT8e121BsdKmw9v6                        When Irish Eyes Are Smiling   \n",
              "\n",
              "                 album_id                                         artist_ids  \\\n",
              "0  6UKhQXIboybG7JPka28bZR  ['0Kekt6CKSo0m5mivKcoH51', '4qFQgEF1rg6a9WvJM0...   \n",
              "1  4LePw1NceheT4selvgH0cE                         ['0y60qXGlDixlFJcjUU6pwY']   \n",
              "2  3kjFZyMpkcTARMXuLrpipj                         ['7u5sCPrTVbLMZMlogVRZc0']   \n",
              "3  4LePw1NceheT4selvgH0cE                         ['1gY7W6RY3EHWRWSv9Dhjqa']   \n",
              "4  4LePw1NceheT4selvgH0cE                         ['08egOYfLsuZvkG0jFN7nUj']   \n",
              "\n",
              "                                        artist_names  valence  year  \\\n",
              "0  ['Sergei Rachmaninoff', 'James Levine', 'Berli...   0.0594  1921   \n",
              "1                                     ['Dennis Day']   0.9630  1921   \n",
              "2  ['KHP Kridhamardawa Karaton Ngayogyakarta Hadi...   0.0394  1921   \n",
              "3                                   ['Frank Parker']   0.1650  1921   \n",
              "4                                     ['Phil Regan']   0.2530  1921   \n",
              "\n",
              "   acousticness  danceability  duration_ms  ...  explicit  instrumentalness  \\\n",
              "0         0.982         0.279       831667  ...         0          0.878000   \n",
              "1         0.732         0.819       180533  ...         0          0.000000   \n",
              "2         0.961         0.328       500062  ...         0          0.913000   \n",
              "3         0.967         0.275       210000  ...         0          0.000028   \n",
              "4         0.957         0.418       166693  ...         0          0.000002   \n",
              "\n",
              "   key  liveness  loudness  mode  popularity  release_date speechiness  \\\n",
              "0   10     0.665   -20.096     1           4          1921      0.0366   \n",
              "1    7     0.160   -12.441     1           5          1921      0.4150   \n",
              "2    3     0.101   -14.850     1           5          1921      0.0339   \n",
              "3    5     0.381    -9.316     1           3          1921      0.0354   \n",
              "4    3     0.229   -10.096     1           2          1921      0.0380   \n",
              "\n",
              "     tempo  \n",
              "0   80.954  \n",
              "1   60.936  \n",
              "2  110.339  \n",
              "3  100.109  \n",
              "4  101.665  \n",
              "\n",
              "[5 rows x 21 columns]"
            ]
          },
          "execution_count": 93,
          "metadata": {},
          "output_type": "execute_result"
        }
      ],
      "source": [
        "songs_df.head()"
      ]
    },
    {
      "cell_type": "code",
      "execution_count": 90,
      "metadata": {
        "colab": {
          "base_uri": "https://localhost:8080/"
        },
        "id": "HhcIqoEQoYy0",
        "outputId": "8a87d318-755d-455b-d2e3-8782a21b9915"
      },
      "outputs": [
        {
          "data": {
            "text/plain": [
              "Index(['track_id', 'track_name', 'album_id', 'artist_ids', 'artist_names',\n",
              "       'valence', 'year', 'acousticness', 'danceability', 'duration_ms',\n",
              "       'energy', 'explicit', 'instrumentalness', 'key', 'liveness', 'loudness',\n",
              "       'mode', 'popularity', 'release_date', 'speechiness', 'tempo'],\n",
              "      dtype='object')"
            ]
          },
          "execution_count": 90,
          "metadata": {},
          "output_type": "execute_result"
        }
      ],
      "source": [
        "songs_df.columns"
      ]
    },
    {
      "cell_type": "code",
      "execution_count": 91,
      "metadata": {},
      "outputs": [
        {
          "data": {
            "text/plain": [
              "artist_ids\n",
              "<class 'str'>    35200\n",
              "Name: count, dtype: int64"
            ]
          },
          "execution_count": 91,
          "metadata": {},
          "output_type": "execute_result"
        }
      ],
      "source": [
        "songs_df['artist_ids'].apply(type).value_counts()\n"
      ]
    },
    {
      "cell_type": "code",
      "execution_count": 80,
      "metadata": {},
      "outputs": [
        {
          "data": {
            "text/plain": [
              "0                         ['Gene Kelly', 'Betty Noyes']\n",
              "1                          ['The All-American Rejects']\n",
              "2                                   ['Thelonious Monk']\n",
              "3                                       ['The Killers']\n",
              "4                              ['Lisa Lisa & Cult Jam']\n",
              "                              ...                      \n",
              "35195                                  ['Percy Sledge']\n",
              "35196                                  ['Dinosaur Jr.']\n",
              "35197    ['Duke Ellington', 'Duke Ellington Orchestra']\n",
              "35198                                      ['Bob Weir']\n",
              "35199                                     ['Jim Croce']\n",
              "Name: artist_names, Length: 35200, dtype: object"
            ]
          },
          "execution_count": 80,
          "metadata": {},
          "output_type": "execute_result"
        }
      ],
      "source": [
        "songs_df['artist_names']"
      ]
    },
    {
      "cell_type": "code",
      "execution_count": 7,
      "metadata": {
        "colab": {
          "base_uri": "https://localhost:8080/"
        },
        "id": "n6UktVzaopxd",
        "outputId": "eed7047c-bb52-4e37-deb5-5cca256c2d43"
      },
      "outputs": [
        {
          "data": {
            "text/plain": [
              "(35200, 21)"
            ]
          },
          "execution_count": 7,
          "metadata": {},
          "output_type": "execute_result"
        }
      ],
      "source": [
        "songs_df.shape"
      ]
    },
    {
      "cell_type": "code",
      "execution_count": 8,
      "metadata": {
        "colab": {
          "base_uri": "https://localhost:8080/"
        },
        "id": "3KqJeM_VRBw_",
        "outputId": "fe691e63-eb9f-4c70-a25f-53db66e28ec1"
      },
      "outputs": [
        {
          "name": "stdout",
          "output_type": "stream",
          "text": [
            "<class 'pandas.core.frame.DataFrame'>\n",
            "RangeIndex: 35200 entries, 0 to 35199\n",
            "Data columns (total 21 columns):\n",
            " #   Column            Non-Null Count  Dtype  \n",
            "---  ------            --------------  -----  \n",
            " 0   track_id          35200 non-null  object \n",
            " 1   track_name        35200 non-null  object \n",
            " 2   album_id          35200 non-null  object \n",
            " 3   artist_ids        35200 non-null  object \n",
            " 4   artist_names      35200 non-null  object \n",
            " 5   valence           35200 non-null  float64\n",
            " 6   year              35200 non-null  int64  \n",
            " 7   acousticness      35200 non-null  float64\n",
            " 8   danceability      35200 non-null  float64\n",
            " 9   duration_ms       35200 non-null  int64  \n",
            " 10  energy            35200 non-null  float64\n",
            " 11  explicit          35200 non-null  int64  \n",
            " 12  instrumentalness  35200 non-null  float64\n",
            " 13  key               35200 non-null  int64  \n",
            " 14  liveness          35200 non-null  float64\n",
            " 15  loudness          35200 non-null  float64\n",
            " 16  mode              35200 non-null  int64  \n",
            " 17  popularity        35200 non-null  int64  \n",
            " 18  release_date      35200 non-null  object \n",
            " 19  speechiness       35200 non-null  float64\n",
            " 20  tempo             35200 non-null  float64\n",
            "dtypes: float64(9), int64(6), object(6)\n",
            "memory usage: 5.6+ MB\n"
          ]
        }
      ],
      "source": [
        "songs_df.info()"
      ]
    },
    {
      "cell_type": "code",
      "execution_count": null,
      "metadata": {
        "colab": {
          "base_uri": "https://localhost:8080/"
        },
        "id": "nDf33Y5vqW9u",
        "outputId": "f7b1295c-a037-493c-9c87-9c966b862fde"
      },
      "outputs": [
        {
          "name": "stdout",
          "output_type": "stream",
          "text": [
            "       track_id  track_name  album_id  artist_ids  artist_names  valence  \\\n",
            "0         False       False     False       False         False    False   \n",
            "1         False       False     False       False         False    False   \n",
            "2         False       False     False       False         False    False   \n",
            "3         False       False     False       False         False    False   \n",
            "4         False       False     False       False         False    False   \n",
            "...         ...         ...       ...         ...           ...      ...   \n",
            "35195     False       False     False       False         False    False   \n",
            "35196     False       False     False       False         False    False   \n",
            "35197     False       False     False       False         False    False   \n",
            "35198     False       False     False       False         False    False   \n",
            "35199     False       False     False       False         False    False   \n",
            "\n",
            "        year  acousticness  danceability  duration_ms  ...  explicit  \\\n",
            "0      False         False         False        False  ...     False   \n",
            "1      False         False         False        False  ...     False   \n",
            "2      False         False         False        False  ...     False   \n",
            "3      False         False         False        False  ...     False   \n",
            "4      False         False         False        False  ...     False   \n",
            "...      ...           ...           ...          ...  ...       ...   \n",
            "35195  False         False         False        False  ...     False   \n",
            "35196  False         False         False        False  ...     False   \n",
            "35197  False         False         False        False  ...     False   \n",
            "35198  False         False         False        False  ...     False   \n",
            "35199  False         False         False        False  ...     False   \n",
            "\n",
            "       instrumentalness    key  liveness  loudness   mode  popularity  \\\n",
            "0                 False  False     False     False  False       False   \n",
            "1                 False  False     False     False  False       False   \n",
            "2                 False  False     False     False  False       False   \n",
            "3                 False  False     False     False  False       False   \n",
            "4                 False  False     False     False  False       False   \n",
            "...                 ...    ...       ...       ...    ...         ...   \n",
            "35195             False  False     False     False  False       False   \n",
            "35196             False  False     False     False  False       False   \n",
            "35197             False  False     False     False  False       False   \n",
            "35198             False  False     False     False  False       False   \n",
            "35199             False  False     False     False  False       False   \n",
            "\n",
            "       release_date  speechiness  tempo  \n",
            "0             False        False  False  \n",
            "1             False        False  False  \n",
            "2             False        False  False  \n",
            "3             False        False  False  \n",
            "4             False        False  False  \n",
            "...             ...          ...    ...  \n",
            "35195         False        False  False  \n",
            "35196         False        False  False  \n",
            "35197         False        False  False  \n",
            "35198         False        False  False  \n",
            "35199         False        False  False  \n",
            "\n",
            "[35200 rows x 21 columns]\n",
            "track_id            0\n",
            "track_name          0\n",
            "album_id            0\n",
            "artist_ids          0\n",
            "artist_names        0\n",
            "valence             0\n",
            "year                0\n",
            "acousticness        0\n",
            "danceability        0\n",
            "duration_ms         0\n",
            "energy              0\n",
            "explicit            0\n",
            "instrumentalness    0\n",
            "key                 0\n",
            "liveness            0\n",
            "loudness            0\n",
            "mode                0\n",
            "popularity          0\n",
            "release_date        0\n",
            "speechiness         0\n",
            "tempo               0\n",
            "dtype: int64\n"
          ]
        }
      ],
      "source": [
        "#check for null values \n",
        "\n",
        "print(songs_df.isnull())\n",
        "\n",
        "# Step 3: Get the count of nulls in each column\n",
        "print(songs_df.isnull().sum())"
      ]
    },
    {
      "cell_type": "markdown",
      "metadata": {},
      "source": [
        "# Artists csvs "
      ]
    },
    {
      "cell_type": "code",
      "execution_count": 11,
      "metadata": {
        "colab": {
          "base_uri": "https://localhost:8080/",
          "height": 423
        },
        "id": "qfJZLyhwoH9F",
        "outputId": "63135eb8-b3b1-4b87-c9f1-3517e852a82b"
      },
      "outputs": [
        {
          "data": {
            "text/html": [
              "<div>\n",
              "<style scoped>\n",
              "    .dataframe tbody tr th:only-of-type {\n",
              "        vertical-align: middle;\n",
              "    }\n",
              "\n",
              "    .dataframe tbody tr th {\n",
              "        vertical-align: top;\n",
              "    }\n",
              "\n",
              "    .dataframe thead th {\n",
              "        text-align: right;\n",
              "    }\n",
              "</style>\n",
              "<table border=\"1\" class=\"dataframe\">\n",
              "  <thead>\n",
              "    <tr style=\"text-align: right;\">\n",
              "      <th></th>\n",
              "      <th>artist_id</th>\n",
              "      <th>artist_name</th>\n",
              "      <th>genres</th>\n",
              "      <th>followers</th>\n",
              "      <th>popularity</th>\n",
              "    </tr>\n",
              "  </thead>\n",
              "  <tbody>\n",
              "    <tr>\n",
              "      <th>0</th>\n",
              "      <td>0Kekt6CKSo0m5mivKcoH51</td>\n",
              "      <td>Sergei Rachmaninoff</td>\n",
              "      <td>['classical', 'post-romantic era', 'russian ro...</td>\n",
              "      <td>753124</td>\n",
              "      <td>65</td>\n",
              "    </tr>\n",
              "    <tr>\n",
              "      <th>1</th>\n",
              "      <td>4qFQgEF1rg6a9WvJM0MQIa</td>\n",
              "      <td>James Levine</td>\n",
              "      <td>['classical performance', 'opera']</td>\n",
              "      <td>9206</td>\n",
              "      <td>53</td>\n",
              "    </tr>\n",
              "    <tr>\n",
              "      <th>2</th>\n",
              "      <td>6uRJnvQ3f8whVnmeoecv5Z</td>\n",
              "      <td>Berliner Philharmoniker</td>\n",
              "      <td>['classical', 'classical performance', 'german...</td>\n",
              "      <td>223580</td>\n",
              "      <td>73</td>\n",
              "    </tr>\n",
              "    <tr>\n",
              "      <th>3</th>\n",
              "      <td>2DG9aIMzcln3w7SIVGGnmg</td>\n",
              "      <td>Arcadi Volodos</td>\n",
              "      <td>['classical piano', 'russian classical piano']</td>\n",
              "      <td>17186</td>\n",
              "      <td>47</td>\n",
              "    </tr>\n",
              "    <tr>\n",
              "      <th>4</th>\n",
              "      <td>0y60qXGlDixlFJcjUU6pwY</td>\n",
              "      <td>Dennis Day</td>\n",
              "      <td>[]</td>\n",
              "      <td>684</td>\n",
              "      <td>7</td>\n",
              "    </tr>\n",
              "    <tr>\n",
              "      <th>...</th>\n",
              "      <td>...</td>\n",
              "      <td>...</td>\n",
              "      <td>...</td>\n",
              "      <td>...</td>\n",
              "      <td>...</td>\n",
              "    </tr>\n",
              "    <tr>\n",
              "      <th>14634</th>\n",
              "      <td>1eNJZfAHoq5zu1sUukbhAe</td>\n",
              "      <td>Carlos Lafuente</td>\n",
              "      <td>['orquesta tipica']</td>\n",
              "      <td>84</td>\n",
              "      <td>3</td>\n",
              "    </tr>\n",
              "    <tr>\n",
              "      <th>14635</th>\n",
              "      <td>0mhWWtpVIh60Ney5hbeR93</td>\n",
              "      <td>Orquesta Víctor Popular</td>\n",
              "      <td>[]</td>\n",
              "      <td>0</td>\n",
              "      <td>0</td>\n",
              "    </tr>\n",
              "    <tr>\n",
              "      <th>14636</th>\n",
              "      <td>01eq7T47JHOrYY0nfpdDYT</td>\n",
              "      <td>Serafim Gerotheodorou</td>\n",
              "      <td>[]</td>\n",
              "      <td>2</td>\n",
              "      <td>0</td>\n",
              "    </tr>\n",
              "    <tr>\n",
              "      <th>14637</th>\n",
              "      <td>0nRShN4m4GvQv1O4igorb6</td>\n",
              "      <td>Ernesto Fama</td>\n",
              "      <td>['vintage tango']</td>\n",
              "      <td>1363</td>\n",
              "      <td>19</td>\n",
              "    </tr>\n",
              "    <tr>\n",
              "      <th>14638</th>\n",
              "      <td>4klba9nOUmD5XsUVjlAFM5</td>\n",
              "      <td>Pello Revolvers</td>\n",
              "      <td>[]</td>\n",
              "      <td>58</td>\n",
              "      <td>0</td>\n",
              "    </tr>\n",
              "  </tbody>\n",
              "</table>\n",
              "<p>14639 rows × 5 columns</p>\n",
              "</div>"
            ],
            "text/plain": [
              "                    artist_id              artist_name  \\\n",
              "0      0Kekt6CKSo0m5mivKcoH51      Sergei Rachmaninoff   \n",
              "1      4qFQgEF1rg6a9WvJM0MQIa             James Levine   \n",
              "2      6uRJnvQ3f8whVnmeoecv5Z  Berliner Philharmoniker   \n",
              "3      2DG9aIMzcln3w7SIVGGnmg           Arcadi Volodos   \n",
              "4      0y60qXGlDixlFJcjUU6pwY               Dennis Day   \n",
              "...                       ...                      ...   \n",
              "14634  1eNJZfAHoq5zu1sUukbhAe          Carlos Lafuente   \n",
              "14635  0mhWWtpVIh60Ney5hbeR93  Orquesta Víctor Popular   \n",
              "14636  01eq7T47JHOrYY0nfpdDYT    Serafim Gerotheodorou   \n",
              "14637  0nRShN4m4GvQv1O4igorb6             Ernesto Fama   \n",
              "14638  4klba9nOUmD5XsUVjlAFM5          Pello Revolvers   \n",
              "\n",
              "                                                  genres  followers  \\\n",
              "0      ['classical', 'post-romantic era', 'russian ro...     753124   \n",
              "1                     ['classical performance', 'opera']       9206   \n",
              "2      ['classical', 'classical performance', 'german...     223580   \n",
              "3         ['classical piano', 'russian classical piano']      17186   \n",
              "4                                                     []        684   \n",
              "...                                                  ...        ...   \n",
              "14634                                ['orquesta tipica']         84   \n",
              "14635                                                 []          0   \n",
              "14636                                                 []          2   \n",
              "14637                                  ['vintage tango']       1363   \n",
              "14638                                                 []         58   \n",
              "\n",
              "       popularity  \n",
              "0              65  \n",
              "1              53  \n",
              "2              73  \n",
              "3              47  \n",
              "4               7  \n",
              "...           ...  \n",
              "14634           3  \n",
              "14635           0  \n",
              "14636           0  \n",
              "14637          19  \n",
              "14638           0  \n",
              "\n",
              "[14639 rows x 5 columns]"
            ]
          },
          "execution_count": 11,
          "metadata": {},
          "output_type": "execute_result"
        }
      ],
      "source": [
        "artists_df"
      ]
    },
    {
      "cell_type": "code",
      "execution_count": 12,
      "metadata": {
        "colab": {
          "base_uri": "https://localhost:8080/"
        },
        "id": "tS5-gZGWocqs",
        "outputId": "36ca7430-78c3-4539-8807-1b919d07a20b"
      },
      "outputs": [
        {
          "data": {
            "text/plain": [
              "Index(['artist_id', 'artist_name', 'genres', 'followers', 'popularity'], dtype='object')"
            ]
          },
          "execution_count": 12,
          "metadata": {},
          "output_type": "execute_result"
        }
      ],
      "source": [
        "artists_df.columns"
      ]
    },
    {
      "cell_type": "code",
      "execution_count": 81,
      "metadata": {},
      "outputs": [
        {
          "data": {
            "text/plain": [
              "0        0Kekt6CKSo0m5mivKcoH51\n",
              "1        4qFQgEF1rg6a9WvJM0MQIa\n",
              "2        6uRJnvQ3f8whVnmeoecv5Z\n",
              "3        2DG9aIMzcln3w7SIVGGnmg\n",
              "4        0y60qXGlDixlFJcjUU6pwY\n",
              "                  ...          \n",
              "14634    1eNJZfAHoq5zu1sUukbhAe\n",
              "14635    0mhWWtpVIh60Ney5hbeR93\n",
              "14636    01eq7T47JHOrYY0nfpdDYT\n",
              "14637    0nRShN4m4GvQv1O4igorb6\n",
              "14638    4klba9nOUmD5XsUVjlAFM5\n",
              "Name: artist_id, Length: 14639, dtype: object"
            ]
          },
          "execution_count": 81,
          "metadata": {},
          "output_type": "execute_result"
        }
      ],
      "source": [
        "artists_df['artist_id']"
      ]
    },
    {
      "cell_type": "code",
      "execution_count": 13,
      "metadata": {
        "colab": {
          "base_uri": "https://localhost:8080/"
        },
        "id": "IrnBqxpfofth",
        "outputId": "2d8e8e9f-1630-4311-ddaa-942dc8b6dad7"
      },
      "outputs": [
        {
          "data": {
            "text/plain": [
              "(14639, 5)"
            ]
          },
          "execution_count": 13,
          "metadata": {},
          "output_type": "execute_result"
        }
      ],
      "source": [
        "artists_df.shape"
      ]
    },
    {
      "cell_type": "code",
      "execution_count": 14,
      "metadata": {
        "colab": {
          "base_uri": "https://localhost:8080/"
        },
        "id": "zWLTZbhfRNNG",
        "outputId": "73f1c7a4-545f-46bb-a85c-79c78be40ed7"
      },
      "outputs": [
        {
          "name": "stdout",
          "output_type": "stream",
          "text": [
            "<class 'pandas.core.frame.DataFrame'>\n",
            "RangeIndex: 14639 entries, 0 to 14638\n",
            "Data columns (total 5 columns):\n",
            " #   Column       Non-Null Count  Dtype \n",
            "---  ------       --------------  ----- \n",
            " 0   artist_id    14639 non-null  object\n",
            " 1   artist_name  14639 non-null  object\n",
            " 2   genres       14639 non-null  object\n",
            " 3   followers    14639 non-null  int64 \n",
            " 4   popularity   14639 non-null  int64 \n",
            "dtypes: int64(2), object(3)\n",
            "memory usage: 572.0+ KB\n"
          ]
        }
      ],
      "source": [
        "artists_df.info()"
      ]
    },
    {
      "cell_type": "code",
      "execution_count": 15,
      "metadata": {
        "colab": {
          "base_uri": "https://localhost:8080/",
          "height": 300
        },
        "id": "DjflT2A3Reci",
        "outputId": "e01543c1-3054-4f5a-87ea-a7a27d627936"
      },
      "outputs": [
        {
          "data": {
            "text/html": [
              "<div>\n",
              "<style scoped>\n",
              "    .dataframe tbody tr th:only-of-type {\n",
              "        vertical-align: middle;\n",
              "    }\n",
              "\n",
              "    .dataframe tbody tr th {\n",
              "        vertical-align: top;\n",
              "    }\n",
              "\n",
              "    .dataframe thead th {\n",
              "        text-align: right;\n",
              "    }\n",
              "</style>\n",
              "<table border=\"1\" class=\"dataframe\">\n",
              "  <thead>\n",
              "    <tr style=\"text-align: right;\">\n",
              "      <th></th>\n",
              "      <th>followers</th>\n",
              "      <th>popularity</th>\n",
              "    </tr>\n",
              "  </thead>\n",
              "  <tbody>\n",
              "    <tr>\n",
              "      <th>count</th>\n",
              "      <td>1.463900e+04</td>\n",
              "      <td>14639.000000</td>\n",
              "    </tr>\n",
              "    <tr>\n",
              "      <th>mean</th>\n",
              "      <td>4.038699e+06</td>\n",
              "      <td>54.615479</td>\n",
              "    </tr>\n",
              "    <tr>\n",
              "      <th>std</th>\n",
              "      <td>1.138902e+07</td>\n",
              "      <td>23.378139</td>\n",
              "    </tr>\n",
              "    <tr>\n",
              "      <th>min</th>\n",
              "      <td>0.000000e+00</td>\n",
              "      <td>0.000000</td>\n",
              "    </tr>\n",
              "    <tr>\n",
              "      <th>25%</th>\n",
              "      <td>3.526900e+04</td>\n",
              "      <td>45.000000</td>\n",
              "    </tr>\n",
              "    <tr>\n",
              "      <th>50%</th>\n",
              "      <td>6.345500e+05</td>\n",
              "      <td>60.000000</td>\n",
              "    </tr>\n",
              "    <tr>\n",
              "      <th>75%</th>\n",
              "      <td>2.978840e+06</td>\n",
              "      <td>71.000000</td>\n",
              "    </tr>\n",
              "    <tr>\n",
              "      <th>max</th>\n",
              "      <td>1.235448e+08</td>\n",
              "      <td>100.000000</td>\n",
              "    </tr>\n",
              "  </tbody>\n",
              "</table>\n",
              "</div>"
            ],
            "text/plain": [
              "          followers    popularity\n",
              "count  1.463900e+04  14639.000000\n",
              "mean   4.038699e+06     54.615479\n",
              "std    1.138902e+07     23.378139\n",
              "min    0.000000e+00      0.000000\n",
              "25%    3.526900e+04     45.000000\n",
              "50%    6.345500e+05     60.000000\n",
              "75%    2.978840e+06     71.000000\n",
              "max    1.235448e+08    100.000000"
            ]
          },
          "execution_count": 15,
          "metadata": {},
          "output_type": "execute_result"
        }
      ],
      "source": [
        "artists_df.describe()"
      ]
    },
    {
      "cell_type": "code",
      "execution_count": 16,
      "metadata": {
        "colab": {
          "base_uri": "https://localhost:8080/"
        },
        "id": "b5rKMMnxqj_p",
        "outputId": "24690f58-8f40-4859-cfa6-0478dcf1b7f4"
      },
      "outputs": [
        {
          "name": "stdout",
          "output_type": "stream",
          "text": [
            "       artist_id  artist_name  genres  followers  popularity\n",
            "0          False        False   False      False       False\n",
            "1          False        False   False      False       False\n",
            "2          False        False   False      False       False\n",
            "3          False        False   False      False       False\n",
            "4          False        False   False      False       False\n",
            "...          ...          ...     ...        ...         ...\n",
            "14634      False        False   False      False       False\n",
            "14635      False        False   False      False       False\n",
            "14636      False        False   False      False       False\n",
            "14637      False        False   False      False       False\n",
            "14638      False        False   False      False       False\n",
            "\n",
            "[14639 rows x 5 columns]\n",
            "artist_id      0\n",
            "artist_name    0\n",
            "genres         0\n",
            "followers      0\n",
            "popularity     0\n",
            "dtype: int64\n"
          ]
        }
      ],
      "source": [
        "print(artists_df.isnull())\n",
        "\n",
        "# Step 3: Get the count of nulls in each column\n",
        "print(artists_df.isnull().sum())"
      ]
    },
    {
      "cell_type": "markdown",
      "metadata": {},
      "source": [
        "# ALBUMS CSVS"
      ]
    },
    {
      "cell_type": "code",
      "execution_count": 17,
      "metadata": {
        "colab": {
          "base_uri": "https://localhost:8080/",
          "height": 860
        },
        "id": "I4RGrexToNeR",
        "outputId": "c6f3ee7b-6615-4c58-cbfc-c7c585e4dca3"
      },
      "outputs": [
        {
          "data": {
            "text/html": [
              "<div>\n",
              "<style scoped>\n",
              "    .dataframe tbody tr th:only-of-type {\n",
              "        vertical-align: middle;\n",
              "    }\n",
              "\n",
              "    .dataframe tbody tr th {\n",
              "        vertical-align: top;\n",
              "    }\n",
              "\n",
              "    .dataframe thead th {\n",
              "        text-align: right;\n",
              "    }\n",
              "</style>\n",
              "<table border=\"1\" class=\"dataframe\">\n",
              "  <thead>\n",
              "    <tr style=\"text-align: right;\">\n",
              "      <th></th>\n",
              "      <th>album_id</th>\n",
              "      <th>album_name</th>\n",
              "      <th>release_date</th>\n",
              "      <th>total_tracks</th>\n",
              "      <th>album_type</th>\n",
              "      <th>album_cover_64x64</th>\n",
              "      <th>album_cover_640x640</th>\n",
              "    </tr>\n",
              "  </thead>\n",
              "  <tbody>\n",
              "    <tr>\n",
              "      <th>0</th>\n",
              "      <td>6UKhQXIboybG7JPka28bZR</td>\n",
              "      <td>The Rachmaninoff Collection</td>\n",
              "      <td>2006-06-27</td>\n",
              "      <td>11</td>\n",
              "      <td>compilation</td>\n",
              "      <td>https://i.scdn.co/image/ab67616d000048515a7c6e...</td>\n",
              "      <td>https://i.scdn.co/image/ab67616d000048515a7c6e...</td>\n",
              "    </tr>\n",
              "    <tr>\n",
              "      <th>1</th>\n",
              "      <td>4LePw1NceheT4selvgH0cE</td>\n",
              "      <td>Original Irish Tenors: The Legendary Voices Of...</td>\n",
              "      <td>2006-02-20</td>\n",
              "      <td>21</td>\n",
              "      <td>compilation</td>\n",
              "      <td>https://i.scdn.co/image/ab67616d00004851ab0547...</td>\n",
              "      <td>https://i.scdn.co/image/ab67616d00004851ab0547...</td>\n",
              "    </tr>\n",
              "    <tr>\n",
              "      <th>2</th>\n",
              "      <td>3kjFZyMpkcTARMXuLrpipj</td>\n",
              "      <td>Gendhing Gati</td>\n",
              "      <td>1921</td>\n",
              "      <td>17</td>\n",
              "      <td>album</td>\n",
              "      <td>https://i.scdn.co/image/ab67616d000048512f1bfe...</td>\n",
              "      <td>https://i.scdn.co/image/ab67616d000048512f1bfe...</td>\n",
              "    </tr>\n",
              "    <tr>\n",
              "      <th>3</th>\n",
              "      <td>59DmiBZi588gd8yklEgIlS</td>\n",
              "      <td>Rachmaninoff: Greatest Hits</td>\n",
              "      <td>2009-03-27</td>\n",
              "      <td>11</td>\n",
              "      <td>compilation</td>\n",
              "      <td>https://i.scdn.co/image/ab67616d0000485125dab7...</td>\n",
              "      <td>https://i.scdn.co/image/ab67616d0000485125dab7...</td>\n",
              "    </tr>\n",
              "    <tr>\n",
              "      <th>4</th>\n",
              "      <td>4PSwdsOtNdinZE8mijH4E6</td>\n",
              "      <td>Colección Completa, Vol. 2 (Remasterizado)</td>\n",
              "      <td>1921-03-20</td>\n",
              "      <td>21</td>\n",
              "      <td>album</td>\n",
              "      <td>https://i.scdn.co/image/ab67616d00004851fc669e...</td>\n",
              "      <td>https://i.scdn.co/image/ab67616d00004851fc669e...</td>\n",
              "    </tr>\n",
              "    <tr>\n",
              "      <th>...</th>\n",
              "      <td>...</td>\n",
              "      <td>...</td>\n",
              "      <td>...</td>\n",
              "      <td>...</td>\n",
              "      <td>...</td>\n",
              "      <td>...</td>\n",
              "      <td>...</td>\n",
              "    </tr>\n",
              "    <tr>\n",
              "      <th>11663</th>\n",
              "      <td>5nk0pXd9S0igSZGjudpB4p</td>\n",
              "      <td>Música Boliviana, 78 Rpm Recordings, Vol. 1 (1...</td>\n",
              "      <td>1930-01-01</td>\n",
              "      <td>26</td>\n",
              "      <td>compilation</td>\n",
              "      <td>https://i.scdn.co/image/ab67616d000048510a30a5...</td>\n",
              "      <td>https://i.scdn.co/image/ab67616d0000b2730a30a5...</td>\n",
              "    </tr>\n",
              "    <tr>\n",
              "      <th>11664</th>\n",
              "      <td>6d48OUlyh79FQDhbwWgKxF</td>\n",
              "      <td>Colección Completa, Vol. 53 (Remasterizado)</td>\n",
              "      <td>1930-12-05</td>\n",
              "      <td>17</td>\n",
              "      <td>album</td>\n",
              "      <td>https://i.scdn.co/image/ab67616d00004851a88f55...</td>\n",
              "      <td>https://i.scdn.co/image/ab67616d0000b273a88f55...</td>\n",
              "    </tr>\n",
              "    <tr>\n",
              "      <th>11665</th>\n",
              "      <td>47dahsZ5pIBo8mNH0qeL0C</td>\n",
              "      <td>Borg Mesch - EP</td>\n",
              "      <td>1930-04-01</td>\n",
              "      <td>5</td>\n",
              "      <td>single</td>\n",
              "      <td>https://i.scdn.co/image/ab67616d000048514e542e...</td>\n",
              "      <td>https://i.scdn.co/image/ab67616d0000b2734e542e...</td>\n",
              "    </tr>\n",
              "    <tr>\n",
              "      <th>11666</th>\n",
              "      <td>2jfKd4aGugEQmaPzXZ5L0d</td>\n",
              "      <td>Colección Completa, Vol. 52 (Remasterizado)</td>\n",
              "      <td>1930-12-03</td>\n",
              "      <td>18</td>\n",
              "      <td>album</td>\n",
              "      <td>https://i.scdn.co/image/ab67616d00004851fe9c4e...</td>\n",
              "      <td>https://i.scdn.co/image/ab67616d0000b273fe9c4e...</td>\n",
              "    </tr>\n",
              "    <tr>\n",
              "      <th>11667</th>\n",
              "      <td>1za67i3IBsXiMcQsSAyrwQ</td>\n",
              "      <td>Ta Rempetika Tou Grammofonou, Νο. 5</td>\n",
              "      <td>1930-01-01</td>\n",
              "      <td>21</td>\n",
              "      <td>compilation</td>\n",
              "      <td>https://i.scdn.co/image/ab67616d000048518de083...</td>\n",
              "      <td>https://i.scdn.co/image/ab67616d0000b2738de083...</td>\n",
              "    </tr>\n",
              "  </tbody>\n",
              "</table>\n",
              "<p>11668 rows × 7 columns</p>\n",
              "</div>"
            ],
            "text/plain": [
              "                     album_id  \\\n",
              "0      6UKhQXIboybG7JPka28bZR   \n",
              "1      4LePw1NceheT4selvgH0cE   \n",
              "2      3kjFZyMpkcTARMXuLrpipj   \n",
              "3      59DmiBZi588gd8yklEgIlS   \n",
              "4      4PSwdsOtNdinZE8mijH4E6   \n",
              "...                       ...   \n",
              "11663  5nk0pXd9S0igSZGjudpB4p   \n",
              "11664  6d48OUlyh79FQDhbwWgKxF   \n",
              "11665  47dahsZ5pIBo8mNH0qeL0C   \n",
              "11666  2jfKd4aGugEQmaPzXZ5L0d   \n",
              "11667  1za67i3IBsXiMcQsSAyrwQ   \n",
              "\n",
              "                                              album_name release_date  \\\n",
              "0                            The Rachmaninoff Collection   2006-06-27   \n",
              "1      Original Irish Tenors: The Legendary Voices Of...   2006-02-20   \n",
              "2                                          Gendhing Gati         1921   \n",
              "3                            Rachmaninoff: Greatest Hits   2009-03-27   \n",
              "4             Colección Completa, Vol. 2 (Remasterizado)   1921-03-20   \n",
              "...                                                  ...          ...   \n",
              "11663  Música Boliviana, 78 Rpm Recordings, Vol. 1 (1...   1930-01-01   \n",
              "11664        Colección Completa, Vol. 53 (Remasterizado)   1930-12-05   \n",
              "11665                                    Borg Mesch - EP   1930-04-01   \n",
              "11666        Colección Completa, Vol. 52 (Remasterizado)   1930-12-03   \n",
              "11667                Ta Rempetika Tou Grammofonou, Νο. 5   1930-01-01   \n",
              "\n",
              "       total_tracks   album_type  \\\n",
              "0                11  compilation   \n",
              "1                21  compilation   \n",
              "2                17        album   \n",
              "3                11  compilation   \n",
              "4                21        album   \n",
              "...             ...          ...   \n",
              "11663            26  compilation   \n",
              "11664            17        album   \n",
              "11665             5       single   \n",
              "11666            18        album   \n",
              "11667            21  compilation   \n",
              "\n",
              "                                       album_cover_64x64  \\\n",
              "0      https://i.scdn.co/image/ab67616d000048515a7c6e...   \n",
              "1      https://i.scdn.co/image/ab67616d00004851ab0547...   \n",
              "2      https://i.scdn.co/image/ab67616d000048512f1bfe...   \n",
              "3      https://i.scdn.co/image/ab67616d0000485125dab7...   \n",
              "4      https://i.scdn.co/image/ab67616d00004851fc669e...   \n",
              "...                                                  ...   \n",
              "11663  https://i.scdn.co/image/ab67616d000048510a30a5...   \n",
              "11664  https://i.scdn.co/image/ab67616d00004851a88f55...   \n",
              "11665  https://i.scdn.co/image/ab67616d000048514e542e...   \n",
              "11666  https://i.scdn.co/image/ab67616d00004851fe9c4e...   \n",
              "11667  https://i.scdn.co/image/ab67616d000048518de083...   \n",
              "\n",
              "                                     album_cover_640x640  \n",
              "0      https://i.scdn.co/image/ab67616d000048515a7c6e...  \n",
              "1      https://i.scdn.co/image/ab67616d00004851ab0547...  \n",
              "2      https://i.scdn.co/image/ab67616d000048512f1bfe...  \n",
              "3      https://i.scdn.co/image/ab67616d0000485125dab7...  \n",
              "4      https://i.scdn.co/image/ab67616d00004851fc669e...  \n",
              "...                                                  ...  \n",
              "11663  https://i.scdn.co/image/ab67616d0000b2730a30a5...  \n",
              "11664  https://i.scdn.co/image/ab67616d0000b273a88f55...  \n",
              "11665  https://i.scdn.co/image/ab67616d0000b2734e542e...  \n",
              "11666  https://i.scdn.co/image/ab67616d0000b273fe9c4e...  \n",
              "11667  https://i.scdn.co/image/ab67616d0000b2738de083...  \n",
              "\n",
              "[11668 rows x 7 columns]"
            ]
          },
          "execution_count": 17,
          "metadata": {},
          "output_type": "execute_result"
        }
      ],
      "source": [
        "albums_df"
      ]
    },
    {
      "cell_type": "code",
      "execution_count": 18,
      "metadata": {
        "colab": {
          "base_uri": "https://localhost:8080/"
        },
        "id": "am7j1C-ioj67",
        "outputId": "723f9a92-5e7c-41b4-89bf-e0f7e75c2a8a"
      },
      "outputs": [
        {
          "data": {
            "text/plain": [
              "Index(['album_id', 'album_name', 'release_date', 'total_tracks', 'album_type',\n",
              "       'album_cover_64x64', 'album_cover_640x640'],\n",
              "      dtype='object')"
            ]
          },
          "execution_count": 18,
          "metadata": {},
          "output_type": "execute_result"
        }
      ],
      "source": [
        "albums_df.columns"
      ]
    },
    {
      "cell_type": "code",
      "execution_count": 19,
      "metadata": {
        "colab": {
          "base_uri": "https://localhost:8080/"
        },
        "id": "1dMOuVYComGs",
        "outputId": "fb4f168a-8bd1-4061-8105-a8da31d287dd"
      },
      "outputs": [
        {
          "data": {
            "text/plain": [
              "(11668, 7)"
            ]
          },
          "execution_count": 19,
          "metadata": {},
          "output_type": "execute_result"
        }
      ],
      "source": [
        "albums_df.shape"
      ]
    },
    {
      "cell_type": "code",
      "execution_count": 20,
      "metadata": {
        "colab": {
          "base_uri": "https://localhost:8080/"
        },
        "id": "7sLds9k9RRD6",
        "outputId": "7f9a4146-3b7b-4105-a8d5-cc67b421382d"
      },
      "outputs": [
        {
          "name": "stdout",
          "output_type": "stream",
          "text": [
            "<class 'pandas.core.frame.DataFrame'>\n",
            "RangeIndex: 11668 entries, 0 to 11667\n",
            "Data columns (total 7 columns):\n",
            " #   Column               Non-Null Count  Dtype \n",
            "---  ------               --------------  ----- \n",
            " 0   album_id             11668 non-null  object\n",
            " 1   album_name           11668 non-null  object\n",
            " 2   release_date         11668 non-null  object\n",
            " 3   total_tracks         11668 non-null  int64 \n",
            " 4   album_type           11668 non-null  object\n",
            " 5   album_cover_64x64    11668 non-null  object\n",
            " 6   album_cover_640x640  11668 non-null  object\n",
            "dtypes: int64(1), object(6)\n",
            "memory usage: 638.2+ KB\n"
          ]
        }
      ],
      "source": [
        "albums_df.info()\n"
      ]
    },
    {
      "cell_type": "code",
      "execution_count": 21,
      "metadata": {
        "colab": {
          "base_uri": "https://localhost:8080/"
        },
        "id": "J3R3zHDlqq84",
        "outputId": "a3154df3-d42e-4f8f-d844-9d9c39136cbd"
      },
      "outputs": [
        {
          "name": "stdout",
          "output_type": "stream",
          "text": [
            "       album_id  album_name  release_date  total_tracks  album_type  \\\n",
            "0         False       False         False         False       False   \n",
            "1         False       False         False         False       False   \n",
            "2         False       False         False         False       False   \n",
            "3         False       False         False         False       False   \n",
            "4         False       False         False         False       False   \n",
            "...         ...         ...           ...           ...         ...   \n",
            "11663     False       False         False         False       False   \n",
            "11664     False       False         False         False       False   \n",
            "11665     False       False         False         False       False   \n",
            "11666     False       False         False         False       False   \n",
            "11667     False       False         False         False       False   \n",
            "\n",
            "       album_cover_64x64  album_cover_640x640  \n",
            "0                  False                False  \n",
            "1                  False                False  \n",
            "2                  False                False  \n",
            "3                  False                False  \n",
            "4                  False                False  \n",
            "...                  ...                  ...  \n",
            "11663              False                False  \n",
            "11664              False                False  \n",
            "11665              False                False  \n",
            "11666              False                False  \n",
            "11667              False                False  \n",
            "\n",
            "[11668 rows x 7 columns]\n",
            "album_id               0\n",
            "album_name             0\n",
            "release_date           0\n",
            "total_tracks           0\n",
            "album_type             0\n",
            "album_cover_64x64      0\n",
            "album_cover_640x640    0\n",
            "dtype: int64\n"
          ]
        }
      ],
      "source": [
        "print(albums_df.isnull())\n",
        "\n",
        "# Step 3: Get the count of nulls in each column\n",
        "print(albums_df.isnull().sum())"
      ]
    },
    {
      "cell_type": "markdown",
      "metadata": {
        "id": "W1JHZfDh1gJf"
      },
      "source": [
        "# PROCESSED SONGS  DATA SETS \n",
        "  1) NO NULL VALUES \n",
        "  2) ADD MOOD COLUMNS\n",
        "  "
      ]
    },
    {
      "cell_type": "code",
      "execution_count": 94,
      "metadata": {
        "colab": {
          "base_uri": "https://localhost:8080/"
        },
        "id": "MSkUWf-j1F58",
        "outputId": "5f6ee5e0-60b5-40a5-b9ea-38998de23119"
      },
      "outputs": [
        {
          "name": "stdout",
          "output_type": "stream",
          "text": [
            " Processed dataset shape: (56580, 11)\n",
            "                 track_id                            track_name  \\\n",
            "0  001ZmOPuWEW5czwun7nkha                Would You? (End Title)   \n",
            "1  001ZmOPuWEW5czwun7nkha                Would You? (End Title)   \n",
            "2  001ZmOPuWEW5czwun7nkha                Would You? (End Title)   \n",
            "3  003FTlCpBTM4eSqYSWPv4H                          Swing, Swing   \n",
            "4  003JzPprzThp8SHUctgXnn  Willow Weep For Me - Remastered 1998   \n",
            "\n",
            "                    artist_names  \\\n",
            "0  ['Gene Kelly', 'Betty Noyes']   \n",
            "1  ['Gene Kelly', 'Betty Noyes']   \n",
            "2  ['Gene Kelly', 'Betty Noyes']   \n",
            "3   ['The All-American Rejects']   \n",
            "4            ['Thelonious Monk']   \n",
            "\n",
            "                                              genres  valence  danceability  \\\n",
            "0    movie tunes, adult standards, vintage hollywood    0.162         0.160   \n",
            "1    movie tunes, adult standards, vintage hollywood    0.162         0.160   \n",
            "2    movie tunes, adult standards, vintage hollywood    0.162         0.160   \n",
            "3  alternative metal, pop rock, modern rock, post...    0.318         0.553   \n",
            "4  bebop, jazz, jazz piano, contemporary post-bop...    0.298         0.461   \n",
            "\n",
            "   energy mood                                         album_name  \\\n",
            "0   0.120  Sad  Singin' in the Rain (Original Motion Picture S...   \n",
            "1   0.120  Sad  Singin' in the Rain (Original Motion Picture S...   \n",
            "2   0.120  Sad  Singin' in the Rain (Original Motion Picture S...   \n",
            "3   0.717  Sad                           The All-American Rejects   \n",
            "4   0.454  Sad   Genius Of Modern Music (Vol.2, Expanded Edition)   \n",
            "\n",
            "  release_date                                album_cover_640x640  \n",
            "0   1952-04-11  https://i.scdn.co/image/ab67616d00004851701dfe...  \n",
            "1   1952-04-11  https://i.scdn.co/image/ab67616d00004851701dfe...  \n",
            "2   1952-04-11  https://i.scdn.co/image/ab67616d00004851701dfe...  \n",
            "3   2002-10-15  https://i.scdn.co/image/ab67616d0000b273eba2ac...  \n",
            "4         1952  https://i.scdn.co/image/ab67616d00004851a36b4e...  \n"
          ]
        }
      ],
      "source": [
        "# Import libraries\n",
        "import pandas as pd  # for data manipulation\n",
        "import numpy as np   # for numerical operations\n",
        "\n",
        "# Load datasets\n",
        "songs_df = pd.read_csv('D:\\\\snap_tune_final\\\\snap_tune_project\\\\archive\\\\songs_with_audio_feature.csv')\n",
        "artists_df = pd.read_csv('D:\\\\snap_tune_final\\\\snap_tune_project\\\\archive\\\\artists.csv')\n",
        "albums_df = pd.read_csv('D:\\\\snap_tune_final\\\\snap_tune_project\\\\archive\\\\albums.csv')\n",
        "\n",
        "# Convert artist_ids from string to list\n",
        "songs_df['artist_ids'] = songs_df['artist_ids'].apply(eval)\n",
        "\n",
        "# Aggregate genres from all artists involved in a song\n",
        "def aggregate_genres(group):\n",
        "    genres = artists_df[artists_df['artist_id'].isin(group['artist_ids'])]['genres'].tolist()\n",
        "    flat_list = [g for sublist in [eval(g) if isinstance(g, str) else g for g in genres] for g in sublist]\n",
        "    return ', '.join(set(flat_list)) if flat_list else 'Unknown'\n",
        "\n",
        "# Group by track_id to avoid duplicates and keep relevant audio features and metadata\n",
        "songs_df = songs_df.groupby('track_id').agg({\n",
        "    'track_name': 'first',\n",
        "    'artist_names': 'first',\n",
        "    'artist_ids': 'first',\n",
        "    'valence': 'first',\n",
        "    'danceability': 'first',\n",
        "    'energy': 'first',\n",
        "    'album_id': 'first'  #  merging with album info\n",
        "}).reset_index()\n",
        "\n",
        "# Add genre info to each track\n",
        "songs_df['genres'] = songs_df.apply(aggregate_genres, axis=1)\n",
        "\n",
        "# Assign mood labels based on valence (positiveness of a track)\n",
        "def assign_mood(valence):\n",
        "    if valence > 0.6:\n",
        "        return 'Upbeat'\n",
        "    elif valence < 0.4:\n",
        "        return 'Sad'\n",
        "    else:\n",
        "        return 'Neutral'\n",
        "\n",
        "songs_df['mood'] = songs_df['valence'].apply(assign_mood)\n",
        "\n",
        "# Merge with album data to get album name, release date, and cover image\n",
        "songs_df = pd.merge(\n",
        "    songs_df,\n",
        "    albums_df[['album_id', 'album_name', 'release_date', 'album_cover_640x640']],\n",
        "    on='album_id',\n",
        "    how='left'\n",
        ")\n",
        "\n",
        "# Final dataset structure\n",
        "final_df = songs_df[[\n",
        "    'track_id', 'track_name', 'artist_names', 'genres',\n",
        "    'valence', 'danceability', 'energy', 'mood',\n",
        "    'album_name', 'release_date', 'album_cover_640x640'\n",
        "]]\n",
        "\n",
        "# Save the cleaned and enriched dataset\n",
        "final_df.to_csv('D:\\\\snap_tune_final\\\\snap_tune_project\\\\proceesed_songs\\\\processed_songs_final.csv', index=False)\n",
        "\n",
        "# Output confirmation\n",
        "print(f\" Processed dataset shape: {final_df.shape}\")\n",
        "print(final_df.head())\n"
      ]
    },
    {
      "cell_type": "markdown",
      "metadata": {},
      "source": [
        "# CHECKED FOR DUPLICATES "
      ]
    },
    {
      "cell_type": "code",
      "execution_count": 96,
      "metadata": {},
      "outputs": [
        {
          "name": "stdout",
          "output_type": "stream",
          "text": [
            "Number of rows with duplicate track_id: 36914\n",
            "Unique track_id count: 35200\n",
            "\n",
            "Sample duplicates:\n",
            "                  track_id                               track_name  \\\n",
            "0   001ZmOPuWEW5czwun7nkha                   Would You? (End Title)   \n",
            "1   001ZmOPuWEW5czwun7nkha                   Would You? (End Title)   \n",
            "2   001ZmOPuWEW5czwun7nkha                   Would You? (End Title)   \n",
            "4   003JzPprzThp8SHUctgXnn     Willow Weep For Me - Remastered 1998   \n",
            "5   003JzPprzThp8SHUctgXnn     Willow Weep For Me - Remastered 1998   \n",
            "6   003vvx7Niy0yvhvHt4a68B                           Mr. Brightside   \n",
            "7   003vvx7Niy0yvhvHt4a68B                           Mr. Brightside   \n",
            "9   004TG0nRHejwSKisvwTcAB               The Garden of Gethesemanie   \n",
            "10  004TG0nRHejwSKisvwTcAB               The Garden of Gethesemanie   \n",
            "14  006fbuXS6rRAWlUEaklCmt  Kapitel 297 - Der Page und die Herzogin   \n",
            "\n",
            "                           artist_names  \\\n",
            "0         ['Gene Kelly', 'Betty Noyes']   \n",
            "1         ['Gene Kelly', 'Betty Noyes']   \n",
            "2         ['Gene Kelly', 'Betty Noyes']   \n",
            "4                   ['Thelonious Monk']   \n",
            "5                   ['Thelonious Monk']   \n",
            "6                       ['The Killers']   \n",
            "7                       ['The Killers']   \n",
            "9         ['Emahoy Tsege Mariam Gebru']   \n",
            "10        ['Emahoy Tsege Mariam Gebru']   \n",
            "14  ['Georgette Heyer', 'Irina Salkow']   \n",
            "\n",
            "                                               genres  \n",
            "0     movie tunes, adult standards, vintage hollywood  \n",
            "1     movie tunes, adult standards, vintage hollywood  \n",
            "2     movie tunes, adult standards, vintage hollywood  \n",
            "4   bebop, jazz, jazz piano, contemporary post-bop...  \n",
            "5   bebop, jazz, jazz piano, contemporary post-bop...  \n",
            "6   modern rock, dance rock, rock, alternative roc...  \n",
            "7   modern rock, dance rock, rock, alternative roc...  \n",
            "9                           impressionism, ethio-jazz  \n",
            "10                          impressionism, ethio-jazz  \n",
            "14                                            Unknown  \n"
          ]
        }
      ],
      "source": [
        "\n",
        "\n",
        "# Load processed dataset\n",
        "processed_songs_df = pd.read_csv('D:\\\\snap_tune_final\\\\snap_tune_project\\\\proceesed_songs\\\\processed_songs_final.csv')\n",
        "\n",
        "# Check for duplicate songs (based on track_id)\n",
        "duplicate_tracks = processed_songs_df[processed_songs_df.duplicated(subset=['track_id'], keep=False)]\n",
        "print(f\"Number of rows with duplicate track_id: {len(duplicate_tracks)}\")\n",
        "print(f\"Unique track_id count: {processed_songs_df['track_id'].nunique()}\")\n",
        "\n",
        "# Example of duplicates (only if duplicates exist)\n",
        "if len(duplicate_tracks) > 0:\n",
        "    print(\"\\nSample duplicates:\")\n",
        "    print(duplicate_tracks[['track_id', 'track_name', 'artist_names', 'genres']].head(10))\n",
        "else:\n",
        "    print(\"\\nNo duplicates found.\")"
      ]
    },
    {
      "cell_type": "code",
      "execution_count": 98,
      "metadata": {},
      "outputs": [
        {
          "name": "stdout",
          "output_type": "stream",
          "text": [
            " Deduplicated dataset shape: (35200, 11)\n"
          ]
        }
      ],
      "source": [
        "# Drop duplicates based on track_id and keep the first occurrence\n",
        "deduped_df = processed_songs_df.drop_duplicates(subset='track_id', keep='first')\n",
        "\n",
        "# Save cleaned version\n",
        "deduped_df.to_csv('D:\\\\snap_tune_final\\\\snap_tune_project\\\\proceesed_songs\\\\processed_songs_deduped.csv', index=False)\n",
        "\n",
        "print(f\" Deduplicated dataset shape: {deduped_df.shape}\")"
      ]
    },
    {
      "cell_type": "code",
      "execution_count": 99,
      "metadata": {},
      "outputs": [],
      "source": [
        "cleaned_songs_df=pd.read_csv('D:\\\\snap_tune_final\\\\snap_tune_project\\\\proceesed_songs\\\\processed_songs_deduped.csv')"
      ]
    },
    {
      "cell_type": "code",
      "execution_count": 100,
      "metadata": {},
      "outputs": [
        {
          "data": {
            "text/html": [
              "<div>\n",
              "<style scoped>\n",
              "    .dataframe tbody tr th:only-of-type {\n",
              "        vertical-align: middle;\n",
              "    }\n",
              "\n",
              "    .dataframe tbody tr th {\n",
              "        vertical-align: top;\n",
              "    }\n",
              "\n",
              "    .dataframe thead th {\n",
              "        text-align: right;\n",
              "    }\n",
              "</style>\n",
              "<table border=\"1\" class=\"dataframe\">\n",
              "  <thead>\n",
              "    <tr style=\"text-align: right;\">\n",
              "      <th></th>\n",
              "      <th>track_id</th>\n",
              "      <th>track_name</th>\n",
              "      <th>artist_names</th>\n",
              "      <th>genres</th>\n",
              "      <th>valence</th>\n",
              "      <th>danceability</th>\n",
              "      <th>energy</th>\n",
              "      <th>mood</th>\n",
              "      <th>album_name</th>\n",
              "      <th>release_date</th>\n",
              "      <th>album_cover_640x640</th>\n",
              "    </tr>\n",
              "  </thead>\n",
              "  <tbody>\n",
              "    <tr>\n",
              "      <th>0</th>\n",
              "      <td>001ZmOPuWEW5czwun7nkha</td>\n",
              "      <td>Would You? (End Title)</td>\n",
              "      <td>['Gene Kelly', 'Betty Noyes']</td>\n",
              "      <td>movie tunes, adult standards, vintage hollywood</td>\n",
              "      <td>0.162</td>\n",
              "      <td>0.160</td>\n",
              "      <td>0.120</td>\n",
              "      <td>Sad</td>\n",
              "      <td>Singin' in the Rain (Original Motion Picture S...</td>\n",
              "      <td>1952-04-11</td>\n",
              "      <td>https://i.scdn.co/image/ab67616d00004851701dfe...</td>\n",
              "    </tr>\n",
              "    <tr>\n",
              "      <th>1</th>\n",
              "      <td>003FTlCpBTM4eSqYSWPv4H</td>\n",
              "      <td>Swing, Swing</td>\n",
              "      <td>['The All-American Rejects']</td>\n",
              "      <td>alternative metal, pop rock, modern rock, post...</td>\n",
              "      <td>0.318</td>\n",
              "      <td>0.553</td>\n",
              "      <td>0.717</td>\n",
              "      <td>Sad</td>\n",
              "      <td>The All-American Rejects</td>\n",
              "      <td>2002-10-15</td>\n",
              "      <td>https://i.scdn.co/image/ab67616d0000b273eba2ac...</td>\n",
              "    </tr>\n",
              "    <tr>\n",
              "      <th>2</th>\n",
              "      <td>003JzPprzThp8SHUctgXnn</td>\n",
              "      <td>Willow Weep For Me - Remastered 1998</td>\n",
              "      <td>['Thelonious Monk']</td>\n",
              "      <td>bebop, jazz, jazz piano, contemporary post-bop...</td>\n",
              "      <td>0.298</td>\n",
              "      <td>0.461</td>\n",
              "      <td>0.454</td>\n",
              "      <td>Sad</td>\n",
              "      <td>Genius Of Modern Music (Vol.2, Expanded Edition)</td>\n",
              "      <td>1952</td>\n",
              "      <td>https://i.scdn.co/image/ab67616d00004851a36b4e...</td>\n",
              "    </tr>\n",
              "    <tr>\n",
              "      <th>3</th>\n",
              "      <td>003vvx7Niy0yvhvHt4a68B</td>\n",
              "      <td>Mr. Brightside</td>\n",
              "      <td>['The Killers']</td>\n",
              "      <td>modern rock, dance rock, rock, alternative roc...</td>\n",
              "      <td>0.236</td>\n",
              "      <td>0.352</td>\n",
              "      <td>0.911</td>\n",
              "      <td>Sad</td>\n",
              "      <td>Hot Fuss</td>\n",
              "      <td>2004</td>\n",
              "      <td>https://i.scdn.co/image/ab67616d0000b273ccdddd...</td>\n",
              "    </tr>\n",
              "    <tr>\n",
              "      <th>4</th>\n",
              "      <td>0046quUYhSAFccrKIC3Iht</td>\n",
              "      <td>All Cried Out (with Full Force)</td>\n",
              "      <td>['Lisa Lisa &amp; Cult Jam']</td>\n",
              "      <td>quiet storm, contemporary r&amp;b, new jack swing,...</td>\n",
              "      <td>0.328</td>\n",
              "      <td>0.480</td>\n",
              "      <td>0.435</td>\n",
              "      <td>Sad</td>\n",
              "      <td>NaN</td>\n",
              "      <td>NaN</td>\n",
              "      <td>NaN</td>\n",
              "    </tr>\n",
              "    <tr>\n",
              "      <th>...</th>\n",
              "      <td>...</td>\n",
              "      <td>...</td>\n",
              "      <td>...</td>\n",
              "      <td>...</td>\n",
              "      <td>...</td>\n",
              "      <td>...</td>\n",
              "      <td>...</td>\n",
              "      <td>...</td>\n",
              "      <td>...</td>\n",
              "      <td>...</td>\n",
              "      <td>...</td>\n",
              "    </tr>\n",
              "    <tr>\n",
              "      <th>35195</th>\n",
              "      <td>7zvwxa2s4zIX7y49plhrmo</td>\n",
              "      <td>You Really Got a Hold on Me</td>\n",
              "      <td>['Percy Sledge']</td>\n",
              "      <td>rock-and-roll, soul, classic soul, southern soul</td>\n",
              "      <td>0.532</td>\n",
              "      <td>0.676</td>\n",
              "      <td>0.245</td>\n",
              "      <td>Neutral</td>\n",
              "      <td>NaN</td>\n",
              "      <td>NaN</td>\n",
              "      <td>NaN</td>\n",
              "    </tr>\n",
              "    <tr>\n",
              "      <th>35196</th>\n",
              "      <td>7zwNt8YuTz0wXYJEW64jbF</td>\n",
              "      <td>Freak Scene</td>\n",
              "      <td>['Dinosaur Jr.']</td>\n",
              "      <td>slacker rock, lo-fi, power pop, noise rock, al...</td>\n",
              "      <td>0.222</td>\n",
              "      <td>0.290</td>\n",
              "      <td>0.939</td>\n",
              "      <td>Sad</td>\n",
              "      <td>NaN</td>\n",
              "      <td>NaN</td>\n",
              "      <td>NaN</td>\n",
              "    </tr>\n",
              "    <tr>\n",
              "      <th>35197</th>\n",
              "      <td>7zxiwcqLQyWcLdThrsYklu</td>\n",
              "      <td>Way Down Yonder in New Orleans</td>\n",
              "      <td>['Duke Ellington', 'Duke Ellington Orchestra']</td>\n",
              "      <td>african-american classical, big band, swing, v...</td>\n",
              "      <td>0.610</td>\n",
              "      <td>0.488</td>\n",
              "      <td>0.434</td>\n",
              "      <td>Upbeat</td>\n",
              "      <td>The Duke 1940, Vol. 2</td>\n",
              "      <td>1940-01-01</td>\n",
              "      <td>https://i.scdn.co/image/ab67616d00004851ee9864...</td>\n",
              "    </tr>\n",
              "    <tr>\n",
              "      <th>35198</th>\n",
              "      <td>7zzbfi8fvHe6hm342GcNYl</td>\n",
              "      <td>Black-Throated Wind</td>\n",
              "      <td>['Bob Weir']</td>\n",
              "      <td>Unknown</td>\n",
              "      <td>0.669</td>\n",
              "      <td>0.533</td>\n",
              "      <td>0.547</td>\n",
              "      <td>Upbeat</td>\n",
              "      <td>NaN</td>\n",
              "      <td>NaN</td>\n",
              "      <td>NaN</td>\n",
              "    </tr>\n",
              "    <tr>\n",
              "      <th>35199</th>\n",
              "      <td>7zzuPsjj9L3M7ikqGmjN0D</td>\n",
              "      <td>A Long Time Ago</td>\n",
              "      <td>['Jim Croce']</td>\n",
              "      <td>classic rock, folk, mellow gold, soft rock, co...</td>\n",
              "      <td>0.793</td>\n",
              "      <td>0.526</td>\n",
              "      <td>0.432</td>\n",
              "      <td>Upbeat</td>\n",
              "      <td>You Don't Mess Around With Jim</td>\n",
              "      <td>1972-04-01</td>\n",
              "      <td>https://i.scdn.co/image/ab67616d0000485198078d...</td>\n",
              "    </tr>\n",
              "  </tbody>\n",
              "</table>\n",
              "<p>35200 rows × 11 columns</p>\n",
              "</div>"
            ],
            "text/plain": [
              "                     track_id                            track_name  \\\n",
              "0      001ZmOPuWEW5czwun7nkha                Would You? (End Title)   \n",
              "1      003FTlCpBTM4eSqYSWPv4H                          Swing, Swing   \n",
              "2      003JzPprzThp8SHUctgXnn  Willow Weep For Me - Remastered 1998   \n",
              "3      003vvx7Niy0yvhvHt4a68B                        Mr. Brightside   \n",
              "4      0046quUYhSAFccrKIC3Iht       All Cried Out (with Full Force)   \n",
              "...                       ...                                   ...   \n",
              "35195  7zvwxa2s4zIX7y49plhrmo           You Really Got a Hold on Me   \n",
              "35196  7zwNt8YuTz0wXYJEW64jbF                           Freak Scene   \n",
              "35197  7zxiwcqLQyWcLdThrsYklu        Way Down Yonder in New Orleans   \n",
              "35198  7zzbfi8fvHe6hm342GcNYl                   Black-Throated Wind   \n",
              "35199  7zzuPsjj9L3M7ikqGmjN0D                       A Long Time Ago   \n",
              "\n",
              "                                         artist_names  \\\n",
              "0                       ['Gene Kelly', 'Betty Noyes']   \n",
              "1                        ['The All-American Rejects']   \n",
              "2                                 ['Thelonious Monk']   \n",
              "3                                     ['The Killers']   \n",
              "4                            ['Lisa Lisa & Cult Jam']   \n",
              "...                                               ...   \n",
              "35195                                ['Percy Sledge']   \n",
              "35196                                ['Dinosaur Jr.']   \n",
              "35197  ['Duke Ellington', 'Duke Ellington Orchestra']   \n",
              "35198                                    ['Bob Weir']   \n",
              "35199                                   ['Jim Croce']   \n",
              "\n",
              "                                                  genres  valence  \\\n",
              "0        movie tunes, adult standards, vintage hollywood    0.162   \n",
              "1      alternative metal, pop rock, modern rock, post...    0.318   \n",
              "2      bebop, jazz, jazz piano, contemporary post-bop...    0.298   \n",
              "3      modern rock, dance rock, rock, alternative roc...    0.236   \n",
              "4      quiet storm, contemporary r&b, new jack swing,...    0.328   \n",
              "...                                                  ...      ...   \n",
              "35195   rock-and-roll, soul, classic soul, southern soul    0.532   \n",
              "35196  slacker rock, lo-fi, power pop, noise rock, al...    0.222   \n",
              "35197  african-american classical, big band, swing, v...    0.610   \n",
              "35198                                            Unknown    0.669   \n",
              "35199  classic rock, folk, mellow gold, soft rock, co...    0.793   \n",
              "\n",
              "       danceability  energy     mood  \\\n",
              "0             0.160   0.120      Sad   \n",
              "1             0.553   0.717      Sad   \n",
              "2             0.461   0.454      Sad   \n",
              "3             0.352   0.911      Sad   \n",
              "4             0.480   0.435      Sad   \n",
              "...             ...     ...      ...   \n",
              "35195         0.676   0.245  Neutral   \n",
              "35196         0.290   0.939      Sad   \n",
              "35197         0.488   0.434   Upbeat   \n",
              "35198         0.533   0.547   Upbeat   \n",
              "35199         0.526   0.432   Upbeat   \n",
              "\n",
              "                                              album_name release_date  \\\n",
              "0      Singin' in the Rain (Original Motion Picture S...   1952-04-11   \n",
              "1                               The All-American Rejects   2002-10-15   \n",
              "2       Genius Of Modern Music (Vol.2, Expanded Edition)         1952   \n",
              "3                                               Hot Fuss         2004   \n",
              "4                                                    NaN          NaN   \n",
              "...                                                  ...          ...   \n",
              "35195                                                NaN          NaN   \n",
              "35196                                                NaN          NaN   \n",
              "35197                              The Duke 1940, Vol. 2   1940-01-01   \n",
              "35198                                                NaN          NaN   \n",
              "35199                     You Don't Mess Around With Jim   1972-04-01   \n",
              "\n",
              "                                     album_cover_640x640  \n",
              "0      https://i.scdn.co/image/ab67616d00004851701dfe...  \n",
              "1      https://i.scdn.co/image/ab67616d0000b273eba2ac...  \n",
              "2      https://i.scdn.co/image/ab67616d00004851a36b4e...  \n",
              "3      https://i.scdn.co/image/ab67616d0000b273ccdddd...  \n",
              "4                                                    NaN  \n",
              "...                                                  ...  \n",
              "35195                                                NaN  \n",
              "35196                                                NaN  \n",
              "35197  https://i.scdn.co/image/ab67616d00004851ee9864...  \n",
              "35198                                                NaN  \n",
              "35199  https://i.scdn.co/image/ab67616d0000485198078d...  \n",
              "\n",
              "[35200 rows x 11 columns]"
            ]
          },
          "execution_count": 100,
          "metadata": {},
          "output_type": "execute_result"
        }
      ],
      "source": [
        "cleaned_songs_df"
      ]
    },
    {
      "cell_type": "code",
      "execution_count": 101,
      "metadata": {},
      "outputs": [
        {
          "data": {
            "text/plain": [
              "Index(['track_id', 'track_name', 'artist_names', 'genres', 'valence',\n",
              "       'danceability', 'energy', 'mood', 'album_name', 'release_date',\n",
              "       'album_cover_640x640'],\n",
              "      dtype='object')"
            ]
          },
          "execution_count": 101,
          "metadata": {},
          "output_type": "execute_result"
        }
      ],
      "source": [
        "cleaned_songs_df.columns  #check for the columns in the dataframe\n"
      ]
    },
    {
      "cell_type": "code",
      "execution_count": null,
      "metadata": {},
      "outputs": [
        {
          "data": {
            "text/plain": [
              "track_id                  0\n",
              "track_name                0\n",
              "artist_names              0\n",
              "genres                    0\n",
              "valence                   0\n",
              "danceability              0\n",
              "energy                    0\n",
              "mood                      0\n",
              "album_name             6200\n",
              "release_date           6200\n",
              "album_cover_640x640    6200\n",
              "dtype: int64"
            ]
          },
          "execution_count": 106,
          "metadata": {},
          "output_type": "execute_result"
        }
      ],
      "source": [
        "cleaned_songs_df.isnull().sum()  #chec for null columns "
      ]
    },
    {
      "cell_type": "code",
      "execution_count": null,
      "metadata": {},
      "outputs": [
        {
          "name": "stdout",
          "output_type": "stream",
          "text": [
            "0      movie tunes, adult standards, vintage hollywood\n",
            "1    alternative metal, pop rock, modern rock, post...\n",
            "2    bebop, jazz, jazz piano, contemporary post-bop...\n",
            "3    modern rock, dance rock, rock, alternative roc...\n",
            "4    quiet storm, contemporary r&b, new jack swing,...\n",
            "5                            impressionism, ethio-jazz\n",
            "6    german romanticism, classical, american classi...\n",
            "7                latin arena pop, cantautor, latin pop\n",
            "8                                                  pop\n",
            "9                                              Unknown\n",
            "Name: genres, dtype: object\n",
            "0            ['Gene Kelly', 'Betty Noyes']\n",
            "1             ['The All-American Rejects']\n",
            "2                      ['Thelonious Monk']\n",
            "3                          ['The Killers']\n",
            "4                 ['Lisa Lisa & Cult Jam']\n",
            "5            ['Emahoy Tsege Mariam Gebru']\n",
            "6    ['Johannes Brahms', 'Eugene Istomin']\n",
            "7                       ['Ricardo Arjona']\n",
            "8                           ['Katy Perry']\n",
            "9      ['Georgette Heyer', 'Irina Salkow']\n",
            "Name: artist_names, dtype: object\n"
          ]
        }
      ],
      "source": [
        "print(cleaned_songs_df['genres'].head(10)) #print first 10 generes\n",
        "print(cleaned_songs_df['artist_names'].head(10)) #print first 10 artists names "
      ]
    },
    {
      "cell_type": "code",
      "execution_count": 102,
      "metadata": {},
      "outputs": [
        {
          "name": "stdout",
          "output_type": "stream",
          "text": [
            "mood_encoded    1.000000\n",
            "valence         0.574561\n",
            "danceability    0.271144\n",
            "energy          0.172178\n",
            "Name: mood_encoded, dtype: float64\n"
          ]
        }
      ],
      "source": [
        "df_temp = cleaned_songs_df.copy()\n",
        "df_temp['mood_encoded'] = df_temp['mood'].astype('category').cat.codes\n",
        "\n",
        "print(df_temp.corr(numeric_only=True)['mood_encoded'].sort_values(ascending=False))\n"
      ]
    },
    {
      "cell_type": "code",
      "execution_count": 103,
      "metadata": {
        "colab": {
          "base_uri": "https://localhost:8080/",
          "height": 458
        },
        "id": "sK08nxwv23Lb",
        "outputId": "ac4faf5a-d0ac-4b80-891b-697942212185"
      },
      "outputs": [
        {
          "data": {
            "text/plain": [
              "0            Sad\n",
              "1            Sad\n",
              "2            Sad\n",
              "3            Sad\n",
              "4            Sad\n",
              "          ...   \n",
              "35195    Neutral\n",
              "35196        Sad\n",
              "35197     Upbeat\n",
              "35198     Upbeat\n",
              "35199     Upbeat\n",
              "Name: mood, Length: 35200, dtype: object"
            ]
          },
          "execution_count": 103,
          "metadata": {},
          "output_type": "execute_result"
        }
      ],
      "source": [
        "cleaned_songs_df['mood']  #checked for the mood column"
      ]
    },
    {
      "cell_type": "code",
      "execution_count": 104,
      "metadata": {
        "colab": {
          "base_uri": "https://localhost:8080/"
        },
        "id": "HCocW5Y030YV",
        "outputId": "00142440-8798-4a83-9f22-9d594edaad37"
      },
      "outputs": [
        {
          "data": {
            "text/plain": [
              "array(['Sad', 'Neutral', 'Upbeat'], dtype=object)"
            ]
          },
          "execution_count": 104,
          "metadata": {},
          "output_type": "execute_result"
        }
      ],
      "source": [
        "cleaned_songs_df['mood'].unique()  #check for the unique values\n"
      ]
    },
    {
      "cell_type": "code",
      "execution_count": 105,
      "metadata": {},
      "outputs": [
        {
          "data": {
            "text/plain": [
              "mood\n",
              "Upbeat     16264\n",
              "Sad        10594\n",
              "Neutral     8342\n",
              "Name: count, dtype: int64"
            ]
          },
          "execution_count": 105,
          "metadata": {},
          "output_type": "execute_result"
        }
      ],
      "source": [
        "cleaned_songs_df['mood'].value_counts()   #check for the count of the values  OR count the unique values\n",
        "\n"
      ]
    },
    {
      "cell_type": "markdown",
      "metadata": {
        "id": "XdB3D0hDykJk"
      },
      "source": [
        "# MODEL TRAINING"
      ]
    },
    {
      "cell_type": "code",
      "execution_count": 110,
      "metadata": {
        "colab": {
          "base_uri": "https://localhost:8080/"
        },
        "id": "DvjN_Jemyd52",
        "outputId": "656106a7-371d-4c9b-8fe2-1b8c7b080834"
      },
      "outputs": [
        {
          "name": "stdout",
          "output_type": "stream",
          "text": [
            "Mood distribution:\n",
            "mood\n",
            "Upbeat     0.462045\n",
            "Sad        0.300966\n",
            "Neutral    0.236989\n",
            "Name: proportion, dtype: float64\n",
            "Training Accuracy: 1.00\n",
            "Test Accuracy: 1.00\n",
            "Model appears balanced (similar training and test accuracy).\n",
            "Cross-Validation Accuracy: 1.00 ± 0.00\n",
            "\n",
            "Classification Report (Test Set):\n",
            "              precision    recall  f1-score   support\n",
            "\n",
            "     Neutral       1.00      1.00      1.00      1687\n",
            "         Sad       1.00      1.00      1.00      2139\n",
            "      Upbeat       1.00      1.00      1.00      3214\n",
            "\n",
            "    accuracy                           1.00      7040\n",
            "   macro avg       1.00      1.00      1.00      7040\n",
            "weighted avg       1.00      1.00      1.00      7040\n",
            "\n"
          ]
        },
        {
          "data": {
            "text/plain": [
              "['D:\\\\snap_tune_final\\\\snap_tune_project\\\\models\\\\song_recommender.pkl']"
            ]
          },
          "execution_count": 110,
          "metadata": {},
          "output_type": "execute_result"
        }
      ],
      "source": [
        "\n",
        "\n",
        "# Import libraries\n",
        "import pandas as pd\n",
        "from sklearn.ensemble import RandomForestClassifier\n",
        "from sklearn.model_selection import train_test_split, cross_val_score\n",
        "from sklearn.metrics import accuracy_score, classification_report\n",
        "import joblib\n",
        "\n",
        "# Load processed dataset\n",
        "processed_songs_df = pd.read_csv('D:\\\\snap_tune_final\\\\snap_tune_project\\\\proceesed_songs\\\\processed_songs_deduped.csv')\n",
        "\n",
        "# Check class distribution\n",
        "print(\"Mood distribution:\")\n",
        "print(processed_songs_df['mood'].value_counts(normalize=True))\n",
        "\n",
        "# Prepare features and labels\n",
        "X = processed_songs_df[['valence', 'danceability', 'energy']]  # Features\n",
        "y = processed_songs_df['mood']  # Target (Upbeat, Neutral, Sad)\n",
        "X_train, X_test, y_train, y_test = train_test_split(X, y, test_size=0.2, random_state=42)\n",
        "\n",
        "# Train Random Forest model\n",
        "model = RandomForestClassifier(n_estimators=100, random_state=42)\n",
        "model.fit(X_train, y_train)\n",
        "\n",
        "# Evaluate on training set\n",
        "y_train_pred = model.predict(X_train)\n",
        "train_accuracy = accuracy_score(y_train, y_train_pred)\n",
        "print(f\"Training Accuracy: {train_accuracy:.2f}\")\n",
        "\n",
        "# Evaluate on test set\n",
        "y_test_pred = model.predict(X_test)\n",
        "test_accuracy = accuracy_score(y_test, y_test_pred)\n",
        "print(f\"Test Accuracy: {test_accuracy:.2f}\")\n",
        "\n",
        "# Check for overfitting/underfitting\n",
        "if train_accuracy > test_accuracy + 0.1:\n",
        "    print(\"Warning: Potential overfitting (training accuracy significantly higher than test accuracy).\")\n",
        "elif train_accuracy < 0.7 and test_accuracy < 0.7:\n",
        "    print(\"Warning: Potential underfitting (low accuracy on both training and test sets).\")\n",
        "else:\n",
        "    print(\"Model appears balanced (similar training and test accuracy).\")\n",
        "\n",
        "# Cross-validation\n",
        "cv_scores = cross_val_score(model, X, y, cv=5, scoring='accuracy')\n",
        "print(f\"Cross-Validation Accuracy: {cv_scores.mean():.2f} ± {cv_scores.std():.2f}\")\n",
        "\n",
        "# Detailed metrics\n",
        "print(\"\\nClassification Report (Test Set):\")\n",
        "print(classification_report(y_test, y_test_pred))\n",
        "\n",
        "# Save model\n",
        "joblib.dump(model, 'D:\\\\snap_tune_final\\\\snap_tune_project\\\\models\\\\song_recommender.pkl')"
      ]
    },
    {
      "cell_type": "markdown",
      "metadata": {
        "id": "nJNZ5ZQestbf"
      },
      "source": [
        "#EXTRACTING COLOR PATTERNS"
      ]
    },
    {
      "cell_type": "code",
      "execution_count": null,
      "metadata": {},
      "outputs": [],
      "source": []
    },
    {
      "cell_type": "code",
      "execution_count": null,
      "metadata": {
        "colab": {
          "base_uri": "https://localhost:8080/"
        },
        "id": "fDuyAiM93fAv",
        "outputId": "6e506c08-5ab9-43e1-c0fd-2b481a2a6487"
      },
      "outputs": [
        {
          "name": "stdout",
          "output_type": "stream",
          "text": [
            "Image Mood: Neutral, Dominant Colors (RGB): [[ 37  29  34]\n",
            " [205 128  87]\n",
            " [106  81  68]]\n"
          ]
        }
      ],
      "source": [
        "\n",
        "\n",
        "# Import libraries\n",
        "import cv2\n",
        "import numpy as np\n",
        "from sklearn.cluster import KMeans\n",
        "\n",
        "def get_dominant_colors(image_path, k=3):\n",
        "    image = cv2.imread(image_path)  # reads the image from the local path\n",
        "\n",
        "    if image is None:\n",
        "        return 'Neutral', np.array([[0, 0, 0]])  #no image then it returns the neutral mood\n",
        "    image = cv2.cvtColor(image, cv2.COLOR_BGR2RGB)  #converts BGR TO RGB FORMAT \n",
        "    image = image.reshape((image.shape[0] * image.shape[1], 3))  # flattens the 2D image into a list of pixels\n",
        "    kmeans = KMeans(n_clusters=k) #Apply k means clustering to find dominant colors\n",
        "    kmeans.fit(image)\n",
        "    colors = kmeans.cluster_centers_.astype(int)\n",
        "    avg_brightness = np.mean(colors)  # Average RGB value\n",
        "    mood = 'Upbeat' if avg_brightness > 150 else 'Sad' if avg_brightness < 75 else 'Neutral'\n",
        "    return mood, colors\n",
        "\n",
        "# Test with a sample image (upload to Colab)\n",
        "image_path = 'D:\\\\snap_tune_final\\\\snap_tune_project\\\\images\\\\image_2.jpg'\n",
        "image_mood, colors = get_dominant_colors(image_path)\n",
        "print(f\"Image Mood: {image_mood}, Dominant Colors (RGB): {colors}\")\n"
      ]
    },
    {
      "cell_type": "markdown",
      "metadata": {
        "id": "wuI3hd0ytH_r"
      },
      "source": [
        "#TEXT SENTIMENT ANALYSSIS"
      ]
    },
    {
      "cell_type": "code",
      "execution_count": 112,
      "metadata": {
        "colab": {
          "base_uri": "https://localhost:8080/"
        },
        "id": "XnNuf8mh3aOo",
        "outputId": "f592db6d-78b8-4dd9-c005-2bcdaf8a81bf"
      },
      "outputs": [
        {
          "name": "stdout",
          "output_type": "stream",
          "text": [
            "Text Sentiment: Positive, Score: 0.6239\n"
          ]
        }
      ],
      "source": [
        "\n",
        "\n",
        "# Import library\n",
        "from vaderSentiment.vaderSentiment import SentimentIntensityAnalyzer\n",
        "\n",
        "def analyze_text_sentiment(text):\n",
        "    analyzer = SentimentIntensityAnalyzer()\n",
        "    scores = analyzer.polarity_scores(text)\n",
        "    compound = scores['compound']\n",
        "    if compound > 0.05:\n",
        "        return 'Positive', compound\n",
        "    elif compound < -0.05:\n",
        "        return 'Negative', compound\n",
        "    else:\n",
        "        return 'Neutral', compound\n",
        "\n",
        "# Test with sample text\n",
        "text = \"I had an amazing day at the park!\"\n",
        "text_sentiment, score = analyze_text_sentiment(text)\n",
        "print(f\"Text Sentiment: {text_sentiment}, Score: {score}\")"
      ]
    },
    {
      "cell_type": "markdown",
      "metadata": {
        "id": "_-16hjGo67bn"
      },
      "source": [
        "#COMBINE FEATURES AND RECOMMEND SONGS"
      ]
    },
    {
      "cell_type": "code",
      "execution_count": 113,
      "metadata": {
        "colab": {
          "base_uri": "https://localhost:8080/"
        },
        "id": "SZ6p0gGC61vj",
        "outputId": "9519d759-5da1-4808-e4a6-85c14fa57246"
      },
      "outputs": [
        {
          "name": "stdout",
          "output_type": "stream",
          "text": [
            "Predicted Mood: Neutral\n",
            "Recommended Songs:\n",
            "                                       track_name  \\\n",
            "7781                                     G.O.A.T.   \n",
            "13124                                  Milestones   \n",
            "490    Часть 8.3 - На Западном фронте без перемен   \n",
            "54515                   Reproches - Remasterizado   \n",
            "28553                             Stop This Train   \n",
            "\n",
            "                      artist_names  \\\n",
            "7781   ['Eric Bellinger', 'Aroc!']   \n",
            "13124          ['Bill Evans Trio']   \n",
            "490          ['Эрих Мария Ремарк']   \n",
            "54515          ['Ignacio Corsini']   \n",
            "28553               ['John Mayer']   \n",
            "\n",
            "                                              genres     mood  \n",
            "7781                                    pop r&b, r&b  Neutral  \n",
            "13124  jazz, bebop, jazz trio, contemporary post-bop  Neutral  \n",
            "490                                          Unknown  Neutral  \n",
            "54515                                  vintage tango  Neutral  \n",
            "28553                  singer-songwriter, neo mellow  Neutral  \n"
          ]
        },
        {
          "name": "stderr",
          "output_type": "stream",
          "text": [
            "d:\\snap_tune_final\\snap_tune_project\\env\\Lib\\site-packages\\sklearn\\utils\\validation.py:2749: UserWarning: X does not have valid feature names, but RandomForestClassifier was fitted with feature names\n",
            "  warnings.warn(\n"
          ]
        }
      ],
      "source": [
        "def recommend_songs(image_mood, text_sentiment, songs_df, model):\n",
        "    # Map image and text moods to approximate audio features\n",
        "    mood_mapping = {\n",
        "        'Upbeat': {'valence': 0.7, 'danceability': 0.8, 'energy': 0.9},\n",
        "        'Neutral': {'valence': 0.5, 'danceability': 0.6, 'energy': 0.6},\n",
        "        'Sad': {'valence': 0.3, 'danceability': 0.4, 'energy': 0.3}\n",
        "    }\n",
        "\n",
        "    # Combine image and text moods (simple averaging for now)\n",
        "    if image_mood == 'Upbeat' and text_sentiment == 'Positive':\n",
        "        features = mood_mapping['Upbeat']\n",
        "    elif image_mood == 'Sad' or text_sentiment == 'Negative':\n",
        "        features = mood_mapping['Sad']\n",
        "    else:\n",
        "        features = mood_mapping['Neutral']\n",
        "\n",
        "    # Predict mood using ML model\n",
        "    feature_values = [[features['valence'], features['danceability'], features['energy']]]\n",
        "    predicted_mood = model.predict(feature_values)[0]\n",
        "\n",
        "    # Recommend 5 random songs from the predicted mood\n",
        "    recommendations = songs_df[songs_df['mood'] == predicted_mood].sample(5)\n",
        "    return recommendations, predicted_mood\n",
        "\n",
        "# Test recommendation\n",
        "model = joblib.load('D:\\\\snap_tune_final\\\\snap_tune_project\\\\models\\\\song_recommender.pkl')\n",
        "recommendations, predicted_mood = recommend_songs(image_mood, text_sentiment, songs_df, model)\n",
        "print(f\"Predicted Mood: {predicted_mood}\")\n",
        "print(\"Recommended Songs:\")\n",
        "print(recommendations[['track_name', 'artist_names', 'genres', 'mood']])"
      ]
    },
    {
      "cell_type": "code",
      "execution_count": null,
      "metadata": {},
      "outputs": [],
      "source": []
    }
  ],
  "metadata": {
    "colab": {
      "provenance": []
    },
    "kernelspec": {
      "display_name": "env",
      "language": "python",
      "name": "python3"
    },
    "language_info": {
      "codemirror_mode": {
        "name": "ipython",
        "version": 3
      },
      "file_extension": ".py",
      "mimetype": "text/x-python",
      "name": "python",
      "nbconvert_exporter": "python",
      "pygments_lexer": "ipython3",
      "version": "3.13.1"
    }
  },
  "nbformat": 4,
  "nbformat_minor": 0
}
