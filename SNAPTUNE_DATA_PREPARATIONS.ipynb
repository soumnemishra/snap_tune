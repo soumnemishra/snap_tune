{
  "cells": [
    {
      "cell_type": "markdown",
      "metadata": {},
      "source": [
        "# IMPORTED LIB"
      ]
    },
    {
      "cell_type": "code",
      "execution_count": 56,
      "metadata": {
        "id": "nD8r-RSknIhX"
      },
      "outputs": [],
      "source": [
        "import pandas as pd\n",
        "import numpy as np\n",
        "\n",
        "from sklearn.model_selection import train_test_split\n",
        "from sklearn.metrics import accuracy_score\n",
        "import joblib\n",
        "import spotipy\n",
        "from spotipy.oauth2 import SpotifyClientCredentials\n",
        "from tqdm import tqdm\n",
        "from spotipy.oauth2 import SpotifyOAuth\n",
        "\n"
      ]
    },
    {
      "cell_type": "markdown",
      "metadata": {
        "id": "i3rxA8dBnvId"
      },
      "source": [
        "# LOADING CSV FILES"
      ]
    },
    {
      "cell_type": "code",
      "execution_count": 55,
      "metadata": {
        "id": "jLnxzVUnngrA"
      },
      "outputs": [],
      "source": [
        "\n",
        "songs_df = pd.read_csv('D:\\\\snap_tune_final\\\\snap_tune_project\\\\archive\\\\songs_with_audio_feature.csv')  # Song data\n",
        "artists_df = pd.read_csv('D:\\\\snap_tune_final\\\\snap_tune_project\\\\archive\\\\artists.csv')  # Artist data\n",
        "albums_df = pd.read_csv('D:\\\\snap_tune_final\\\\snap_tune_project\\\\archive\\\\albums.csv')  # Album data"
      ]
    },
    {
      "cell_type": "markdown",
      "metadata": {},
      "source": [
        "# SONGS CSVS ANALYSIS"
      ]
    },
    {
      "cell_type": "code",
      "execution_count": 3,
      "metadata": {
        "colab": {
          "base_uri": "https://localhost:8080/",
          "height": 463
        },
        "id": "AoHGufFNoA11",
        "outputId": "92f51c4a-3307-4426-b511-a055728316fe"
      },
      "outputs": [
        {
          "data": {
            "text/html": [
              "<div>\n",
              "<style scoped>\n",
              "    .dataframe tbody tr th:only-of-type {\n",
              "        vertical-align: middle;\n",
              "    }\n",
              "\n",
              "    .dataframe tbody tr th {\n",
              "        vertical-align: top;\n",
              "    }\n",
              "\n",
              "    .dataframe thead th {\n",
              "        text-align: right;\n",
              "    }\n",
              "</style>\n",
              "<table border=\"1\" class=\"dataframe\">\n",
              "  <thead>\n",
              "    <tr style=\"text-align: right;\">\n",
              "      <th></th>\n",
              "      <th>track_id</th>\n",
              "      <th>track_name</th>\n",
              "      <th>album_id</th>\n",
              "      <th>artist_ids</th>\n",
              "      <th>artist_names</th>\n",
              "      <th>valence</th>\n",
              "      <th>year</th>\n",
              "      <th>acousticness</th>\n",
              "      <th>danceability</th>\n",
              "      <th>duration_ms</th>\n",
              "      <th>...</th>\n",
              "      <th>explicit</th>\n",
              "      <th>instrumentalness</th>\n",
              "      <th>key</th>\n",
              "      <th>liveness</th>\n",
              "      <th>loudness</th>\n",
              "      <th>mode</th>\n",
              "      <th>popularity</th>\n",
              "      <th>release_date</th>\n",
              "      <th>speechiness</th>\n",
              "      <th>tempo</th>\n",
              "    </tr>\n",
              "  </thead>\n",
              "  <tbody>\n",
              "    <tr>\n",
              "      <th>0</th>\n",
              "      <td>4BJqT0PrAfrxzMOxytFOIz</td>\n",
              "      <td>Piano Concerto No. 3 in D Minor, Op. 30: III. ...</td>\n",
              "      <td>6UKhQXIboybG7JPka28bZR</td>\n",
              "      <td>['0Kekt6CKSo0m5mivKcoH51', '4qFQgEF1rg6a9WvJM0...</td>\n",
              "      <td>['Sergei Rachmaninoff', 'James Levine', 'Berli...</td>\n",
              "      <td>0.0594</td>\n",
              "      <td>1921</td>\n",
              "      <td>0.982</td>\n",
              "      <td>0.279</td>\n",
              "      <td>831667</td>\n",
              "      <td>...</td>\n",
              "      <td>0</td>\n",
              "      <td>0.878000</td>\n",
              "      <td>10</td>\n",
              "      <td>0.665</td>\n",
              "      <td>-20.096</td>\n",
              "      <td>1</td>\n",
              "      <td>4</td>\n",
              "      <td>1921</td>\n",
              "      <td>0.0366</td>\n",
              "      <td>80.954</td>\n",
              "    </tr>\n",
              "    <tr>\n",
              "      <th>1</th>\n",
              "      <td>7xPhfUan2yNtyFG0cUWkt8</td>\n",
              "      <td>Clancy Lowered the Boom</td>\n",
              "      <td>4LePw1NceheT4selvgH0cE</td>\n",
              "      <td>['0y60qXGlDixlFJcjUU6pwY']</td>\n",
              "      <td>['Dennis Day']</td>\n",
              "      <td>0.9630</td>\n",
              "      <td>1921</td>\n",
              "      <td>0.732</td>\n",
              "      <td>0.819</td>\n",
              "      <td>180533</td>\n",
              "      <td>...</td>\n",
              "      <td>0</td>\n",
              "      <td>0.000000</td>\n",
              "      <td>7</td>\n",
              "      <td>0.160</td>\n",
              "      <td>-12.441</td>\n",
              "      <td>1</td>\n",
              "      <td>5</td>\n",
              "      <td>1921</td>\n",
              "      <td>0.4150</td>\n",
              "      <td>60.936</td>\n",
              "    </tr>\n",
              "    <tr>\n",
              "      <th>2</th>\n",
              "      <td>1o6I8BglA6ylDMrIELygv1</td>\n",
              "      <td>Gati Bali</td>\n",
              "      <td>3kjFZyMpkcTARMXuLrpipj</td>\n",
              "      <td>['7u5sCPrTVbLMZMlogVRZc0']</td>\n",
              "      <td>['KHP Kridhamardawa Karaton Ngayogyakarta Hadi...</td>\n",
              "      <td>0.0394</td>\n",
              "      <td>1921</td>\n",
              "      <td>0.961</td>\n",
              "      <td>0.328</td>\n",
              "      <td>500062</td>\n",
              "      <td>...</td>\n",
              "      <td>0</td>\n",
              "      <td>0.913000</td>\n",
              "      <td>3</td>\n",
              "      <td>0.101</td>\n",
              "      <td>-14.850</td>\n",
              "      <td>1</td>\n",
              "      <td>5</td>\n",
              "      <td>1921</td>\n",
              "      <td>0.0339</td>\n",
              "      <td>110.339</td>\n",
              "    </tr>\n",
              "    <tr>\n",
              "      <th>3</th>\n",
              "      <td>3ftBPsC5vPBKxYSee08FDH</td>\n",
              "      <td>Danny Boy</td>\n",
              "      <td>4LePw1NceheT4selvgH0cE</td>\n",
              "      <td>['1gY7W6RY3EHWRWSv9Dhjqa']</td>\n",
              "      <td>['Frank Parker']</td>\n",
              "      <td>0.1650</td>\n",
              "      <td>1921</td>\n",
              "      <td>0.967</td>\n",
              "      <td>0.275</td>\n",
              "      <td>210000</td>\n",
              "      <td>...</td>\n",
              "      <td>0</td>\n",
              "      <td>0.000028</td>\n",
              "      <td>5</td>\n",
              "      <td>0.381</td>\n",
              "      <td>-9.316</td>\n",
              "      <td>1</td>\n",
              "      <td>3</td>\n",
              "      <td>1921</td>\n",
              "      <td>0.0354</td>\n",
              "      <td>100.109</td>\n",
              "    </tr>\n",
              "    <tr>\n",
              "      <th>4</th>\n",
              "      <td>4d6HGyGT8e121BsdKmw9v6</td>\n",
              "      <td>When Irish Eyes Are Smiling</td>\n",
              "      <td>4LePw1NceheT4selvgH0cE</td>\n",
              "      <td>['08egOYfLsuZvkG0jFN7nUj']</td>\n",
              "      <td>['Phil Regan']</td>\n",
              "      <td>0.2530</td>\n",
              "      <td>1921</td>\n",
              "      <td>0.957</td>\n",
              "      <td>0.418</td>\n",
              "      <td>166693</td>\n",
              "      <td>...</td>\n",
              "      <td>0</td>\n",
              "      <td>0.000002</td>\n",
              "      <td>3</td>\n",
              "      <td>0.229</td>\n",
              "      <td>-10.096</td>\n",
              "      <td>1</td>\n",
              "      <td>2</td>\n",
              "      <td>1921</td>\n",
              "      <td>0.0380</td>\n",
              "      <td>101.665</td>\n",
              "    </tr>\n",
              "  </tbody>\n",
              "</table>\n",
              "<p>5 rows × 21 columns</p>\n",
              "</div>"
            ],
            "text/plain": [
              "                 track_id                                         track_name  \\\n",
              "0  4BJqT0PrAfrxzMOxytFOIz  Piano Concerto No. 3 in D Minor, Op. 30: III. ...   \n",
              "1  7xPhfUan2yNtyFG0cUWkt8                            Clancy Lowered the Boom   \n",
              "2  1o6I8BglA6ylDMrIELygv1                                          Gati Bali   \n",
              "3  3ftBPsC5vPBKxYSee08FDH                                          Danny Boy   \n",
              "4  4d6HGyGT8e121BsdKmw9v6                        When Irish Eyes Are Smiling   \n",
              "\n",
              "                 album_id                                         artist_ids  \\\n",
              "0  6UKhQXIboybG7JPka28bZR  ['0Kekt6CKSo0m5mivKcoH51', '4qFQgEF1rg6a9WvJM0...   \n",
              "1  4LePw1NceheT4selvgH0cE                         ['0y60qXGlDixlFJcjUU6pwY']   \n",
              "2  3kjFZyMpkcTARMXuLrpipj                         ['7u5sCPrTVbLMZMlogVRZc0']   \n",
              "3  4LePw1NceheT4selvgH0cE                         ['1gY7W6RY3EHWRWSv9Dhjqa']   \n",
              "4  4LePw1NceheT4selvgH0cE                         ['08egOYfLsuZvkG0jFN7nUj']   \n",
              "\n",
              "                                        artist_names  valence  year  \\\n",
              "0  ['Sergei Rachmaninoff', 'James Levine', 'Berli...   0.0594  1921   \n",
              "1                                     ['Dennis Day']   0.9630  1921   \n",
              "2  ['KHP Kridhamardawa Karaton Ngayogyakarta Hadi...   0.0394  1921   \n",
              "3                                   ['Frank Parker']   0.1650  1921   \n",
              "4                                     ['Phil Regan']   0.2530  1921   \n",
              "\n",
              "   acousticness  danceability  duration_ms  ...  explicit  instrumentalness  \\\n",
              "0         0.982         0.279       831667  ...         0          0.878000   \n",
              "1         0.732         0.819       180533  ...         0          0.000000   \n",
              "2         0.961         0.328       500062  ...         0          0.913000   \n",
              "3         0.967         0.275       210000  ...         0          0.000028   \n",
              "4         0.957         0.418       166693  ...         0          0.000002   \n",
              "\n",
              "   key  liveness  loudness  mode  popularity  release_date speechiness  \\\n",
              "0   10     0.665   -20.096     1           4          1921      0.0366   \n",
              "1    7     0.160   -12.441     1           5          1921      0.4150   \n",
              "2    3     0.101   -14.850     1           5          1921      0.0339   \n",
              "3    5     0.381    -9.316     1           3          1921      0.0354   \n",
              "4    3     0.229   -10.096     1           2          1921      0.0380   \n",
              "\n",
              "     tempo  \n",
              "0   80.954  \n",
              "1   60.936  \n",
              "2  110.339  \n",
              "3  100.109  \n",
              "4  101.665  \n",
              "\n",
              "[5 rows x 21 columns]"
            ]
          },
          "execution_count": 3,
          "metadata": {},
          "output_type": "execute_result"
        }
      ],
      "source": [
        "songs_df.head()"
      ]
    },
    {
      "cell_type": "code",
      "execution_count": 4,
      "metadata": {
        "colab": {
          "base_uri": "https://localhost:8080/"
        },
        "id": "HhcIqoEQoYy0",
        "outputId": "8a87d318-755d-455b-d2e3-8782a21b9915"
      },
      "outputs": [
        {
          "data": {
            "text/plain": [
              "Index(['track_id', 'track_name', 'album_id', 'artist_ids', 'artist_names',\n",
              "       'valence', 'year', 'acousticness', 'danceability', 'duration_ms',\n",
              "       'energy', 'explicit', 'instrumentalness', 'key', 'liveness', 'loudness',\n",
              "       'mode', 'popularity', 'release_date', 'speechiness', 'tempo'],\n",
              "      dtype='object')"
            ]
          },
          "execution_count": 4,
          "metadata": {},
          "output_type": "execute_result"
        }
      ],
      "source": [
        "songs_df.columns"
      ]
    },
    {
      "cell_type": "code",
      "execution_count": 5,
      "metadata": {},
      "outputs": [
        {
          "data": {
            "text/plain": [
              "artist_ids\n",
              "<class 'str'>    35200\n",
              "Name: count, dtype: int64"
            ]
          },
          "execution_count": 5,
          "metadata": {},
          "output_type": "execute_result"
        }
      ],
      "source": [
        "songs_df['artist_ids'].apply(type).value_counts()\n"
      ]
    },
    {
      "cell_type": "code",
      "execution_count": 6,
      "metadata": {},
      "outputs": [
        {
          "data": {
            "text/plain": [
              "0        ['Sergei Rachmaninoff', 'James Levine', 'Berli...\n",
              "1                                           ['Dennis Day']\n",
              "2        ['KHP Kridhamardawa Karaton Ngayogyakarta Hadi...\n",
              "3                                         ['Frank Parker']\n",
              "4                                           ['Phil Regan']\n",
              "                               ...                        \n",
              "35195                                      ['Evanescence']\n",
              "35196                                  ['Alberto Pedraza']\n",
              "35197                                  ['Marques Houston']\n",
              "35198                                      ['Linkin Park']\n",
              "35199                                     ['Jack Johnson']\n",
              "Name: artist_names, Length: 35200, dtype: object"
            ]
          },
          "execution_count": 6,
          "metadata": {},
          "output_type": "execute_result"
        }
      ],
      "source": [
        "songs_df['artist_names']"
      ]
    },
    {
      "cell_type": "code",
      "execution_count": 7,
      "metadata": {
        "colab": {
          "base_uri": "https://localhost:8080/"
        },
        "id": "n6UktVzaopxd",
        "outputId": "eed7047c-bb52-4e37-deb5-5cca256c2d43"
      },
      "outputs": [
        {
          "data": {
            "text/plain": [
              "(35200, 21)"
            ]
          },
          "execution_count": 7,
          "metadata": {},
          "output_type": "execute_result"
        }
      ],
      "source": [
        "songs_df.shape"
      ]
    },
    {
      "cell_type": "code",
      "execution_count": 7,
      "metadata": {
        "colab": {
          "base_uri": "https://localhost:8080/"
        },
        "id": "3KqJeM_VRBw_",
        "outputId": "fe691e63-eb9f-4c70-a25f-53db66e28ec1"
      },
      "outputs": [
        {
          "name": "stdout",
          "output_type": "stream",
          "text": [
            "<class 'pandas.core.frame.DataFrame'>\n",
            "RangeIndex: 35200 entries, 0 to 35199\n",
            "Data columns (total 21 columns):\n",
            " #   Column            Non-Null Count  Dtype  \n",
            "---  ------            --------------  -----  \n",
            " 0   track_id          35200 non-null  object \n",
            " 1   track_name        35200 non-null  object \n",
            " 2   album_id          35200 non-null  object \n",
            " 3   artist_ids        35200 non-null  object \n",
            " 4   artist_names      35200 non-null  object \n",
            " 5   valence           35200 non-null  float64\n",
            " 6   year              35200 non-null  int64  \n",
            " 7   acousticness      35200 non-null  float64\n",
            " 8   danceability      35200 non-null  float64\n",
            " 9   duration_ms       35200 non-null  int64  \n",
            " 10  energy            35200 non-null  float64\n",
            " 11  explicit          35200 non-null  int64  \n",
            " 12  instrumentalness  35200 non-null  float64\n",
            " 13  key               35200 non-null  int64  \n",
            " 14  liveness          35200 non-null  float64\n",
            " 15  loudness          35200 non-null  float64\n",
            " 16  mode              35200 non-null  int64  \n",
            " 17  popularity        35200 non-null  int64  \n",
            " 18  release_date      35200 non-null  object \n",
            " 19  speechiness       35200 non-null  float64\n",
            " 20  tempo             35200 non-null  float64\n",
            "dtypes: float64(9), int64(6), object(6)\n",
            "memory usage: 5.6+ MB\n"
          ]
        }
      ],
      "source": [
        "songs_df.info()"
      ]
    },
    {
      "cell_type": "code",
      "execution_count": null,
      "metadata": {
        "colab": {
          "base_uri": "https://localhost:8080/"
        },
        "id": "nDf33Y5vqW9u",
        "outputId": "f7b1295c-a037-493c-9c87-9c966b862fde"
      },
      "outputs": [
        {
          "name": "stdout",
          "output_type": "stream",
          "text": [
            "       track_id  track_name  album_id  artist_ids  artist_names  valence  \\\n",
            "0         False       False     False       False         False    False   \n",
            "1         False       False     False       False         False    False   \n",
            "2         False       False     False       False         False    False   \n",
            "3         False       False     False       False         False    False   \n",
            "4         False       False     False       False         False    False   \n",
            "...         ...         ...       ...         ...           ...      ...   \n",
            "35195     False       False     False       False         False    False   \n",
            "35196     False       False     False       False         False    False   \n",
            "35197     False       False     False       False         False    False   \n",
            "35198     False       False     False       False         False    False   \n",
            "35199     False       False     False       False         False    False   \n",
            "\n",
            "        year  acousticness  danceability  duration_ms  ...  explicit  \\\n",
            "0      False         False         False        False  ...     False   \n",
            "1      False         False         False        False  ...     False   \n",
            "2      False         False         False        False  ...     False   \n",
            "3      False         False         False        False  ...     False   \n",
            "4      False         False         False        False  ...     False   \n",
            "...      ...           ...           ...          ...  ...       ...   \n",
            "35195  False         False         False        False  ...     False   \n",
            "35196  False         False         False        False  ...     False   \n",
            "35197  False         False         False        False  ...     False   \n",
            "35198  False         False         False        False  ...     False   \n",
            "35199  False         False         False        False  ...     False   \n",
            "\n",
            "       instrumentalness    key  liveness  loudness   mode  popularity  \\\n",
            "0                 False  False     False     False  False       False   \n",
            "1                 False  False     False     False  False       False   \n",
            "2                 False  False     False     False  False       False   \n",
            "3                 False  False     False     False  False       False   \n",
            "4                 False  False     False     False  False       False   \n",
            "...                 ...    ...       ...       ...    ...         ...   \n",
            "35195             False  False     False     False  False       False   \n",
            "35196             False  False     False     False  False       False   \n",
            "35197             False  False     False     False  False       False   \n",
            "35198             False  False     False     False  False       False   \n",
            "35199             False  False     False     False  False       False   \n",
            "\n",
            "       release_date  speechiness  tempo  \n",
            "0             False        False  False  \n",
            "1             False        False  False  \n",
            "2             False        False  False  \n",
            "3             False        False  False  \n",
            "4             False        False  False  \n",
            "...             ...          ...    ...  \n",
            "35195         False        False  False  \n",
            "35196         False        False  False  \n",
            "35197         False        False  False  \n",
            "35198         False        False  False  \n",
            "35199         False        False  False  \n",
            "\n",
            "[35200 rows x 21 columns]\n",
            "track_id            0\n",
            "track_name          0\n",
            "album_id            0\n",
            "artist_ids          0\n",
            "artist_names        0\n",
            "valence             0\n",
            "year                0\n",
            "acousticness        0\n",
            "danceability        0\n",
            "duration_ms         0\n",
            "energy              0\n",
            "explicit            0\n",
            "instrumentalness    0\n",
            "key                 0\n",
            "liveness            0\n",
            "loudness            0\n",
            "mode                0\n",
            "popularity          0\n",
            "release_date        0\n",
            "speechiness         0\n",
            "tempo               0\n",
            "dtype: int64\n"
          ]
        }
      ],
      "source": [
        "#check for null values \n",
        "\n",
        "print(songs_df.isnull())\n",
        "\n",
        "# Step 3: Get the count of nulls in each column\n",
        "print(songs_df.isnull().sum())"
      ]
    },
    {
      "cell_type": "markdown",
      "metadata": {},
      "source": [
        "# Artists csvs "
      ]
    },
    {
      "cell_type": "code",
      "execution_count": 8,
      "metadata": {
        "colab": {
          "base_uri": "https://localhost:8080/",
          "height": 423
        },
        "id": "qfJZLyhwoH9F",
        "outputId": "63135eb8-b3b1-4b87-c9f1-3517e852a82b"
      },
      "outputs": [
        {
          "data": {
            "text/html": [
              "<div>\n",
              "<style scoped>\n",
              "    .dataframe tbody tr th:only-of-type {\n",
              "        vertical-align: middle;\n",
              "    }\n",
              "\n",
              "    .dataframe tbody tr th {\n",
              "        vertical-align: top;\n",
              "    }\n",
              "\n",
              "    .dataframe thead th {\n",
              "        text-align: right;\n",
              "    }\n",
              "</style>\n",
              "<table border=\"1\" class=\"dataframe\">\n",
              "  <thead>\n",
              "    <tr style=\"text-align: right;\">\n",
              "      <th></th>\n",
              "      <th>artist_id</th>\n",
              "      <th>artist_name</th>\n",
              "      <th>genres</th>\n",
              "      <th>followers</th>\n",
              "      <th>popularity</th>\n",
              "    </tr>\n",
              "  </thead>\n",
              "  <tbody>\n",
              "    <tr>\n",
              "      <th>0</th>\n",
              "      <td>0Kekt6CKSo0m5mivKcoH51</td>\n",
              "      <td>Sergei Rachmaninoff</td>\n",
              "      <td>['classical', 'post-romantic era', 'russian ro...</td>\n",
              "      <td>753124</td>\n",
              "      <td>65</td>\n",
              "    </tr>\n",
              "    <tr>\n",
              "      <th>1</th>\n",
              "      <td>4qFQgEF1rg6a9WvJM0MQIa</td>\n",
              "      <td>James Levine</td>\n",
              "      <td>['classical performance', 'opera']</td>\n",
              "      <td>9206</td>\n",
              "      <td>53</td>\n",
              "    </tr>\n",
              "    <tr>\n",
              "      <th>2</th>\n",
              "      <td>6uRJnvQ3f8whVnmeoecv5Z</td>\n",
              "      <td>Berliner Philharmoniker</td>\n",
              "      <td>['classical', 'classical performance', 'german...</td>\n",
              "      <td>223580</td>\n",
              "      <td>73</td>\n",
              "    </tr>\n",
              "    <tr>\n",
              "      <th>3</th>\n",
              "      <td>2DG9aIMzcln3w7SIVGGnmg</td>\n",
              "      <td>Arcadi Volodos</td>\n",
              "      <td>['classical piano', 'russian classical piano']</td>\n",
              "      <td>17186</td>\n",
              "      <td>47</td>\n",
              "    </tr>\n",
              "    <tr>\n",
              "      <th>4</th>\n",
              "      <td>0y60qXGlDixlFJcjUU6pwY</td>\n",
              "      <td>Dennis Day</td>\n",
              "      <td>[]</td>\n",
              "      <td>684</td>\n",
              "      <td>7</td>\n",
              "    </tr>\n",
              "    <tr>\n",
              "      <th>...</th>\n",
              "      <td>...</td>\n",
              "      <td>...</td>\n",
              "      <td>...</td>\n",
              "      <td>...</td>\n",
              "      <td>...</td>\n",
              "    </tr>\n",
              "    <tr>\n",
              "      <th>14634</th>\n",
              "      <td>1eNJZfAHoq5zu1sUukbhAe</td>\n",
              "      <td>Carlos Lafuente</td>\n",
              "      <td>['orquesta tipica']</td>\n",
              "      <td>84</td>\n",
              "      <td>3</td>\n",
              "    </tr>\n",
              "    <tr>\n",
              "      <th>14635</th>\n",
              "      <td>0mhWWtpVIh60Ney5hbeR93</td>\n",
              "      <td>Orquesta Víctor Popular</td>\n",
              "      <td>[]</td>\n",
              "      <td>0</td>\n",
              "      <td>0</td>\n",
              "    </tr>\n",
              "    <tr>\n",
              "      <th>14636</th>\n",
              "      <td>01eq7T47JHOrYY0nfpdDYT</td>\n",
              "      <td>Serafim Gerotheodorou</td>\n",
              "      <td>[]</td>\n",
              "      <td>2</td>\n",
              "      <td>0</td>\n",
              "    </tr>\n",
              "    <tr>\n",
              "      <th>14637</th>\n",
              "      <td>0nRShN4m4GvQv1O4igorb6</td>\n",
              "      <td>Ernesto Fama</td>\n",
              "      <td>['vintage tango']</td>\n",
              "      <td>1363</td>\n",
              "      <td>19</td>\n",
              "    </tr>\n",
              "    <tr>\n",
              "      <th>14638</th>\n",
              "      <td>4klba9nOUmD5XsUVjlAFM5</td>\n",
              "      <td>Pello Revolvers</td>\n",
              "      <td>[]</td>\n",
              "      <td>58</td>\n",
              "      <td>0</td>\n",
              "    </tr>\n",
              "  </tbody>\n",
              "</table>\n",
              "<p>14639 rows × 5 columns</p>\n",
              "</div>"
            ],
            "text/plain": [
              "                    artist_id              artist_name  \\\n",
              "0      0Kekt6CKSo0m5mivKcoH51      Sergei Rachmaninoff   \n",
              "1      4qFQgEF1rg6a9WvJM0MQIa             James Levine   \n",
              "2      6uRJnvQ3f8whVnmeoecv5Z  Berliner Philharmoniker   \n",
              "3      2DG9aIMzcln3w7SIVGGnmg           Arcadi Volodos   \n",
              "4      0y60qXGlDixlFJcjUU6pwY               Dennis Day   \n",
              "...                       ...                      ...   \n",
              "14634  1eNJZfAHoq5zu1sUukbhAe          Carlos Lafuente   \n",
              "14635  0mhWWtpVIh60Ney5hbeR93  Orquesta Víctor Popular   \n",
              "14636  01eq7T47JHOrYY0nfpdDYT    Serafim Gerotheodorou   \n",
              "14637  0nRShN4m4GvQv1O4igorb6             Ernesto Fama   \n",
              "14638  4klba9nOUmD5XsUVjlAFM5          Pello Revolvers   \n",
              "\n",
              "                                                  genres  followers  \\\n",
              "0      ['classical', 'post-romantic era', 'russian ro...     753124   \n",
              "1                     ['classical performance', 'opera']       9206   \n",
              "2      ['classical', 'classical performance', 'german...     223580   \n",
              "3         ['classical piano', 'russian classical piano']      17186   \n",
              "4                                                     []        684   \n",
              "...                                                  ...        ...   \n",
              "14634                                ['orquesta tipica']         84   \n",
              "14635                                                 []          0   \n",
              "14636                                                 []          2   \n",
              "14637                                  ['vintage tango']       1363   \n",
              "14638                                                 []         58   \n",
              "\n",
              "       popularity  \n",
              "0              65  \n",
              "1              53  \n",
              "2              73  \n",
              "3              47  \n",
              "4               7  \n",
              "...           ...  \n",
              "14634           3  \n",
              "14635           0  \n",
              "14636           0  \n",
              "14637          19  \n",
              "14638           0  \n",
              "\n",
              "[14639 rows x 5 columns]"
            ]
          },
          "execution_count": 8,
          "metadata": {},
          "output_type": "execute_result"
        }
      ],
      "source": [
        "artists_df"
      ]
    },
    {
      "cell_type": "code",
      "execution_count": 9,
      "metadata": {
        "colab": {
          "base_uri": "https://localhost:8080/"
        },
        "id": "tS5-gZGWocqs",
        "outputId": "36ca7430-78c3-4539-8807-1b919d07a20b"
      },
      "outputs": [
        {
          "data": {
            "text/plain": [
              "Index(['artist_id', 'artist_name', 'genres', 'followers', 'popularity'], dtype='object')"
            ]
          },
          "execution_count": 9,
          "metadata": {},
          "output_type": "execute_result"
        }
      ],
      "source": [
        "artists_df.columns"
      ]
    },
    {
      "cell_type": "code",
      "execution_count": 81,
      "metadata": {},
      "outputs": [
        {
          "data": {
            "text/plain": [
              "0        0Kekt6CKSo0m5mivKcoH51\n",
              "1        4qFQgEF1rg6a9WvJM0MQIa\n",
              "2        6uRJnvQ3f8whVnmeoecv5Z\n",
              "3        2DG9aIMzcln3w7SIVGGnmg\n",
              "4        0y60qXGlDixlFJcjUU6pwY\n",
              "                  ...          \n",
              "14634    1eNJZfAHoq5zu1sUukbhAe\n",
              "14635    0mhWWtpVIh60Ney5hbeR93\n",
              "14636    01eq7T47JHOrYY0nfpdDYT\n",
              "14637    0nRShN4m4GvQv1O4igorb6\n",
              "14638    4klba9nOUmD5XsUVjlAFM5\n",
              "Name: artist_id, Length: 14639, dtype: object"
            ]
          },
          "execution_count": 81,
          "metadata": {},
          "output_type": "execute_result"
        }
      ],
      "source": [
        "artists_df['artist_id']"
      ]
    },
    {
      "cell_type": "code",
      "execution_count": 13,
      "metadata": {
        "colab": {
          "base_uri": "https://localhost:8080/"
        },
        "id": "IrnBqxpfofth",
        "outputId": "2d8e8e9f-1630-4311-ddaa-942dc8b6dad7"
      },
      "outputs": [
        {
          "data": {
            "text/plain": [
              "(14639, 5)"
            ]
          },
          "execution_count": 13,
          "metadata": {},
          "output_type": "execute_result"
        }
      ],
      "source": [
        "artists_df.shape"
      ]
    },
    {
      "cell_type": "code",
      "execution_count": 14,
      "metadata": {
        "colab": {
          "base_uri": "https://localhost:8080/"
        },
        "id": "zWLTZbhfRNNG",
        "outputId": "73f1c7a4-545f-46bb-a85c-79c78be40ed7"
      },
      "outputs": [
        {
          "name": "stdout",
          "output_type": "stream",
          "text": [
            "<class 'pandas.core.frame.DataFrame'>\n",
            "RangeIndex: 14639 entries, 0 to 14638\n",
            "Data columns (total 5 columns):\n",
            " #   Column       Non-Null Count  Dtype \n",
            "---  ------       --------------  ----- \n",
            " 0   artist_id    14639 non-null  object\n",
            " 1   artist_name  14639 non-null  object\n",
            " 2   genres       14639 non-null  object\n",
            " 3   followers    14639 non-null  int64 \n",
            " 4   popularity   14639 non-null  int64 \n",
            "dtypes: int64(2), object(3)\n",
            "memory usage: 572.0+ KB\n"
          ]
        }
      ],
      "source": [
        "artists_df.info()"
      ]
    },
    {
      "cell_type": "code",
      "execution_count": 15,
      "metadata": {
        "colab": {
          "base_uri": "https://localhost:8080/",
          "height": 300
        },
        "id": "DjflT2A3Reci",
        "outputId": "e01543c1-3054-4f5a-87ea-a7a27d627936"
      },
      "outputs": [
        {
          "data": {
            "text/html": [
              "<div>\n",
              "<style scoped>\n",
              "    .dataframe tbody tr th:only-of-type {\n",
              "        vertical-align: middle;\n",
              "    }\n",
              "\n",
              "    .dataframe tbody tr th {\n",
              "        vertical-align: top;\n",
              "    }\n",
              "\n",
              "    .dataframe thead th {\n",
              "        text-align: right;\n",
              "    }\n",
              "</style>\n",
              "<table border=\"1\" class=\"dataframe\">\n",
              "  <thead>\n",
              "    <tr style=\"text-align: right;\">\n",
              "      <th></th>\n",
              "      <th>followers</th>\n",
              "      <th>popularity</th>\n",
              "    </tr>\n",
              "  </thead>\n",
              "  <tbody>\n",
              "    <tr>\n",
              "      <th>count</th>\n",
              "      <td>1.463900e+04</td>\n",
              "      <td>14639.000000</td>\n",
              "    </tr>\n",
              "    <tr>\n",
              "      <th>mean</th>\n",
              "      <td>4.038699e+06</td>\n",
              "      <td>54.615479</td>\n",
              "    </tr>\n",
              "    <tr>\n",
              "      <th>std</th>\n",
              "      <td>1.138902e+07</td>\n",
              "      <td>23.378139</td>\n",
              "    </tr>\n",
              "    <tr>\n",
              "      <th>min</th>\n",
              "      <td>0.000000e+00</td>\n",
              "      <td>0.000000</td>\n",
              "    </tr>\n",
              "    <tr>\n",
              "      <th>25%</th>\n",
              "      <td>3.526900e+04</td>\n",
              "      <td>45.000000</td>\n",
              "    </tr>\n",
              "    <tr>\n",
              "      <th>50%</th>\n",
              "      <td>6.345500e+05</td>\n",
              "      <td>60.000000</td>\n",
              "    </tr>\n",
              "    <tr>\n",
              "      <th>75%</th>\n",
              "      <td>2.978840e+06</td>\n",
              "      <td>71.000000</td>\n",
              "    </tr>\n",
              "    <tr>\n",
              "      <th>max</th>\n",
              "      <td>1.235448e+08</td>\n",
              "      <td>100.000000</td>\n",
              "    </tr>\n",
              "  </tbody>\n",
              "</table>\n",
              "</div>"
            ],
            "text/plain": [
              "          followers    popularity\n",
              "count  1.463900e+04  14639.000000\n",
              "mean   4.038699e+06     54.615479\n",
              "std    1.138902e+07     23.378139\n",
              "min    0.000000e+00      0.000000\n",
              "25%    3.526900e+04     45.000000\n",
              "50%    6.345500e+05     60.000000\n",
              "75%    2.978840e+06     71.000000\n",
              "max    1.235448e+08    100.000000"
            ]
          },
          "execution_count": 15,
          "metadata": {},
          "output_type": "execute_result"
        }
      ],
      "source": [
        "artists_df.describe()"
      ]
    },
    {
      "cell_type": "code",
      "execution_count": 16,
      "metadata": {
        "colab": {
          "base_uri": "https://localhost:8080/"
        },
        "id": "b5rKMMnxqj_p",
        "outputId": "24690f58-8f40-4859-cfa6-0478dcf1b7f4"
      },
      "outputs": [
        {
          "name": "stdout",
          "output_type": "stream",
          "text": [
            "       artist_id  artist_name  genres  followers  popularity\n",
            "0          False        False   False      False       False\n",
            "1          False        False   False      False       False\n",
            "2          False        False   False      False       False\n",
            "3          False        False   False      False       False\n",
            "4          False        False   False      False       False\n",
            "...          ...          ...     ...        ...         ...\n",
            "14634      False        False   False      False       False\n",
            "14635      False        False   False      False       False\n",
            "14636      False        False   False      False       False\n",
            "14637      False        False   False      False       False\n",
            "14638      False        False   False      False       False\n",
            "\n",
            "[14639 rows x 5 columns]\n",
            "artist_id      0\n",
            "artist_name    0\n",
            "genres         0\n",
            "followers      0\n",
            "popularity     0\n",
            "dtype: int64\n"
          ]
        }
      ],
      "source": [
        "print(artists_df.isnull())\n",
        "\n",
        "# Step 3: Get the count of nulls in each column\n",
        "print(artists_df.isnull().sum())"
      ]
    },
    {
      "cell_type": "markdown",
      "metadata": {},
      "source": [
        "# ALBUMS CSVS"
      ]
    },
    {
      "cell_type": "code",
      "execution_count": 17,
      "metadata": {
        "colab": {
          "base_uri": "https://localhost:8080/",
          "height": 860
        },
        "id": "I4RGrexToNeR",
        "outputId": "c6f3ee7b-6615-4c58-cbfc-c7c585e4dca3"
      },
      "outputs": [
        {
          "data": {
            "text/html": [
              "<div>\n",
              "<style scoped>\n",
              "    .dataframe tbody tr th:only-of-type {\n",
              "        vertical-align: middle;\n",
              "    }\n",
              "\n",
              "    .dataframe tbody tr th {\n",
              "        vertical-align: top;\n",
              "    }\n",
              "\n",
              "    .dataframe thead th {\n",
              "        text-align: right;\n",
              "    }\n",
              "</style>\n",
              "<table border=\"1\" class=\"dataframe\">\n",
              "  <thead>\n",
              "    <tr style=\"text-align: right;\">\n",
              "      <th></th>\n",
              "      <th>album_id</th>\n",
              "      <th>album_name</th>\n",
              "      <th>release_date</th>\n",
              "      <th>total_tracks</th>\n",
              "      <th>album_type</th>\n",
              "      <th>album_cover_64x64</th>\n",
              "      <th>album_cover_640x640</th>\n",
              "    </tr>\n",
              "  </thead>\n",
              "  <tbody>\n",
              "    <tr>\n",
              "      <th>0</th>\n",
              "      <td>6UKhQXIboybG7JPka28bZR</td>\n",
              "      <td>The Rachmaninoff Collection</td>\n",
              "      <td>2006-06-27</td>\n",
              "      <td>11</td>\n",
              "      <td>compilation</td>\n",
              "      <td>https://i.scdn.co/image/ab67616d000048515a7c6e...</td>\n",
              "      <td>https://i.scdn.co/image/ab67616d000048515a7c6e...</td>\n",
              "    </tr>\n",
              "    <tr>\n",
              "      <th>1</th>\n",
              "      <td>4LePw1NceheT4selvgH0cE</td>\n",
              "      <td>Original Irish Tenors: The Legendary Voices Of...</td>\n",
              "      <td>2006-02-20</td>\n",
              "      <td>21</td>\n",
              "      <td>compilation</td>\n",
              "      <td>https://i.scdn.co/image/ab67616d00004851ab0547...</td>\n",
              "      <td>https://i.scdn.co/image/ab67616d00004851ab0547...</td>\n",
              "    </tr>\n",
              "    <tr>\n",
              "      <th>2</th>\n",
              "      <td>3kjFZyMpkcTARMXuLrpipj</td>\n",
              "      <td>Gendhing Gati</td>\n",
              "      <td>1921</td>\n",
              "      <td>17</td>\n",
              "      <td>album</td>\n",
              "      <td>https://i.scdn.co/image/ab67616d000048512f1bfe...</td>\n",
              "      <td>https://i.scdn.co/image/ab67616d000048512f1bfe...</td>\n",
              "    </tr>\n",
              "    <tr>\n",
              "      <th>3</th>\n",
              "      <td>59DmiBZi588gd8yklEgIlS</td>\n",
              "      <td>Rachmaninoff: Greatest Hits</td>\n",
              "      <td>2009-03-27</td>\n",
              "      <td>11</td>\n",
              "      <td>compilation</td>\n",
              "      <td>https://i.scdn.co/image/ab67616d0000485125dab7...</td>\n",
              "      <td>https://i.scdn.co/image/ab67616d0000485125dab7...</td>\n",
              "    </tr>\n",
              "    <tr>\n",
              "      <th>4</th>\n",
              "      <td>4PSwdsOtNdinZE8mijH4E6</td>\n",
              "      <td>Colección Completa, Vol. 2 (Remasterizado)</td>\n",
              "      <td>1921-03-20</td>\n",
              "      <td>21</td>\n",
              "      <td>album</td>\n",
              "      <td>https://i.scdn.co/image/ab67616d00004851fc669e...</td>\n",
              "      <td>https://i.scdn.co/image/ab67616d00004851fc669e...</td>\n",
              "    </tr>\n",
              "    <tr>\n",
              "      <th>...</th>\n",
              "      <td>...</td>\n",
              "      <td>...</td>\n",
              "      <td>...</td>\n",
              "      <td>...</td>\n",
              "      <td>...</td>\n",
              "      <td>...</td>\n",
              "      <td>...</td>\n",
              "    </tr>\n",
              "    <tr>\n",
              "      <th>11663</th>\n",
              "      <td>5nk0pXd9S0igSZGjudpB4p</td>\n",
              "      <td>Música Boliviana, 78 Rpm Recordings, Vol. 1 (1...</td>\n",
              "      <td>1930-01-01</td>\n",
              "      <td>26</td>\n",
              "      <td>compilation</td>\n",
              "      <td>https://i.scdn.co/image/ab67616d000048510a30a5...</td>\n",
              "      <td>https://i.scdn.co/image/ab67616d0000b2730a30a5...</td>\n",
              "    </tr>\n",
              "    <tr>\n",
              "      <th>11664</th>\n",
              "      <td>6d48OUlyh79FQDhbwWgKxF</td>\n",
              "      <td>Colección Completa, Vol. 53 (Remasterizado)</td>\n",
              "      <td>1930-12-05</td>\n",
              "      <td>17</td>\n",
              "      <td>album</td>\n",
              "      <td>https://i.scdn.co/image/ab67616d00004851a88f55...</td>\n",
              "      <td>https://i.scdn.co/image/ab67616d0000b273a88f55...</td>\n",
              "    </tr>\n",
              "    <tr>\n",
              "      <th>11665</th>\n",
              "      <td>47dahsZ5pIBo8mNH0qeL0C</td>\n",
              "      <td>Borg Mesch - EP</td>\n",
              "      <td>1930-04-01</td>\n",
              "      <td>5</td>\n",
              "      <td>single</td>\n",
              "      <td>https://i.scdn.co/image/ab67616d000048514e542e...</td>\n",
              "      <td>https://i.scdn.co/image/ab67616d0000b2734e542e...</td>\n",
              "    </tr>\n",
              "    <tr>\n",
              "      <th>11666</th>\n",
              "      <td>2jfKd4aGugEQmaPzXZ5L0d</td>\n",
              "      <td>Colección Completa, Vol. 52 (Remasterizado)</td>\n",
              "      <td>1930-12-03</td>\n",
              "      <td>18</td>\n",
              "      <td>album</td>\n",
              "      <td>https://i.scdn.co/image/ab67616d00004851fe9c4e...</td>\n",
              "      <td>https://i.scdn.co/image/ab67616d0000b273fe9c4e...</td>\n",
              "    </tr>\n",
              "    <tr>\n",
              "      <th>11667</th>\n",
              "      <td>1za67i3IBsXiMcQsSAyrwQ</td>\n",
              "      <td>Ta Rempetika Tou Grammofonou, Νο. 5</td>\n",
              "      <td>1930-01-01</td>\n",
              "      <td>21</td>\n",
              "      <td>compilation</td>\n",
              "      <td>https://i.scdn.co/image/ab67616d000048518de083...</td>\n",
              "      <td>https://i.scdn.co/image/ab67616d0000b2738de083...</td>\n",
              "    </tr>\n",
              "  </tbody>\n",
              "</table>\n",
              "<p>11668 rows × 7 columns</p>\n",
              "</div>"
            ],
            "text/plain": [
              "                     album_id  \\\n",
              "0      6UKhQXIboybG7JPka28bZR   \n",
              "1      4LePw1NceheT4selvgH0cE   \n",
              "2      3kjFZyMpkcTARMXuLrpipj   \n",
              "3      59DmiBZi588gd8yklEgIlS   \n",
              "4      4PSwdsOtNdinZE8mijH4E6   \n",
              "...                       ...   \n",
              "11663  5nk0pXd9S0igSZGjudpB4p   \n",
              "11664  6d48OUlyh79FQDhbwWgKxF   \n",
              "11665  47dahsZ5pIBo8mNH0qeL0C   \n",
              "11666  2jfKd4aGugEQmaPzXZ5L0d   \n",
              "11667  1za67i3IBsXiMcQsSAyrwQ   \n",
              "\n",
              "                                              album_name release_date  \\\n",
              "0                            The Rachmaninoff Collection   2006-06-27   \n",
              "1      Original Irish Tenors: The Legendary Voices Of...   2006-02-20   \n",
              "2                                          Gendhing Gati         1921   \n",
              "3                            Rachmaninoff: Greatest Hits   2009-03-27   \n",
              "4             Colección Completa, Vol. 2 (Remasterizado)   1921-03-20   \n",
              "...                                                  ...          ...   \n",
              "11663  Música Boliviana, 78 Rpm Recordings, Vol. 1 (1...   1930-01-01   \n",
              "11664        Colección Completa, Vol. 53 (Remasterizado)   1930-12-05   \n",
              "11665                                    Borg Mesch - EP   1930-04-01   \n",
              "11666        Colección Completa, Vol. 52 (Remasterizado)   1930-12-03   \n",
              "11667                Ta Rempetika Tou Grammofonou, Νο. 5   1930-01-01   \n",
              "\n",
              "       total_tracks   album_type  \\\n",
              "0                11  compilation   \n",
              "1                21  compilation   \n",
              "2                17        album   \n",
              "3                11  compilation   \n",
              "4                21        album   \n",
              "...             ...          ...   \n",
              "11663            26  compilation   \n",
              "11664            17        album   \n",
              "11665             5       single   \n",
              "11666            18        album   \n",
              "11667            21  compilation   \n",
              "\n",
              "                                       album_cover_64x64  \\\n",
              "0      https://i.scdn.co/image/ab67616d000048515a7c6e...   \n",
              "1      https://i.scdn.co/image/ab67616d00004851ab0547...   \n",
              "2      https://i.scdn.co/image/ab67616d000048512f1bfe...   \n",
              "3      https://i.scdn.co/image/ab67616d0000485125dab7...   \n",
              "4      https://i.scdn.co/image/ab67616d00004851fc669e...   \n",
              "...                                                  ...   \n",
              "11663  https://i.scdn.co/image/ab67616d000048510a30a5...   \n",
              "11664  https://i.scdn.co/image/ab67616d00004851a88f55...   \n",
              "11665  https://i.scdn.co/image/ab67616d000048514e542e...   \n",
              "11666  https://i.scdn.co/image/ab67616d00004851fe9c4e...   \n",
              "11667  https://i.scdn.co/image/ab67616d000048518de083...   \n",
              "\n",
              "                                     album_cover_640x640  \n",
              "0      https://i.scdn.co/image/ab67616d000048515a7c6e...  \n",
              "1      https://i.scdn.co/image/ab67616d00004851ab0547...  \n",
              "2      https://i.scdn.co/image/ab67616d000048512f1bfe...  \n",
              "3      https://i.scdn.co/image/ab67616d0000485125dab7...  \n",
              "4      https://i.scdn.co/image/ab67616d00004851fc669e...  \n",
              "...                                                  ...  \n",
              "11663  https://i.scdn.co/image/ab67616d0000b2730a30a5...  \n",
              "11664  https://i.scdn.co/image/ab67616d0000b273a88f55...  \n",
              "11665  https://i.scdn.co/image/ab67616d0000b2734e542e...  \n",
              "11666  https://i.scdn.co/image/ab67616d0000b273fe9c4e...  \n",
              "11667  https://i.scdn.co/image/ab67616d0000b2738de083...  \n",
              "\n",
              "[11668 rows x 7 columns]"
            ]
          },
          "execution_count": 17,
          "metadata": {},
          "output_type": "execute_result"
        }
      ],
      "source": [
        "albums_df"
      ]
    },
    {
      "cell_type": "code",
      "execution_count": 18,
      "metadata": {
        "colab": {
          "base_uri": "https://localhost:8080/"
        },
        "id": "am7j1C-ioj67",
        "outputId": "723f9a92-5e7c-41b4-89bf-e0f7e75c2a8a"
      },
      "outputs": [
        {
          "data": {
            "text/plain": [
              "Index(['album_id', 'album_name', 'release_date', 'total_tracks', 'album_type',\n",
              "       'album_cover_64x64', 'album_cover_640x640'],\n",
              "      dtype='object')"
            ]
          },
          "execution_count": 18,
          "metadata": {},
          "output_type": "execute_result"
        }
      ],
      "source": [
        "albums_df.columns"
      ]
    },
    {
      "cell_type": "code",
      "execution_count": 19,
      "metadata": {
        "colab": {
          "base_uri": "https://localhost:8080/"
        },
        "id": "1dMOuVYComGs",
        "outputId": "fb4f168a-8bd1-4061-8105-a8da31d287dd"
      },
      "outputs": [
        {
          "data": {
            "text/plain": [
              "(11668, 7)"
            ]
          },
          "execution_count": 19,
          "metadata": {},
          "output_type": "execute_result"
        }
      ],
      "source": [
        "albums_df.shape"
      ]
    },
    {
      "cell_type": "code",
      "execution_count": 20,
      "metadata": {
        "colab": {
          "base_uri": "https://localhost:8080/"
        },
        "id": "7sLds9k9RRD6",
        "outputId": "7f9a4146-3b7b-4105-a8d5-cc67b421382d"
      },
      "outputs": [
        {
          "name": "stdout",
          "output_type": "stream",
          "text": [
            "<class 'pandas.core.frame.DataFrame'>\n",
            "RangeIndex: 11668 entries, 0 to 11667\n",
            "Data columns (total 7 columns):\n",
            " #   Column               Non-Null Count  Dtype \n",
            "---  ------               --------------  ----- \n",
            " 0   album_id             11668 non-null  object\n",
            " 1   album_name           11668 non-null  object\n",
            " 2   release_date         11668 non-null  object\n",
            " 3   total_tracks         11668 non-null  int64 \n",
            " 4   album_type           11668 non-null  object\n",
            " 5   album_cover_64x64    11668 non-null  object\n",
            " 6   album_cover_640x640  11668 non-null  object\n",
            "dtypes: int64(1), object(6)\n",
            "memory usage: 638.2+ KB\n"
          ]
        }
      ],
      "source": [
        "albums_df.info()\n"
      ]
    },
    {
      "cell_type": "code",
      "execution_count": 21,
      "metadata": {
        "colab": {
          "base_uri": "https://localhost:8080/"
        },
        "id": "J3R3zHDlqq84",
        "outputId": "a3154df3-d42e-4f8f-d844-9d9c39136cbd"
      },
      "outputs": [
        {
          "name": "stdout",
          "output_type": "stream",
          "text": [
            "       album_id  album_name  release_date  total_tracks  album_type  \\\n",
            "0         False       False         False         False       False   \n",
            "1         False       False         False         False       False   \n",
            "2         False       False         False         False       False   \n",
            "3         False       False         False         False       False   \n",
            "4         False       False         False         False       False   \n",
            "...         ...         ...           ...           ...         ...   \n",
            "11663     False       False         False         False       False   \n",
            "11664     False       False         False         False       False   \n",
            "11665     False       False         False         False       False   \n",
            "11666     False       False         False         False       False   \n",
            "11667     False       False         False         False       False   \n",
            "\n",
            "       album_cover_64x64  album_cover_640x640  \n",
            "0                  False                False  \n",
            "1                  False                False  \n",
            "2                  False                False  \n",
            "3                  False                False  \n",
            "4                  False                False  \n",
            "...                  ...                  ...  \n",
            "11663              False                False  \n",
            "11664              False                False  \n",
            "11665              False                False  \n",
            "11666              False                False  \n",
            "11667              False                False  \n",
            "\n",
            "[11668 rows x 7 columns]\n",
            "album_id               0\n",
            "album_name             0\n",
            "release_date           0\n",
            "total_tracks           0\n",
            "album_type             0\n",
            "album_cover_64x64      0\n",
            "album_cover_640x640    0\n",
            "dtype: int64\n"
          ]
        }
      ],
      "source": [
        "print(albums_df.isnull())\n",
        "\n",
        "# Step 3: Get the count of nulls in each column\n",
        "print(albums_df.isnull().sum())"
      ]
    },
    {
      "cell_type": "markdown",
      "metadata": {
        "id": "W1JHZfDh1gJf"
      },
      "source": [
        "# PROCESSED SONGS  DATA SETS \n",
        "  1) NO NULL VALUES \n",
        "  2) ADD MOOD COLUMNS\n",
        "  "
      ]
    },
    {
      "cell_type": "code",
      "execution_count": 94,
      "metadata": {
        "colab": {
          "base_uri": "https://localhost:8080/"
        },
        "id": "MSkUWf-j1F58",
        "outputId": "5f6ee5e0-60b5-40a5-b9ea-38998de23119"
      },
      "outputs": [
        {
          "name": "stdout",
          "output_type": "stream",
          "text": [
            " Processed dataset shape: (56580, 11)\n",
            "                 track_id                            track_name  \\\n",
            "0  001ZmOPuWEW5czwun7nkha                Would You? (End Title)   \n",
            "1  001ZmOPuWEW5czwun7nkha                Would You? (End Title)   \n",
            "2  001ZmOPuWEW5czwun7nkha                Would You? (End Title)   \n",
            "3  003FTlCpBTM4eSqYSWPv4H                          Swing, Swing   \n",
            "4  003JzPprzThp8SHUctgXnn  Willow Weep For Me - Remastered 1998   \n",
            "\n",
            "                    artist_names  \\\n",
            "0  ['Gene Kelly', 'Betty Noyes']   \n",
            "1  ['Gene Kelly', 'Betty Noyes']   \n",
            "2  ['Gene Kelly', 'Betty Noyes']   \n",
            "3   ['The All-American Rejects']   \n",
            "4            ['Thelonious Monk']   \n",
            "\n",
            "                                              genres  valence  danceability  \\\n",
            "0    movie tunes, adult standards, vintage hollywood    0.162         0.160   \n",
            "1    movie tunes, adult standards, vintage hollywood    0.162         0.160   \n",
            "2    movie tunes, adult standards, vintage hollywood    0.162         0.160   \n",
            "3  alternative metal, pop rock, modern rock, post...    0.318         0.553   \n",
            "4  bebop, jazz, jazz piano, contemporary post-bop...    0.298         0.461   \n",
            "\n",
            "   energy mood                                         album_name  \\\n",
            "0   0.120  Sad  Singin' in the Rain (Original Motion Picture S...   \n",
            "1   0.120  Sad  Singin' in the Rain (Original Motion Picture S...   \n",
            "2   0.120  Sad  Singin' in the Rain (Original Motion Picture S...   \n",
            "3   0.717  Sad                           The All-American Rejects   \n",
            "4   0.454  Sad   Genius Of Modern Music (Vol.2, Expanded Edition)   \n",
            "\n",
            "  release_date                                album_cover_640x640  \n",
            "0   1952-04-11  https://i.scdn.co/image/ab67616d00004851701dfe...  \n",
            "1   1952-04-11  https://i.scdn.co/image/ab67616d00004851701dfe...  \n",
            "2   1952-04-11  https://i.scdn.co/image/ab67616d00004851701dfe...  \n",
            "3   2002-10-15  https://i.scdn.co/image/ab67616d0000b273eba2ac...  \n",
            "4         1952  https://i.scdn.co/image/ab67616d00004851a36b4e...  \n"
          ]
        }
      ],
      "source": [
        "# Import libraries\n",
        "import pandas as pd  # for data manipulation\n",
        "import numpy as np   # for numerical operations\n",
        "\n",
        "# Load datasets\n",
        "songs_df = pd.read_csv('D:\\\\snap_tune_final\\\\snap_tune_project\\\\archive\\\\songs_with_audio_feature.csv')\n",
        "artists_df = pd.read_csv('D:\\\\snap_tune_final\\\\snap_tune_project\\\\archive\\\\artists.csv')\n",
        "albums_df = pd.read_csv('D:\\\\snap_tune_final\\\\snap_tune_project\\\\archive\\\\albums.csv')\n",
        "\n",
        "# Convert artist_ids from string to list\n",
        "songs_df['artist_ids'] = songs_df['artist_ids'].apply(eval)\n",
        "\n",
        "# Aggregate genres from all artists involved in a song\n",
        "def aggregate_genres(group):\n",
        "    genres = artists_df[artists_df['artist_id'].isin(group['artist_ids'])]['genres'].tolist()\n",
        "    flat_list = [g for sublist in [eval(g) if isinstance(g, str) else g for g in genres] for g in sublist]\n",
        "    return ', '.join(set(flat_list)) if flat_list else 'Unknown'\n",
        "\n",
        "# Group by track_id to avoid duplicates and keep relevant audio features and metadata\n",
        "songs_df = songs_df.groupby('track_id').agg({\n",
        "    'track_name': 'first',\n",
        "    'artist_names': 'first',\n",
        "    'artist_ids': 'first',\n",
        "    'valence': 'first',\n",
        "    'danceability': 'first',\n",
        "    'energy': 'first',\n",
        "    'album_id': 'first'  #  merging with album info\n",
        "}).reset_index()\n",
        "\n",
        "# Add genre info to each track\n",
        "songs_df['genres'] = songs_df.apply(aggregate_genres, axis=1)\n",
        "\n",
        "# Assign mood labels based on valence (positiveness of a track)\n",
        "def assign_mood(valence):\n",
        "    if valence > 0.6:\n",
        "        return 'Upbeat'\n",
        "    elif valence < 0.4:\n",
        "        return 'Sad'\n",
        "    else:\n",
        "        return 'Neutral'\n",
        "\n",
        "songs_df['mood'] = songs_df['valence'].apply(assign_mood)\n",
        "\n",
        "# Merge with album data to get album name, release date, and cover image\n",
        "songs_df = pd.merge(\n",
        "    songs_df,\n",
        "    albums_df[['album_id', 'album_name', 'release_date', 'album_cover_640x640']],\n",
        "    on='album_id',\n",
        "    how='left'\n",
        ")\n",
        "\n",
        "# Final dataset structure\n",
        "final_df = songs_df[[\n",
        "    'track_id', 'track_name', 'artist_names', 'genres',\n",
        "    'valence', 'danceability', 'energy', 'mood',\n",
        "    'album_name', 'release_date', 'album_cover_640x640'\n",
        "]]\n",
        "\n",
        "# Save the cleaned and enriched dataset\n",
        "final_df.to_csv('D:\\\\snap_tune_final\\\\snap_tune_project\\\\proceesed_songs\\\\processed_songs_final.csv', index=False)\n",
        "\n",
        "# Output confirmation\n",
        "print(f\" Processed dataset shape: {final_df.shape}\")\n",
        "print(final_df.head())\n"
      ]
    },
    {
      "cell_type": "code",
      "execution_count": 10,
      "metadata": {},
      "outputs": [],
      "source": [
        "\n",
        "# Load processed dataset\n",
        "processed_songs_df = pd.read_csv('D:\\\\snap_tune_final\\\\snap_tune_project\\\\proceesed_songs\\\\processed_songs_final.csv')"
      ]
    },
    {
      "cell_type": "code",
      "execution_count": 11,
      "metadata": {},
      "outputs": [
        {
          "data": {
            "text/plain": [
              "(56580, 11)"
            ]
          },
          "execution_count": 11,
          "metadata": {},
          "output_type": "execute_result"
        }
      ],
      "source": [
        "processed_songs_df.shape"
      ]
    },
    {
      "cell_type": "code",
      "execution_count": 12,
      "metadata": {},
      "outputs": [
        {
          "name": "stdout",
          "output_type": "stream",
          "text": [
            "Number of rows with duplicate track_id: 36914\n",
            "Unique track_id count: 35200\n"
          ]
        }
      ],
      "source": [
        "# Check for duplicate songs (based on track_id)\n",
        "duplicate_tracks = processed_songs_df[processed_songs_df.duplicated(subset=['track_id'], keep=False)]\n",
        "print(f\"Number of rows with duplicate track_id: {len(duplicate_tracks)}\")\n",
        "print(f\"Unique track_id count: {processed_songs_df['track_id'].nunique()}\")"
      ]
    },
    {
      "cell_type": "markdown",
      "metadata": {},
      "source": [
        "# CHECKED FOR DUPLICATES "
      ]
    },
    {
      "cell_type": "code",
      "execution_count": 13,
      "metadata": {},
      "outputs": [
        {
          "name": "stdout",
          "output_type": "stream",
          "text": [
            "Number of rows with duplicate track_id: 36914\n",
            "Unique track_id count: 35200\n",
            "\n",
            "Sample duplicates:\n",
            "                  track_id                               track_name  \\\n",
            "0   001ZmOPuWEW5czwun7nkha                   Would You? (End Title)   \n",
            "1   001ZmOPuWEW5czwun7nkha                   Would You? (End Title)   \n",
            "2   001ZmOPuWEW5czwun7nkha                   Would You? (End Title)   \n",
            "4   003JzPprzThp8SHUctgXnn     Willow Weep For Me - Remastered 1998   \n",
            "5   003JzPprzThp8SHUctgXnn     Willow Weep For Me - Remastered 1998   \n",
            "6   003vvx7Niy0yvhvHt4a68B                           Mr. Brightside   \n",
            "7   003vvx7Niy0yvhvHt4a68B                           Mr. Brightside   \n",
            "9   004TG0nRHejwSKisvwTcAB               The Garden of Gethesemanie   \n",
            "10  004TG0nRHejwSKisvwTcAB               The Garden of Gethesemanie   \n",
            "14  006fbuXS6rRAWlUEaklCmt  Kapitel 297 - Der Page und die Herzogin   \n",
            "\n",
            "                           artist_names  \\\n",
            "0         ['Gene Kelly', 'Betty Noyes']   \n",
            "1         ['Gene Kelly', 'Betty Noyes']   \n",
            "2         ['Gene Kelly', 'Betty Noyes']   \n",
            "4                   ['Thelonious Monk']   \n",
            "5                   ['Thelonious Monk']   \n",
            "6                       ['The Killers']   \n",
            "7                       ['The Killers']   \n",
            "9         ['Emahoy Tsege Mariam Gebru']   \n",
            "10        ['Emahoy Tsege Mariam Gebru']   \n",
            "14  ['Georgette Heyer', 'Irina Salkow']   \n",
            "\n",
            "                                               genres  \n",
            "0     movie tunes, adult standards, vintage hollywood  \n",
            "1     movie tunes, adult standards, vintage hollywood  \n",
            "2     movie tunes, adult standards, vintage hollywood  \n",
            "4   bebop, jazz, jazz piano, contemporary post-bop...  \n",
            "5   bebop, jazz, jazz piano, contemporary post-bop...  \n",
            "6   modern rock, dance rock, rock, alternative roc...  \n",
            "7   modern rock, dance rock, rock, alternative roc...  \n",
            "9                           impressionism, ethio-jazz  \n",
            "10                          impressionism, ethio-jazz  \n",
            "14                                            Unknown  \n"
          ]
        }
      ],
      "source": [
        "\n",
        "\n",
        "# Load processed dataset\n",
        "processed_songs_df = pd.read_csv('D:\\\\snap_tune_final\\\\snap_tune_project\\\\proceesed_songs\\\\processed_songs_final.csv')\n",
        "\n",
        "# Check for duplicate songs (based on track_id)\n",
        "duplicate_tracks = processed_songs_df[processed_songs_df.duplicated(subset=['track_id'], keep=False)]\n",
        "print(f\"Number of rows with duplicate track_id: {len(duplicate_tracks)}\")\n",
        "print(f\"Unique track_id count: {processed_songs_df['track_id'].nunique()}\")\n",
        "\n",
        "# Example of duplicates (only if duplicates exist)\n",
        "if len(duplicate_tracks) > 0:\n",
        "    print(\"\\nSample duplicates:\")\n",
        "    print(duplicate_tracks[['track_id', 'track_name', 'artist_names', 'genres']].head(10))\n",
        "else:\n",
        "    print(\"\\nNo duplicates found.\")"
      ]
    },
    {
      "cell_type": "markdown",
      "metadata": {},
      "source": [
        "# DROP DUPLICATES AND KEEPING THE FIRST OCCURENCES "
      ]
    },
    {
      "cell_type": "code",
      "execution_count": 14,
      "metadata": {},
      "outputs": [
        {
          "name": "stdout",
          "output_type": "stream",
          "text": [
            " Deduplicated dataset shape: (35200, 11)\n"
          ]
        }
      ],
      "source": [
        "# Drop duplicates based on track_id and keep the first occurrence\n",
        "deduped_df = processed_songs_df.drop_duplicates(subset='track_id', keep='first')\n",
        "\n",
        "# Save cleaned version\n",
        "deduped_df.to_csv('D:\\\\snap_tune_final\\\\snap_tune_project\\\\proceesed_songs\\\\processed_songs_deduped.csv', index=False)\n",
        "\n",
        "print(f\" Deduplicated dataset shape: {deduped_df.shape}\")"
      ]
    },
    {
      "cell_type": "code",
      "execution_count": 32,
      "metadata": {},
      "outputs": [
        {
          "name": "stdout",
          "output_type": "stream",
          "text": [
            "Number of rows with duplicate track_id: 0\n",
            "Unique track_id count: 35200\n",
            "\n",
            "No duplicates found.\n"
          ]
        }
      ],
      "source": [
        "\n",
        "# Check for duplicate songs (based on track_id)\n",
        "duplicate_tracks = deduped_df[deduped_df.duplicated(subset=['track_id'], keep=False)]\n",
        "print(f\"Number of rows with duplicate track_id: {len(duplicate_tracks)}\")\n",
        "print(f\"Unique track_id count: {deduped_df['track_id'].nunique()}\")\n",
        "\n",
        "# Example of duplicates (only if duplicates exist)\n",
        "if len(duplicate_tracks) > 0:\n",
        "    print(\"\\nSample duplicates:\")\n",
        "    print(duplicate_tracks[['track_id', 'track_name', 'artist_names', 'genres']].head(10))\n",
        "else:\n",
        "    print(\"\\nNo duplicates found.\")"
      ]
    },
    {
      "cell_type": "code",
      "execution_count": 15,
      "metadata": {},
      "outputs": [
        {
          "name": "stdout",
          "output_type": "stream",
          "text": [
            "Duplicates by track_id: 0\n",
            "Duplicates by name and artist: 1966\n"
          ]
        }
      ],
      "source": [
        "# Check for duplicates on track_id\n",
        "duplicates_by_id = deduped_df[deduped_df['track_id'].duplicated()]\n",
        "print(\"Duplicates by track_id:\", len(duplicates_by_id))\n",
        "\n",
        "# Check for duplicates on track_name + artist_names\n",
        "duplicates_by_name_artist = deduped_df[deduped_df[['track_name', 'artist_names']].duplicated()]\n",
        "print(\"Duplicates by name and artist:\", len(duplicates_by_name_artist))"
      ]
    },
    {
      "cell_type": "code",
      "execution_count": 33,
      "metadata": {},
      "outputs": [
        {
          "name": "stdout",
          "output_type": "stream",
          "text": [
            "                                           track_name  \\\n",
            "3                                      Mr. Brightside   \n",
            "14                                    Tight Like This   \n",
            "16                                    Ya Es Muy Tarde   \n",
            "24  Gloomy Sunday (with Teddy Wilson & His Orchest...   \n",
            "74                                            Changes   \n",
            "77                                Big Girls Don't Cry   \n",
            "82                         Papa's Got A Brand New Bag   \n",
            "89                                       Boogie Shoes   \n",
            "93                  Suicidal Thoughts - 2005 Remaster   \n",
            "94                               You Made Me Love You   \n",
            "\n",
            "                                     artist_names  valence  energy  \\\n",
            "3                                 ['The Killers']   0.2360  0.9110   \n",
            "14  ['Louis Armstrong & His Savoy Ballroom Five']   0.4380  0.1990   \n",
            "16                                ['Los Panchos']   0.7820  0.3140   \n",
            "24             ['Billie Holiday', 'Teddy Wilson']   0.2230  0.0433   \n",
            "74                             ['2Pac', 'Talent']   0.3160  0.6570   \n",
            "77           ['Frankie Valli & The Four Seasons']   0.8430  0.8400   \n",
            "82                                ['James Brown']   0.9250  0.5410   \n",
            "89                     ['KC & The Sunshine Band']   0.9630  0.8390   \n",
            "93                       ['The Notorious B.I.G.']   0.0788  0.5050   \n",
            "94                                ['Harry James']   0.2330  0.1900   \n",
            "\n",
            "                                           album_name  \n",
            "3                                            Hot Fuss  \n",
            "14         Volume IV - Louis Armstrong And Earl Hines  \n",
            "16                                       Personalidad  \n",
            "24  Lady Day: The Complete Billie Holiday On Colum...  \n",
            "74                                   The Best of 2Pac  \n",
            "77                           Sherry and 11 Other Hits  \n",
            "82                                          Star Time  \n",
            "89  Saturday Night Fever (The Original Movie Sound...  \n",
            "93         Ready to Die (The Remaster; 2015 Remaster)  \n",
            "94                              Best Of The Big Bands  \n"
          ]
        }
      ],
      "source": [
        "duplicates_by_name_artist = deduped_df[deduped_df.duplicated(subset=['track_name', 'artist_names'], keep=False)]\n",
        "print(duplicates_by_name_artist[['track_name', 'artist_names', 'valence', 'energy', 'album_name']].head(10))\n"
      ]
    },
    {
      "cell_type": "code",
      "execution_count": 35,
      "metadata": {},
      "outputs": [
        {
          "name": "stdout",
          "output_type": "stream",
          "text": [
            "Refined dataset shape: (33234, 11)\n"
          ]
        }
      ],
      "source": [
        "deduped_df['release_date'] = pd.to_datetime(deduped_df['release_date'], errors='coerce')\n",
        "\n",
        "# Sort to keep most recent\n",
        "deduped_sorted = deduped_df.sort_values(by='release_date', ascending=False)\n",
        "\n",
        "# Drop duplicates keeping most recent\n",
        "refined_df = deduped_sorted.drop_duplicates(subset=['track_name', 'artist_names'], keep='first')\n",
        "print(f\"Refined dataset shape: {refined_df.shape}\")\n"
      ]
    },
    {
      "cell_type": "code",
      "execution_count": 36,
      "metadata": {},
      "outputs": [
        {
          "data": {
            "text/html": [
              "<div>\n",
              "<style scoped>\n",
              "    .dataframe tbody tr th:only-of-type {\n",
              "        vertical-align: middle;\n",
              "    }\n",
              "\n",
              "    .dataframe tbody tr th {\n",
              "        vertical-align: top;\n",
              "    }\n",
              "\n",
              "    .dataframe thead th {\n",
              "        text-align: right;\n",
              "    }\n",
              "</style>\n",
              "<table border=\"1\" class=\"dataframe\">\n",
              "  <thead>\n",
              "    <tr style=\"text-align: right;\">\n",
              "      <th></th>\n",
              "      <th>track_id</th>\n",
              "      <th>track_name</th>\n",
              "      <th>artist_names</th>\n",
              "      <th>genres</th>\n",
              "      <th>valence</th>\n",
              "      <th>danceability</th>\n",
              "      <th>energy</th>\n",
              "      <th>mood</th>\n",
              "      <th>album_name</th>\n",
              "      <th>release_date</th>\n",
              "      <th>album_cover_640x640</th>\n",
              "    </tr>\n",
              "  </thead>\n",
              "  <tbody>\n",
              "    <tr>\n",
              "      <th>8439</th>\n",
              "      <td>1LmN9SSHISbtp9LoaR5ZVJ</td>\n",
              "      <td>Payphone</td>\n",
              "      <td>['Maroon 5', 'Wiz Khalifa']</td>\n",
              "      <td>rap, southern hip hop, pop, trap, pop rap, pit...</td>\n",
              "      <td>0.523</td>\n",
              "      <td>0.739</td>\n",
              "      <td>0.7560</td>\n",
              "      <td>Neutral</td>\n",
              "      <td>Overexposed</td>\n",
              "      <td>2021-06-20</td>\n",
              "      <td>https://i.scdn.co/image/ab67616d0000b2733119f4...</td>\n",
              "    </tr>\n",
              "    <tr>\n",
              "      <th>33329</th>\n",
              "      <td>7IfdPERQJutZVYZemjrPBG</td>\n",
              "      <td>Peligrosa</td>\n",
              "      <td>['J Balvin', 'Wisin &amp; Yandel']</td>\n",
              "      <td>trap latino, electro latino, reggaeton, reggae...</td>\n",
              "      <td>0.680</td>\n",
              "      <td>0.769</td>\n",
              "      <td>0.7590</td>\n",
              "      <td>Upbeat</td>\n",
              "      <td>DJ Home Office Vol. 1</td>\n",
              "      <td>2020-11-20</td>\n",
              "      <td>https://i.scdn.co/image/ab67616d0000b273beccbe...</td>\n",
              "    </tr>\n",
              "    <tr>\n",
              "      <th>11850</th>\n",
              "      <td>249gnXrbfmV8NG6jTEMSwD</td>\n",
              "      <td>Life Goes On</td>\n",
              "      <td>['BTS']</td>\n",
              "      <td>pop, k-pop, k-pop boy group</td>\n",
              "      <td>0.450</td>\n",
              "      <td>0.566</td>\n",
              "      <td>0.7160</td>\n",
              "      <td>Neutral</td>\n",
              "      <td>BE</td>\n",
              "      <td>2020-11-20</td>\n",
              "      <td>https://i.scdn.co/image/ab67616d0000b2733deb4b...</td>\n",
              "    </tr>\n",
              "    <tr>\n",
              "      <th>30774</th>\n",
              "      <td>6d97KmrQGLdE6TVfGTW3PD</td>\n",
              "      <td>Mami</td>\n",
              "      <td>['J Balvin']</td>\n",
              "      <td>reggaeton colombiano, urbano latino, trap lati...</td>\n",
              "      <td>0.924</td>\n",
              "      <td>0.727</td>\n",
              "      <td>0.7760</td>\n",
              "      <td>Upbeat</td>\n",
              "      <td>Playa Reggae</td>\n",
              "      <td>2020-11-20</td>\n",
              "      <td>https://i.scdn.co/image/ab67616d0000b273b1bd4d...</td>\n",
              "    </tr>\n",
              "    <tr>\n",
              "      <th>23319</th>\n",
              "      <td>4j9bUBWorNXVrmT2fppDgv</td>\n",
              "      <td>Safari</td>\n",
              "      <td>['J Balvin', 'Pharrell Williams', 'BIA', 'Sky']</td>\n",
              "      <td>rap latina, trap latino, trap queen, pop, danc...</td>\n",
              "      <td>0.604</td>\n",
              "      <td>0.689</td>\n",
              "      <td>0.6750</td>\n",
              "      <td>Upbeat</td>\n",
              "      <td>Baila el dembow</td>\n",
              "      <td>2020-11-20</td>\n",
              "      <td>https://i.scdn.co/image/ab67616d0000b273c41c25...</td>\n",
              "    </tr>\n",
              "    <tr>\n",
              "      <th>...</th>\n",
              "      <td>...</td>\n",
              "      <td>...</td>\n",
              "      <td>...</td>\n",
              "      <td>...</td>\n",
              "      <td>...</td>\n",
              "      <td>...</td>\n",
              "      <td>...</td>\n",
              "      <td>...</td>\n",
              "      <td>...</td>\n",
              "      <td>...</td>\n",
              "      <td>...</td>\n",
              "    </tr>\n",
              "    <tr>\n",
              "      <th>35188</th>\n",
              "      <td>7zrxGPR1UVK2iSK793vLPl</td>\n",
              "      <td>Spanish Pipedream</td>\n",
              "      <td>['John Prine']</td>\n",
              "      <td>folk, new americana, singer-songwriter, roots ...</td>\n",
              "      <td>0.854</td>\n",
              "      <td>0.671</td>\n",
              "      <td>0.4010</td>\n",
              "      <td>Upbeat</td>\n",
              "      <td>John Prine</td>\n",
              "      <td>NaT</td>\n",
              "      <td>https://i.scdn.co/image/ab67616d0000485103c6a7...</td>\n",
              "    </tr>\n",
              "    <tr>\n",
              "      <th>35193</th>\n",
              "      <td>7zto61V8ySp03Qi6X1LU2X</td>\n",
              "      <td>Tin Pan Alley (AKA Roughest Place in Town)</td>\n",
              "      <td>['Stevie Ray Vaughan']</td>\n",
              "      <td>classic rock, instrumental rock, blues, electr...</td>\n",
              "      <td>0.168</td>\n",
              "      <td>0.576</td>\n",
              "      <td>0.0968</td>\n",
              "      <td>Sad</td>\n",
              "      <td>Couldn't Stand The Weather (Legacy Edition)</td>\n",
              "      <td>NaT</td>\n",
              "      <td>https://i.scdn.co/image/ab67616d0000b273eb72e9...</td>\n",
              "    </tr>\n",
              "    <tr>\n",
              "      <th>35194</th>\n",
              "      <td>7zty9mmmuqQsn8s4zDH4nk</td>\n",
              "      <td>メリッサ</td>\n",
              "      <td>['PornoGraffitti']</td>\n",
              "      <td>Unknown</td>\n",
              "      <td>0.799</td>\n",
              "      <td>0.538</td>\n",
              "      <td>0.9280</td>\n",
              "      <td>Upbeat</td>\n",
              "      <td>NaN</td>\n",
              "      <td>NaT</td>\n",
              "      <td>NaN</td>\n",
              "    </tr>\n",
              "    <tr>\n",
              "      <th>35196</th>\n",
              "      <td>7zwNt8YuTz0wXYJEW64jbF</td>\n",
              "      <td>Freak Scene</td>\n",
              "      <td>['Dinosaur Jr.']</td>\n",
              "      <td>slacker rock, lo-fi, power pop, noise rock, al...</td>\n",
              "      <td>0.222</td>\n",
              "      <td>0.290</td>\n",
              "      <td>0.9390</td>\n",
              "      <td>Sad</td>\n",
              "      <td>NaN</td>\n",
              "      <td>NaT</td>\n",
              "      <td>NaN</td>\n",
              "    </tr>\n",
              "    <tr>\n",
              "      <th>35198</th>\n",
              "      <td>7zzbfi8fvHe6hm342GcNYl</td>\n",
              "      <td>Black-Throated Wind</td>\n",
              "      <td>['Bob Weir']</td>\n",
              "      <td>Unknown</td>\n",
              "      <td>0.669</td>\n",
              "      <td>0.533</td>\n",
              "      <td>0.5470</td>\n",
              "      <td>Upbeat</td>\n",
              "      <td>NaN</td>\n",
              "      <td>NaT</td>\n",
              "      <td>NaN</td>\n",
              "    </tr>\n",
              "  </tbody>\n",
              "</table>\n",
              "<p>33234 rows × 11 columns</p>\n",
              "</div>"
            ],
            "text/plain": [
              "                     track_id                                  track_name  \\\n",
              "8439   1LmN9SSHISbtp9LoaR5ZVJ                                    Payphone   \n",
              "33329  7IfdPERQJutZVYZemjrPBG                                   Peligrosa   \n",
              "11850  249gnXrbfmV8NG6jTEMSwD                                Life Goes On   \n",
              "30774  6d97KmrQGLdE6TVfGTW3PD                                        Mami   \n",
              "23319  4j9bUBWorNXVrmT2fppDgv                                      Safari   \n",
              "...                       ...                                         ...   \n",
              "35188  7zrxGPR1UVK2iSK793vLPl                           Spanish Pipedream   \n",
              "35193  7zto61V8ySp03Qi6X1LU2X  Tin Pan Alley (AKA Roughest Place in Town)   \n",
              "35194  7zty9mmmuqQsn8s4zDH4nk                                        メリッサ   \n",
              "35196  7zwNt8YuTz0wXYJEW64jbF                                 Freak Scene   \n",
              "35198  7zzbfi8fvHe6hm342GcNYl                         Black-Throated Wind   \n",
              "\n",
              "                                          artist_names  \\\n",
              "8439                       ['Maroon 5', 'Wiz Khalifa']   \n",
              "33329                   ['J Balvin', 'Wisin & Yandel']   \n",
              "11850                                          ['BTS']   \n",
              "30774                                     ['J Balvin']   \n",
              "23319  ['J Balvin', 'Pharrell Williams', 'BIA', 'Sky']   \n",
              "...                                                ...   \n",
              "35188                                   ['John Prine']   \n",
              "35193                           ['Stevie Ray Vaughan']   \n",
              "35194                               ['PornoGraffitti']   \n",
              "35196                                 ['Dinosaur Jr.']   \n",
              "35198                                     ['Bob Weir']   \n",
              "\n",
              "                                                  genres  valence  \\\n",
              "8439   rap, southern hip hop, pop, trap, pop rap, pit...    0.523   \n",
              "33329  trap latino, electro latino, reggaeton, reggae...    0.680   \n",
              "11850                        pop, k-pop, k-pop boy group    0.450   \n",
              "30774  reggaeton colombiano, urbano latino, trap lati...    0.924   \n",
              "23319  rap latina, trap latino, trap queen, pop, danc...    0.604   \n",
              "...                                                  ...      ...   \n",
              "35188  folk, new americana, singer-songwriter, roots ...    0.854   \n",
              "35193  classic rock, instrumental rock, blues, electr...    0.168   \n",
              "35194                                            Unknown    0.799   \n",
              "35196  slacker rock, lo-fi, power pop, noise rock, al...    0.222   \n",
              "35198                                            Unknown    0.669   \n",
              "\n",
              "       danceability  energy     mood  \\\n",
              "8439          0.739  0.7560  Neutral   \n",
              "33329         0.769  0.7590   Upbeat   \n",
              "11850         0.566  0.7160  Neutral   \n",
              "30774         0.727  0.7760   Upbeat   \n",
              "23319         0.689  0.6750   Upbeat   \n",
              "...             ...     ...      ...   \n",
              "35188         0.671  0.4010   Upbeat   \n",
              "35193         0.576  0.0968      Sad   \n",
              "35194         0.538  0.9280   Upbeat   \n",
              "35196         0.290  0.9390      Sad   \n",
              "35198         0.533  0.5470   Upbeat   \n",
              "\n",
              "                                        album_name release_date  \\\n",
              "8439                                   Overexposed   2021-06-20   \n",
              "33329                        DJ Home Office Vol. 1   2020-11-20   \n",
              "11850                                           BE   2020-11-20   \n",
              "30774                                 Playa Reggae   2020-11-20   \n",
              "23319                              Baila el dembow   2020-11-20   \n",
              "...                                            ...          ...   \n",
              "35188                                   John Prine          NaT   \n",
              "35193  Couldn't Stand The Weather (Legacy Edition)          NaT   \n",
              "35194                                          NaN          NaT   \n",
              "35196                                          NaN          NaT   \n",
              "35198                                          NaN          NaT   \n",
              "\n",
              "                                     album_cover_640x640  \n",
              "8439   https://i.scdn.co/image/ab67616d0000b2733119f4...  \n",
              "33329  https://i.scdn.co/image/ab67616d0000b273beccbe...  \n",
              "11850  https://i.scdn.co/image/ab67616d0000b2733deb4b...  \n",
              "30774  https://i.scdn.co/image/ab67616d0000b273b1bd4d...  \n",
              "23319  https://i.scdn.co/image/ab67616d0000b273c41c25...  \n",
              "...                                                  ...  \n",
              "35188  https://i.scdn.co/image/ab67616d0000485103c6a7...  \n",
              "35193  https://i.scdn.co/image/ab67616d0000b273eb72e9...  \n",
              "35194                                                NaN  \n",
              "35196                                                NaN  \n",
              "35198                                                NaN  \n",
              "\n",
              "[33234 rows x 11 columns]"
            ]
          },
          "execution_count": 36,
          "metadata": {},
          "output_type": "execute_result"
        }
      ],
      "source": [
        "refined_df"
      ]
    },
    {
      "cell_type": "code",
      "execution_count": 37,
      "metadata": {},
      "outputs": [
        {
          "name": "stdout",
          "output_type": "stream",
          "text": [
            "Refined dataset shape: (33234, 11)\n"
          ]
        }
      ],
      "source": [
        "refined_df.to_csv('D:\\\\snap_tune_final\\\\snap_tune_project\\\\proceesed_songs\\\\processed_songs_refined.csv', index=False)\n",
        "print(\"Refined dataset shape:\", refined_df.shape)\n"
      ]
    },
    {
      "cell_type": "markdown",
      "metadata": {},
      "source": [
        "# check for few duplicates rows\n"
      ]
    },
    {
      "cell_type": "code",
      "execution_count": 38,
      "metadata": {},
      "outputs": [
        {
          "name": "stdout",
          "output_type": "stream",
          "text": [
            "Duplicate rows (keeping the first occurrence as unique):\n",
            "Empty DataFrame\n",
            "Columns: [track_id, track_name, artist_names, genres, valence, danceability, energy, mood, album_name, release_date, album_cover_640x640]\n",
            "Index: []\n"
          ]
        }
      ],
      "source": [
        "\n",
        "\n",
        "duplicate_rows = refined_df[refined_df.duplicated()]\n",
        "print(\"Duplicate rows (keeping the first occurrence as unique):\")\n",
        "print(duplicate_rows)"
      ]
    },
    {
      "cell_type": "code",
      "execution_count": 39,
      "metadata": {},
      "outputs": [
        {
          "data": {
            "text/plain": [
              "Index(['track_id', 'track_name', 'artist_names', 'genres', 'valence',\n",
              "       'danceability', 'energy', 'mood', 'album_name', 'release_date',\n",
              "       'album_cover_640x640'],\n",
              "      dtype='object')"
            ]
          },
          "execution_count": 39,
          "metadata": {},
          "output_type": "execute_result"
        }
      ],
      "source": [
        "refined_df.columns  #check for the columns in the dataframe\n"
      ]
    },
    {
      "cell_type": "code",
      "execution_count": 40,
      "metadata": {},
      "outputs": [
        {
          "data": {
            "text/plain": [
              "array(['Neutral', 'Upbeat', 'Sad'], dtype=object)"
            ]
          },
          "execution_count": 40,
          "metadata": {},
          "output_type": "execute_result"
        }
      ],
      "source": [
        "refined_df['mood'].unique()  #check for the unique values"
      ]
    },
    {
      "cell_type": "code",
      "execution_count": 41,
      "metadata": {},
      "outputs": [
        {
          "data": {
            "text/plain": [
              "track_id                   0\n",
              "track_name                 0\n",
              "artist_names               0\n",
              "genres                     0\n",
              "valence                    0\n",
              "danceability               0\n",
              "energy                     0\n",
              "mood                       0\n",
              "album_name              5883\n",
              "release_date           14554\n",
              "album_cover_640x640     5883\n",
              "dtype: int64"
            ]
          },
          "execution_count": 41,
          "metadata": {},
          "output_type": "execute_result"
        }
      ],
      "source": [
        "refined_df.isnull().sum()  #chec for null columns "
      ]
    },
    {
      "cell_type": "code",
      "execution_count": 42,
      "metadata": {},
      "outputs": [
        {
          "name": "stdout",
          "output_type": "stream",
          "text": [
            "8439     rap, southern hip hop, pop, trap, pop rap, pit...\n",
            "33329    trap latino, electro latino, reggaeton, reggae...\n",
            "11850                          pop, k-pop, k-pop boy group\n",
            "30774    reggaeton colombiano, urbano latino, trap lati...\n",
            "23319    rap latina, trap latino, trap queen, pop, danc...\n",
            "20872    reggaeton colombiano, urbano latino, trap lati...\n",
            "18561    trap latino, latin hip hop, reggaeton, reggaet...\n",
            "30413    reggaeton colombiano, urbano latino, trap lati...\n",
            "30831    r&b, trap latino, pop, pop dance, reggaeton, r...\n",
            "22012    reggaeton colombiano, urbano latino, trap lati...\n",
            "Name: genres, dtype: object\n",
            "8439                         ['Maroon 5', 'Wiz Khalifa']\n",
            "33329                     ['J Balvin', 'Wisin & Yandel']\n",
            "11850                                            ['BTS']\n",
            "30774                                       ['J Balvin']\n",
            "23319    ['J Balvin', 'Pharrell Williams', 'BIA', 'Sky']\n",
            "20872                                       ['J Balvin']\n",
            "18561                       ['J Balvin', 'Daddy Yankee']\n",
            "30413                                       ['J Balvin']\n",
            "30831           ['J Balvin', 'Willy William', 'Beyoncé']\n",
            "22012                                       ['J Balvin']\n",
            "Name: artist_names, dtype: object\n"
          ]
        }
      ],
      "source": [
        "print(refined_df['genres'].head(10)) #print first 10 generes\n",
        "print(refined_df['artist_names'].head(10)) #print first 10 artists names "
      ]
    },
    {
      "cell_type": "code",
      "execution_count": 43,
      "metadata": {},
      "outputs": [
        {
          "name": "stdout",
          "output_type": "stream",
          "text": [
            "mood_encoded    1.000000\n",
            "valence         0.574561\n",
            "danceability    0.271144\n",
            "energy          0.172178\n",
            "Name: mood_encoded, dtype: float64\n"
          ]
        }
      ],
      "source": [
        "df_temp = deduped_df.copy()\n",
        "df_temp['mood_encoded'] = df_temp['mood'].astype('category').cat.codes\n",
        "\n",
        "print(df_temp.corr(numeric_only=True)['mood_encoded'].sort_values(ascending=False))\n"
      ]
    },
    {
      "cell_type": "code",
      "execution_count": 45,
      "metadata": {},
      "outputs": [
        {
          "data": {
            "text/plain": [
              "mood\n",
              "Upbeat     16264\n",
              "Sad        10594\n",
              "Neutral     8342\n",
              "Name: count, dtype: int64"
            ]
          },
          "execution_count": 45,
          "metadata": {},
          "output_type": "execute_result"
        }
      ],
      "source": [
        "deduped_df['mood'].value_counts()   #check for the count of the values  OR count the unique values\n",
        "\n"
      ]
    },
    {
      "cell_type": "markdown",
      "metadata": {},
      "source": [
        "# MUSIC SENTIMENT DATA SETS"
      ]
    },
    {
      "cell_type": "code",
      "execution_count": 27,
      "metadata": {},
      "outputs": [],
      "source": [
        "#load the data sets\n",
        "music_sentiment_df=pd.read_csv('D:\\\\snap_tune_final\\\\snap_tune_project\\\\datas\\\\music_sentiment_data-set\\\\music_sentiment_dataset.csv')"
      ]
    },
    {
      "cell_type": "code",
      "execution_count": 28,
      "metadata": {},
      "outputs": [
        {
          "data": {
            "text/html": [
              "<div>\n",
              "<style scoped>\n",
              "    .dataframe tbody tr th:only-of-type {\n",
              "        vertical-align: middle;\n",
              "    }\n",
              "\n",
              "    .dataframe tbody tr th {\n",
              "        vertical-align: top;\n",
              "    }\n",
              "\n",
              "    .dataframe thead th {\n",
              "        text-align: right;\n",
              "    }\n",
              "</style>\n",
              "<table border=\"1\" class=\"dataframe\">\n",
              "  <thead>\n",
              "    <tr style=\"text-align: right;\">\n",
              "      <th></th>\n",
              "      <th>User_ID</th>\n",
              "      <th>User_Text</th>\n",
              "      <th>Sentiment_Label</th>\n",
              "      <th>Recommended_Song_ID</th>\n",
              "      <th>Song_Name</th>\n",
              "      <th>Artist</th>\n",
              "      <th>Genre</th>\n",
              "      <th>Tempo (BPM)</th>\n",
              "      <th>Mood</th>\n",
              "      <th>Energy</th>\n",
              "      <th>Danceability</th>\n",
              "    </tr>\n",
              "  </thead>\n",
              "  <tbody>\n",
              "    <tr>\n",
              "      <th>0</th>\n",
              "      <td>U1</td>\n",
              "      <td>Way ball purpose public experience recently re...</td>\n",
              "      <td>Sad</td>\n",
              "      <td>S1</td>\n",
              "      <td>Someone Like You</td>\n",
              "      <td>Adele</td>\n",
              "      <td>Pop</td>\n",
              "      <td>67</td>\n",
              "      <td>Melancholic</td>\n",
              "      <td>Low</td>\n",
              "      <td>Low</td>\n",
              "    </tr>\n",
              "    <tr>\n",
              "      <th>1</th>\n",
              "      <td>U2</td>\n",
              "      <td>Save officer two myself a.</td>\n",
              "      <td>Happy</td>\n",
              "      <td>S2</td>\n",
              "      <td>Happy</td>\n",
              "      <td>Pharrell Williams</td>\n",
              "      <td>Pop</td>\n",
              "      <td>160</td>\n",
              "      <td>Joyful</td>\n",
              "      <td>High</td>\n",
              "      <td>High</td>\n",
              "    </tr>\n",
              "    <tr>\n",
              "      <th>2</th>\n",
              "      <td>U3</td>\n",
              "      <td>Decade ahead everyone environment themselves a...</td>\n",
              "      <td>Relaxed</td>\n",
              "      <td>S3</td>\n",
              "      <td>Clair de Lune</td>\n",
              "      <td>Debussy</td>\n",
              "      <td>Classical</td>\n",
              "      <td>60</td>\n",
              "      <td>Soothing</td>\n",
              "      <td>Low</td>\n",
              "      <td>Low</td>\n",
              "    </tr>\n",
              "    <tr>\n",
              "      <th>3</th>\n",
              "      <td>U4</td>\n",
              "      <td>Best change letter citizen try ask quality pro...</td>\n",
              "      <td>Happy</td>\n",
              "      <td>S4</td>\n",
              "      <td>Happy</td>\n",
              "      <td>Pharrell Williams</td>\n",
              "      <td>Pop</td>\n",
              "      <td>160</td>\n",
              "      <td>Joyful</td>\n",
              "      <td>High</td>\n",
              "      <td>High</td>\n",
              "    </tr>\n",
              "    <tr>\n",
              "      <th>4</th>\n",
              "      <td>U5</td>\n",
              "      <td>Worker player chance kind actually.</td>\n",
              "      <td>Happy</td>\n",
              "      <td>S5</td>\n",
              "      <td>Happy</td>\n",
              "      <td>Pharrell Williams</td>\n",
              "      <td>Pop</td>\n",
              "      <td>160</td>\n",
              "      <td>Joyful</td>\n",
              "      <td>High</td>\n",
              "      <td>High</td>\n",
              "    </tr>\n",
              "    <tr>\n",
              "      <th>...</th>\n",
              "      <td>...</td>\n",
              "      <td>...</td>\n",
              "      <td>...</td>\n",
              "      <td>...</td>\n",
              "      <td>...</td>\n",
              "      <td>...</td>\n",
              "      <td>...</td>\n",
              "      <td>...</td>\n",
              "      <td>...</td>\n",
              "      <td>...</td>\n",
              "      <td>...</td>\n",
              "    </tr>\n",
              "    <tr>\n",
              "      <th>995</th>\n",
              "      <td>U996</td>\n",
              "      <td>Where carry sit argue through street.</td>\n",
              "      <td>Relaxed</td>\n",
              "      <td>S996</td>\n",
              "      <td>Clair de Lune</td>\n",
              "      <td>Debussy</td>\n",
              "      <td>Classical</td>\n",
              "      <td>60</td>\n",
              "      <td>Soothing</td>\n",
              "      <td>Low</td>\n",
              "      <td>Low</td>\n",
              "    </tr>\n",
              "    <tr>\n",
              "      <th>996</th>\n",
              "      <td>U997</td>\n",
              "      <td>Agreement state up hope free manage outside.</td>\n",
              "      <td>Happy</td>\n",
              "      <td>S997</td>\n",
              "      <td>Happy</td>\n",
              "      <td>Pharrell Williams</td>\n",
              "      <td>Pop</td>\n",
              "      <td>160</td>\n",
              "      <td>Joyful</td>\n",
              "      <td>High</td>\n",
              "      <td>High</td>\n",
              "    </tr>\n",
              "    <tr>\n",
              "      <th>997</th>\n",
              "      <td>U998</td>\n",
              "      <td>Particular else challenge ball.</td>\n",
              "      <td>Relaxed</td>\n",
              "      <td>S998</td>\n",
              "      <td>Clair de Lune</td>\n",
              "      <td>Debussy</td>\n",
              "      <td>Classical</td>\n",
              "      <td>60</td>\n",
              "      <td>Soothing</td>\n",
              "      <td>Low</td>\n",
              "      <td>Low</td>\n",
              "    </tr>\n",
              "    <tr>\n",
              "      <th>998</th>\n",
              "      <td>U999</td>\n",
              "      <td>Much level someone.</td>\n",
              "      <td>Relaxed</td>\n",
              "      <td>S999</td>\n",
              "      <td>Weightless</td>\n",
              "      <td>Marconi Union</td>\n",
              "      <td>Ambient</td>\n",
              "      <td>50</td>\n",
              "      <td>Calm</td>\n",
              "      <td>Low</td>\n",
              "      <td>Low</td>\n",
              "    </tr>\n",
              "    <tr>\n",
              "      <th>999</th>\n",
              "      <td>U1000</td>\n",
              "      <td>Appear the two score.</td>\n",
              "      <td>Relaxed</td>\n",
              "      <td>S1000</td>\n",
              "      <td>Weightless</td>\n",
              "      <td>Marconi Union</td>\n",
              "      <td>Ambient</td>\n",
              "      <td>50</td>\n",
              "      <td>Calm</td>\n",
              "      <td>Low</td>\n",
              "      <td>Low</td>\n",
              "    </tr>\n",
              "  </tbody>\n",
              "</table>\n",
              "<p>1000 rows × 11 columns</p>\n",
              "</div>"
            ],
            "text/plain": [
              "    User_ID                                          User_Text  \\\n",
              "0        U1  Way ball purpose public experience recently re...   \n",
              "1        U2                         Save officer two myself a.   \n",
              "2        U3  Decade ahead everyone environment themselves a...   \n",
              "3        U4  Best change letter citizen try ask quality pro...   \n",
              "4        U5                Worker player chance kind actually.   \n",
              "..      ...                                                ...   \n",
              "995    U996              Where carry sit argue through street.   \n",
              "996    U997       Agreement state up hope free manage outside.   \n",
              "997    U998                    Particular else challenge ball.   \n",
              "998    U999                                Much level someone.   \n",
              "999   U1000                              Appear the two score.   \n",
              "\n",
              "    Sentiment_Label Recommended_Song_ID         Song_Name             Artist  \\\n",
              "0               Sad                  S1  Someone Like You              Adele   \n",
              "1             Happy                  S2             Happy  Pharrell Williams   \n",
              "2           Relaxed                  S3     Clair de Lune            Debussy   \n",
              "3             Happy                  S4             Happy  Pharrell Williams   \n",
              "4             Happy                  S5             Happy  Pharrell Williams   \n",
              "..              ...                 ...               ...                ...   \n",
              "995         Relaxed                S996     Clair de Lune            Debussy   \n",
              "996           Happy                S997             Happy  Pharrell Williams   \n",
              "997         Relaxed                S998     Clair de Lune            Debussy   \n",
              "998         Relaxed                S999        Weightless      Marconi Union   \n",
              "999         Relaxed               S1000        Weightless      Marconi Union   \n",
              "\n",
              "         Genre  Tempo (BPM)         Mood Energy Danceability  \n",
              "0          Pop           67  Melancholic    Low          Low  \n",
              "1          Pop          160       Joyful   High         High  \n",
              "2    Classical           60     Soothing    Low          Low  \n",
              "3          Pop          160       Joyful   High         High  \n",
              "4          Pop          160       Joyful   High         High  \n",
              "..         ...          ...          ...    ...          ...  \n",
              "995  Classical           60     Soothing    Low          Low  \n",
              "996        Pop          160       Joyful   High         High  \n",
              "997  Classical           60     Soothing    Low          Low  \n",
              "998    Ambient           50         Calm    Low          Low  \n",
              "999    Ambient           50         Calm    Low          Low  \n",
              "\n",
              "[1000 rows x 11 columns]"
            ]
          },
          "execution_count": 28,
          "metadata": {},
          "output_type": "execute_result"
        }
      ],
      "source": [
        "music_sentiment_df"
      ]
    },
    {
      "cell_type": "code",
      "execution_count": 29,
      "metadata": {},
      "outputs": [
        {
          "data": {
            "text/plain": [
              "(1000, 11)"
            ]
          },
          "execution_count": 29,
          "metadata": {},
          "output_type": "execute_result"
        }
      ],
      "source": [
        "#MUSIC SENTIMENT DATASET\n",
        "music_sentiment_df.shape"
      ]
    },
    {
      "cell_type": "code",
      "execution_count": 30,
      "metadata": {},
      "outputs": [
        {
          "name": "stdout",
          "output_type": "stream",
          "text": [
            "<class 'pandas.core.frame.DataFrame'>\n",
            "RangeIndex: 1000 entries, 0 to 999\n",
            "Data columns (total 11 columns):\n",
            " #   Column               Non-Null Count  Dtype \n",
            "---  ------               --------------  ----- \n",
            " 0   User_ID              1000 non-null   object\n",
            " 1   User_Text            1000 non-null   object\n",
            " 2   Sentiment_Label      1000 non-null   object\n",
            " 3   Recommended_Song_ID  1000 non-null   object\n",
            " 4   Song_Name            1000 non-null   object\n",
            " 5   Artist               1000 non-null   object\n",
            " 6   Genre                1000 non-null   object\n",
            " 7   Tempo (BPM)          1000 non-null   int64 \n",
            " 8   Mood                 1000 non-null   object\n",
            " 9   Energy               1000 non-null   object\n",
            " 10  Danceability         1000 non-null   object\n",
            "dtypes: int64(1), object(10)\n",
            "memory usage: 86.1+ KB\n"
          ]
        }
      ],
      "source": [
        "music_sentiment_df.info()"
      ]
    },
    {
      "cell_type": "code",
      "execution_count": 31,
      "metadata": {},
      "outputs": [
        {
          "data": {
            "text/plain": [
              "Index(['User_ID', 'User_Text', 'Sentiment_Label', 'Recommended_Song_ID',\n",
              "       'Song_Name', 'Artist', 'Genre', 'Tempo (BPM)', 'Mood', 'Energy',\n",
              "       'Danceability'],\n",
              "      dtype='object')"
            ]
          },
          "execution_count": 31,
          "metadata": {},
          "output_type": "execute_result"
        }
      ],
      "source": [
        "music_sentiment_df.columns"
      ]
    },
    {
      "cell_type": "code",
      "execution_count": 46,
      "metadata": {},
      "outputs": [
        {
          "name": "stdout",
          "output_type": "stream",
          "text": [
            "Number of repeated rows: 0\n"
          ]
        }
      ],
      "source": [
        "repeated_rows = music_sentiment_df[music_sentiment_df.duplicated()]\n",
        "print(f\"Number of repeated rows: {len(repeated_rows)}\")"
      ]
    },
    {
      "cell_type": "code",
      "execution_count": 47,
      "metadata": {},
      "outputs": [
        {
          "data": {
            "text/plain": [
              "User_ID                0\n",
              "User_Text              0\n",
              "Sentiment_Label        0\n",
              "Recommended_Song_ID    0\n",
              "Song_Name              0\n",
              "Artist                 0\n",
              "Genre                  0\n",
              "Tempo (BPM)            0\n",
              "Mood                   0\n",
              "Energy                 0\n",
              "Danceability           0\n",
              "dtype: int64"
            ]
          },
          "execution_count": 47,
          "metadata": {},
          "output_type": "execute_result"
        }
      ],
      "source": [
        "music_sentiment_df.isnull().sum()  #check for null columns"
      ]
    },
    {
      "cell_type": "markdown",
      "metadata": {},
      "source": [
        "# SPOTIFY API DATA EXTRACTIONS "
      ]
    },
    {
      "cell_type": "code",
      "execution_count": 67,
      "metadata": {},
      "outputs": [],
      "source": [
        "import spotipy\n",
        "from spotipy.oauth2 import SpotifyOAuth\n",
        "\n",
        "sp = spotipy.Spotify(auth_manager=SpotifyOAuth(\n",
        "    client_id='1a2f9e1a1da04977a83af40d5fa04a33',\n",
        "    client_secret='32fab8c0c8a145e78a0a6e3bd9308fde',\n",
        "    redirect_uri='http://127.0.0.1:5000/callback',\n",
        "    scope='user-library-read user-read-private playlist-read-private'\n",
        "))"
      ]
    },
    {
      "cell_type": "code",
      "execution_count": 68,
      "metadata": {},
      "outputs": [
        {
          "name": "stderr",
          "output_type": "stream",
          "text": [
            "HTTP Error for GET to https://api.spotify.com/v1/audio-features/?ids=63fzyQDlfUvWsWqwCgZU7H with Params: {} returned 403 due to None\n"
          ]
        },
        {
          "name": "stdout",
          "output_type": "stream",
          "text": [
            "Error on single track: 403, https://api.spotify.com/v1/audio-features/?ids=63fzyQDlfUvWsWqwCgZU7H:\n",
            " None, None\n",
            "Full error response: {'http_status': 403, 'code': -1, 'msg': 'https://api.spotify.com/v1/audio-features/?ids=63fzyQDlfUvWsWqwCgZU7H:\\n None', 'reason': None, 'headers': {'content-type': 'application/json; charset=utf-8', 'cache-control': 'private, max-age=0', 'access-control-allow-origin': '*', 'access-control-allow-headers': 'Accept, App-Platform, Authorization, Content-Type, Origin, Retry-After, Spotify-App-Version, X-Cloud-Trace-Context, client-token, content-access-token', 'access-control-allow-methods': 'GET, POST, OPTIONS, PUT, DELETE, PATCH', 'access-control-allow-credentials': 'true', 'access-control-max-age': '604800', 'content-encoding': 'gzip', 'strict-transport-security': 'max-age=31536000', 'x-content-type-options': 'nosniff', 'alt-svc': 'h3=\":443\"; ma=2592000,h3-29=\":443\"; ma=2592000, h3=\":443\"; ma=2592000,h3-29=\":443\"; ma=2592000', 'date': 'Fri, 11 Jul 2025 13:25:37 GMT', 'server': 'envoy', 'Via': 'HTTP/2 edgeproxy, 1.1 google', 'Transfer-Encoding': 'chunked'}}\n"
          ]
        }
      ],
      "source": [
        "test_track = \"63fzyQDlfUvWsWqwCgZU7H\"\n",
        "try:\n",
        "    features = sp.audio_features([test_track])\n",
        "    print(f\"Test track features: {features}\")\n",
        "except Exception as e:\n",
        "    print(f\"Error on single track: {e.http_status}, {e.msg}, {e.reason}\")\n",
        "    print(f\"Full error response: {e.__dict__}\")"
      ]
    },
    {
      "cell_type": "code",
      "execution_count": 66,
      "metadata": {},
      "outputs": [
        {
          "name": "stdout",
          "output_type": "stream",
          "text": [
            "Track name: Mosang Ege, Available markets: ['AR', 'AU', 'AT', 'BE', 'BO', 'BR', 'BG', 'CA', 'CL', 'CO', 'CR', 'CY', 'CZ', 'DK', 'DO', 'DE', 'EC', 'EE', 'SV', 'FI', 'FR', 'GR', 'GT', 'HN', 'HK', 'HU', 'IS', 'IE', 'IT', 'LV', 'LT', 'LU', 'MY', 'MT', 'MX', 'NL', 'NZ', 'NI', 'NO', 'PA', 'PY', 'PE', 'PH', 'PL', 'PT', 'SG', 'SK', 'ES', 'SE', 'CH', 'TW', 'TR', 'UY', 'US', 'GB', 'AD', 'LI', 'MC', 'ID', 'JP', 'TH', 'VN', 'RO', 'IL', 'ZA', 'SA', 'AE', 'BH', 'QA', 'OM', 'KW', 'EG', 'MA', 'DZ', 'TN', 'LB', 'JO', 'PS', 'IN', 'BY', 'KZ', 'MD', 'UA', 'AL', 'BA', 'HR', 'ME', 'MK', 'RS', 'SI', 'KR', 'BD', 'PK', 'LK', 'GH', 'KE', 'NG', 'TZ', 'UG', 'AG', 'AM', 'BS', 'BB', 'BZ', 'BT', 'BW', 'BF', 'CV', 'CW', 'DM', 'FJ', 'GM', 'GE', 'GD', 'GW', 'GY', 'HT', 'JM', 'KI', 'LS', 'LR', 'MW', 'MV', 'ML', 'MH', 'FM', 'NA', 'NR', 'NE', 'PW', 'PG', 'PR', 'WS', 'SM', 'ST', 'SN', 'SC', 'SL', 'SB', 'KN', 'LC', 'VC', 'SR', 'TL', 'TO', 'TT', 'TV', 'VU', 'AZ', 'BN', 'BI', 'KH', 'CM', 'TD', 'KM', 'GQ', 'SZ', 'GA', 'GN', 'KG', 'LA', 'MO', 'MR', 'MN', 'NP', 'RW', 'TG', 'UZ', 'ZW', 'BJ', 'MG', 'MU', 'MZ', 'AO', 'CI', 'DJ', 'ZM', 'CD', 'CG', 'IQ', 'LY', 'TJ', 'VE', 'ET', 'XK']\n"
          ]
        }
      ],
      "source": [
        "try:\n",
        "    track_info = sp.track(test_track)\n",
        "    print(f\"Track name: {track_info['name']}, Available markets: {track_info['available_markets']}\")\n",
        "except Exception as e:\n",
        "    print(f\"Error fetching track info: {e}\")"
      ]
    },
    {
      "cell_type": "code",
      "execution_count": null,
      "metadata": {},
      "outputs": [],
      "source": []
    }
  ],
  "metadata": {
    "colab": {
      "provenance": []
    },
    "kernelspec": {
      "display_name": "env",
      "language": "python",
      "name": "python3"
    },
    "language_info": {
      "codemirror_mode": {
        "name": "ipython",
        "version": 3
      },
      "file_extension": ".py",
      "mimetype": "text/x-python",
      "name": "python",
      "nbconvert_exporter": "python",
      "pygments_lexer": "ipython3",
      "version": "3.13.1"
    }
  },
  "nbformat": 4,
  "nbformat_minor": 0
}
